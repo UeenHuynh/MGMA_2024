{
  "cells": [
    {
      "cell_type": "code",
      "execution_count": 1,
      "metadata": {
        "colab": {
          "base_uri": "https://localhost:8080/",
          "height": 267
        },
        "id": "2b2YovG6swLR",
        "outputId": "a9e326a6-c2ea-47be-e35e-2c11c4e54ad4"
      },
      "outputs": [
        {
          "output_type": "display_data",
          "data": {
            "text/plain": [
              "\u001b[2;36m[13:34:24]\u001b[0m\u001b[2;36m \u001b[0m🐍 Downloading miniforge\u001b[33m...\u001b[0m                                            \u001b[2m<ipython-input-1-b0eced0c74ec>:67\u001b[0m\n"
            ],
            "text/html": [
              "<pre style=\"white-space:pre;overflow-x:auto;line-height:normal;font-family:Menlo,'DejaVu Sans Mono',consolas,'Courier New',monospace\"><span style=\"color: #7fbfbf; text-decoration-color: #7fbfbf\">[13:34:24] </span>🐍 Downloading miniforge<span style=\"color: #808000; text-decoration-color: #808000\">...</span>                                            <span style=\"color: #7f7f7f; text-decoration-color: #7f7f7f\">&lt;ipython-input-1-b0eced0c74ec&gt;:67</span>\n",
              "</pre>\n"
            ]
          },
          "metadata": {}
        },
        {
          "output_type": "display_data",
          "data": {
            "text/plain": [
              "\u001b[2;36m          \u001b[0m\u001b[2;36m \u001b[0m\u001b[34m🐍 Done.\u001b[0m                                                               \u001b[2m<ipython-input-1-b0eced0c74ec>:73\u001b[0m\n"
            ],
            "text/html": [
              "<pre style=\"white-space:pre;overflow-x:auto;line-height:normal;font-family:Menlo,'DejaVu Sans Mono',consolas,'Courier New',monospace\"><span style=\"color: #7fbfbf; text-decoration-color: #7fbfbf\">           </span><span style=\"color: #000080; text-decoration-color: #000080\">🐍 Done.</span>                                                               <span style=\"color: #7f7f7f; text-decoration-color: #7f7f7f\">&lt;ipython-input-1-b0eced0c74ec&gt;:73</span>\n",
              "</pre>\n"
            ]
          },
          "metadata": {}
        },
        {
          "output_type": "display_data",
          "data": {
            "text/plain": [
              "\u001b[2;36m          \u001b[0m\u001b[2;36m \u001b[0m🐍 Installing miniforge\u001b[33m...\u001b[0m                                             \u001b[2m<ipython-input-1-b0eced0c74ec>:67\u001b[0m\n"
            ],
            "text/html": [
              "<pre style=\"white-space:pre;overflow-x:auto;line-height:normal;font-family:Menlo,'DejaVu Sans Mono',consolas,'Courier New',monospace\"><span style=\"color: #7fbfbf; text-decoration-color: #7fbfbf\">           </span>🐍 Installing miniforge<span style=\"color: #808000; text-decoration-color: #808000\">...</span>                                             <span style=\"color: #7f7f7f; text-decoration-color: #7f7f7f\">&lt;ipython-input-1-b0eced0c74ec&gt;:67</span>\n",
              "</pre>\n"
            ]
          },
          "metadata": {}
        },
        {
          "output_type": "display_data",
          "data": {
            "text/plain": [
              "\u001b[2;36m[13:34:38]\u001b[0m\u001b[2;36m \u001b[0m\u001b[34m🐍 Installed miniforge to `\u001b[0m\u001b[34m/usr/\u001b[0m\u001b[34mlocal\u001b[0m\u001b[34m`.\u001b[0m                                \u001b[2m<ipython-input-1-b0eced0c74ec>:73\u001b[0m\n"
            ],
            "text/html": [
              "<pre style=\"white-space:pre;overflow-x:auto;line-height:normal;font-family:Menlo,'DejaVu Sans Mono',consolas,'Courier New',monospace\"><span style=\"color: #7fbfbf; text-decoration-color: #7fbfbf\">[13:34:38] </span><span style=\"color: #000080; text-decoration-color: #000080\">🐍 Installed miniforge to `/usr/local`.</span>                                <span style=\"color: #7f7f7f; text-decoration-color: #7f7f7f\">&lt;ipython-input-1-b0eced0c74ec&gt;:73</span>\n",
              "</pre>\n"
            ]
          },
          "metadata": {}
        },
        {
          "output_type": "display_data",
          "data": {
            "text/plain": [
              "\u001b[2;36m          \u001b[0m\u001b[2;36m \u001b[0m🔍 Downloading Qiime \u001b[1;36m2\u001b[0m package list\u001b[33m...\u001b[0m                                 \u001b[2m<ipython-input-1-b0eced0c74ec>:67\u001b[0m\n"
            ],
            "text/html": [
              "<pre style=\"white-space:pre;overflow-x:auto;line-height:normal;font-family:Menlo,'DejaVu Sans Mono',consolas,'Courier New',monospace\"><span style=\"color: #7fbfbf; text-decoration-color: #7fbfbf\">           </span>🔍 Downloading Qiime <span style=\"color: #008080; text-decoration-color: #008080; font-weight: bold\">2</span> package list<span style=\"color: #808000; text-decoration-color: #808000\">...</span>                                 <span style=\"color: #7f7f7f; text-decoration-color: #7f7f7f\">&lt;ipython-input-1-b0eced0c74ec&gt;:67</span>\n",
              "</pre>\n"
            ]
          },
          "metadata": {}
        },
        {
          "output_type": "display_data",
          "data": {
            "text/plain": [
              "\u001b[2;36m          \u001b[0m\u001b[2;36m \u001b[0m\u001b[34m🔍 Done.\u001b[0m                                                               \u001b[2m<ipython-input-1-b0eced0c74ec>:73\u001b[0m\n"
            ],
            "text/html": [
              "<pre style=\"white-space:pre;overflow-x:auto;line-height:normal;font-family:Menlo,'DejaVu Sans Mono',consolas,'Courier New',monospace\"><span style=\"color: #7fbfbf; text-decoration-color: #7fbfbf\">           </span><span style=\"color: #000080; text-decoration-color: #000080\">🔍 Done.</span>                                                               <span style=\"color: #7f7f7f; text-decoration-color: #7f7f7f\">&lt;ipython-input-1-b0eced0c74ec&gt;:73</span>\n",
              "</pre>\n"
            ]
          },
          "metadata": {}
        },
        {
          "output_type": "display_data",
          "data": {
            "text/plain": [
              "\u001b[2;36m          \u001b[0m\u001b[2;36m \u001b[0m🔍 Installing Qiime \u001b[1;36m2\u001b[0m. This may take a little bit.                     \u001b[2m<ipython-input-1-b0eced0c74ec>:67\u001b[0m\n",
              "\u001b[2;36m           \u001b[0m 🕐                                                                    \u001b[2m                                 \u001b[0m\n"
            ],
            "text/html": [
              "<pre style=\"white-space:pre;overflow-x:auto;line-height:normal;font-family:Menlo,'DejaVu Sans Mono',consolas,'Courier New',monospace\"><span style=\"color: #7fbfbf; text-decoration-color: #7fbfbf\">           </span>🔍 Installing Qiime <span style=\"color: #008080; text-decoration-color: #008080; font-weight: bold\">2</span>. This may take a little bit.                     <span style=\"color: #7f7f7f; text-decoration-color: #7f7f7f\">&lt;ipython-input-1-b0eced0c74ec&gt;:67</span>\n",
              "<span style=\"color: #7fbfbf; text-decoration-color: #7fbfbf\">           </span> 🕐                                                                    <span style=\"color: #7f7f7f; text-decoration-color: #7f7f7f\">                                 </span>\n",
              "</pre>\n"
            ]
          },
          "metadata": {}
        },
        {
          "output_type": "display_data",
          "data": {
            "text/plain": [
              "\u001b[2;36m[13:40:19]\u001b[0m\u001b[2;36m \u001b[0m\u001b[34m🔍 Done.\u001b[0m                                                               \u001b[2m<ipython-input-1-b0eced0c74ec>:73\u001b[0m\n"
            ],
            "text/html": [
              "<pre style=\"white-space:pre;overflow-x:auto;line-height:normal;font-family:Menlo,'DejaVu Sans Mono',consolas,'Courier New',monospace\"><span style=\"color: #7fbfbf; text-decoration-color: #7fbfbf\">[13:40:19] </span><span style=\"color: #000080; text-decoration-color: #000080\">🔍 Done.</span>                                                               <span style=\"color: #7f7f7f; text-decoration-color: #7f7f7f\">&lt;ipython-input-1-b0eced0c74ec&gt;:73</span>\n",
              "</pre>\n"
            ]
          },
          "metadata": {}
        },
        {
          "output_type": "display_data",
          "data": {
            "text/plain": [
              "\u001b[2;36m          \u001b[0m\u001b[2;36m \u001b[0m🌲 Installing Empress\u001b[33m...\u001b[0m                                               \u001b[2m<ipython-input-1-b0eced0c74ec>:67\u001b[0m\n"
            ],
            "text/html": [
              "<pre style=\"white-space:pre;overflow-x:auto;line-height:normal;font-family:Menlo,'DejaVu Sans Mono',consolas,'Courier New',monospace\"><span style=\"color: #7fbfbf; text-decoration-color: #7fbfbf\">           </span>🌲 Installing Empress<span style=\"color: #808000; text-decoration-color: #808000\">...</span>                                               <span style=\"color: #7f7f7f; text-decoration-color: #7f7f7f\">&lt;ipython-input-1-b0eced0c74ec&gt;:67</span>\n",
              "</pre>\n"
            ]
          },
          "metadata": {}
        },
        {
          "output_type": "display_data",
          "data": {
            "text/plain": [
              "\u001b[2;36m[13:40:24]\u001b[0m\u001b[2;36m \u001b[0m\u001b[34m🌲 Done.\u001b[0m                                                               \u001b[2m<ipython-input-1-b0eced0c74ec>:73\u001b[0m\n"
            ],
            "text/html": [
              "<pre style=\"white-space:pre;overflow-x:auto;line-height:normal;font-family:Menlo,'DejaVu Sans Mono',consolas,'Courier New',monospace\"><span style=\"color: #7fbfbf; text-decoration-color: #7fbfbf\">[13:40:24] </span><span style=\"color: #000080; text-decoration-color: #000080\">🌲 Done.</span>                                                               <span style=\"color: #7f7f7f; text-decoration-color: #7f7f7f\">&lt;ipython-input-1-b0eced0c74ec&gt;:73</span>\n",
              "</pre>\n"
            ]
          },
          "metadata": {}
        },
        {
          "output_type": "display_data",
          "data": {
            "text/plain": [
              "\u001b[2;36m          \u001b[0m\u001b[2;36m \u001b[0m📊 Checking that Qiime \u001b[1;36m2\u001b[0m command line works\u001b[33m...\u001b[0m                         \u001b[2m<ipython-input-1-b0eced0c74ec>:67\u001b[0m\n"
            ],
            "text/html": [
              "<pre style=\"white-space:pre;overflow-x:auto;line-height:normal;font-family:Menlo,'DejaVu Sans Mono',consolas,'Courier New',monospace\"><span style=\"color: #7fbfbf; text-decoration-color: #7fbfbf\">           </span>📊 Checking that Qiime <span style=\"color: #008080; text-decoration-color: #008080; font-weight: bold\">2</span> command line works<span style=\"color: #808000; text-decoration-color: #808000\">...</span>                         <span style=\"color: #7f7f7f; text-decoration-color: #7f7f7f\">&lt;ipython-input-1-b0eced0c74ec&gt;:67</span>\n",
              "</pre>\n"
            ]
          },
          "metadata": {}
        },
        {
          "output_type": "display_data",
          "data": {
            "text/plain": [
              "\u001b[2;36m[13:40:40]\u001b[0m\u001b[2;36m \u001b[0m\u001b[34m📊 Qiime \u001b[0m\u001b[1;34m2\u001b[0m\u001b[34m command line looks good 🎉\u001b[0m                                  \u001b[2m<ipython-input-1-b0eced0c74ec>:73\u001b[0m\n"
            ],
            "text/html": [
              "<pre style=\"white-space:pre;overflow-x:auto;line-height:normal;font-family:Menlo,'DejaVu Sans Mono',consolas,'Courier New',monospace\"><span style=\"color: #7fbfbf; text-decoration-color: #7fbfbf\">[13:40:40] </span><span style=\"color: #000080; text-decoration-color: #000080\">📊 Qiime </span><span style=\"color: #000080; text-decoration-color: #000080; font-weight: bold\">2</span><span style=\"color: #000080; text-decoration-color: #000080\"> command line looks good 🎉</span>                                  <span style=\"color: #7f7f7f; text-decoration-color: #7f7f7f\">&lt;ipython-input-1-b0eced0c74ec&gt;:73</span>\n",
              "</pre>\n"
            ]
          },
          "metadata": {}
        },
        {
          "output_type": "display_data",
          "data": {
            "text/plain": [
              "\u001b[2;36m          \u001b[0m\u001b[2;36m \u001b[0m🧹 Cleaned up unneeded files.                                          \u001b[2m<ipython-input-1-b0eced0c74ec>:62\u001b[0m\n"
            ],
            "text/html": [
              "<pre style=\"white-space:pre;overflow-x:auto;line-height:normal;font-family:Menlo,'DejaVu Sans Mono',consolas,'Courier New',monospace\"><span style=\"color: #7fbfbf; text-decoration-color: #7fbfbf\">           </span>🧹 Cleaned up unneeded files.                                          <span style=\"color: #7f7f7f; text-decoration-color: #7f7f7f\">&lt;ipython-input-1-b0eced0c74ec&gt;:62</span>\n",
              "</pre>\n"
            ]
          },
          "metadata": {}
        },
        {
          "output_type": "display_data",
          "data": {
            "text/plain": [
              "\u001b[2;36m          \u001b[0m\u001b[2;36m \u001b[0m\u001b[32mEverything is A-OK. You can start using Qiime \u001b[0m\u001b[1;32m2\u001b[0m\u001b[32m now 👍\u001b[0m                \u001b[2m<ipython-input-1-b0eced0c74ec>:149\u001b[0m\n"
            ],
            "text/html": [
              "<pre style=\"white-space:pre;overflow-x:auto;line-height:normal;font-family:Menlo,'DejaVu Sans Mono',consolas,'Courier New',monospace\"><span style=\"color: #7fbfbf; text-decoration-color: #7fbfbf\">           </span><span style=\"color: #008000; text-decoration-color: #008000\">Everything is A-OK. You can start using Qiime </span><span style=\"color: #008000; text-decoration-color: #008000; font-weight: bold\">2</span><span style=\"color: #008000; text-decoration-color: #008000\"> now 👍</span>                <span style=\"color: #7f7f7f; text-decoration-color: #7f7f7f\">&lt;ipython-input-1-b0eced0c74ec&gt;:149</span>\n",
              "</pre>\n"
            ]
          },
          "metadata": {}
        }
      ],
      "source": [
        "#Install QIIME2\n",
        "#!/usr/bin/env python3\n",
        "\n",
        "\"\"\"Set up Qiime 2 on Google colab.\n",
        "\n",
        "Do not use this on o local machine, especially not as an admin!\n",
        "\"\"\"\n",
        "\n",
        "import os\n",
        "import sys\n",
        "import shutil\n",
        "from subprocess import Popen, PIPE\n",
        "\n",
        "r = Popen([\"pip\", \"install\", \"rich\"])\n",
        "r.wait()\n",
        "from rich.console import Console  # noqa\n",
        "con = Console()\n",
        "\n",
        "PREFIX = \"/usr/local/miniforge3/\"\n",
        "\n",
        "has_conda = \"conda version\" in os.popen(\"%s/bin/conda info\" % PREFIX).read()\n",
        "has_qiime = \"QIIME 2 release:\" in os.popen(\"qiime info\").read()\n",
        "\n",
        "\n",
        "MINICONDA_PATH = (\n",
        "    \"https://github.com/conda-forge/miniforge/releases/latest/download/Miniforge3-Linux-x86_64.sh\"\n",
        ")\n",
        "\n",
        "QIIME_YAML_TEMPLATE = (\n",
        "    \"https://data.qiime2.org/distro/amplicon/qiime2-amplicon-{version}-py{python}-linux-conda.yml\"\n",
        ")\n",
        "\n",
        "if len(sys.argv) == 2:\n",
        "    version = sys.argv[1]\n",
        "else:\n",
        "    version = \"2024.2\"\n",
        "\n",
        "if tuple(float(v) for v in version.split(\".\")) < (2021, 4):\n",
        "    pyver = \"36\"\n",
        "else:\n",
        "    pyver = \"38\"\n",
        "\n",
        "CONDA = \"mamba\"\n",
        "CONDA_ARGS = [\"-q\"]\n",
        "\n",
        "if tuple(float(v) for v in version.split(\".\")) < (2024, 2):\n",
        "    QIIME_YAML_TEMPLATE = (\n",
        "        \"https://data.qiime2.org/distro/core/qiime2-{version}-py{python}-linux-conda.yml\"\n",
        "    )\n",
        "\n",
        "QIIME_YAML_URL = QIIME_YAML_TEMPLATE.format(version=version, python=pyver)\n",
        "QIIME_YAML = os.path.basename(QIIME_YAML_URL)\n",
        "\n",
        "\n",
        "def cleanup():\n",
        "    \"\"\"Remove downloaded files.\"\"\"\n",
        "    if os.path.exists(os.path.basename(MINICONDA_PATH)):\n",
        "        os.remove(os.path.basename(MINICONDA_PATH))\n",
        "    if os.path.exists(QIIME_YAML):\n",
        "        os.remove(QIIME_YAML)\n",
        "    if os.path.exists(\"/content/sample_data\"):\n",
        "        shutil.rmtree(\"/content/sample_data\")\n",
        "    con.log(\":broom: Cleaned up unneeded files.\")\n",
        "\n",
        "\n",
        "def run_and_check(args, check, message, failure, success, console=con):\n",
        "    \"\"\"Run a command and check that it worked.\"\"\"\n",
        "    console.log(message)\n",
        "    r = Popen(args, env=os.environ, stdout=PIPE, stderr=PIPE,\n",
        "              universal_newlines=True)\n",
        "    o, e = r.communicate()\n",
        "    out = o + e\n",
        "    if r.returncode == 0 and check in out:\n",
        "        console.log(\"[blue]%s[/blue]\" % success)\n",
        "    else:\n",
        "        console.log(\"[red]%s[/red]\" % failure, out)\n",
        "        cleanup()\n",
        "        sys.exit(1)\n",
        "\n",
        "\n",
        "if __name__ == \"__main__\":\n",
        "    if not has_conda:\n",
        "        run_and_check(\n",
        "            [\"wget\", MINICONDA_PATH],\n",
        "            \"saved\",\n",
        "            \":snake: Downloading miniforge...\",\n",
        "            \"failed downloading miniforge :sob:\",\n",
        "            \":snake: Done.\"\n",
        "        )\n",
        "\n",
        "        run_and_check(\n",
        "            [\"bash\", os.path.basename(MINICONDA_PATH), \"-bfp\", PREFIX],\n",
        "            \"installation finished.\",\n",
        "            \":snake: Installing miniforge...\",\n",
        "            \"could not install miniforge :sob:\",\n",
        "            \":snake: Installed miniforge to `/usr/local`.\"\n",
        "        )\n",
        "    else:\n",
        "        con.log(\":snake: Miniforge is already installed. Skipped.\")\n",
        "\n",
        "    if not has_qiime:\n",
        "        run_and_check(\n",
        "            [\"wget\", QIIME_YAML_URL],\n",
        "            \"saved\",\n",
        "            \":mag: Downloading Qiime 2 package list...\",\n",
        "            \"could not download package list :sob:\",\n",
        "            \":mag: Done.\"\n",
        "        )\n",
        "\n",
        "        run_and_check(\n",
        "            [PREFIX + \"bin/\" + CONDA, \"env\", \"create\", *CONDA_ARGS, \"--prefix\", \"/usr/local\", \"--file\", QIIME_YAML],\n",
        "            \"Verifying transaction: ...working... done\",\n",
        "            \":mag: Installing Qiime 2. This may take a little bit.\\n :clock1:\",\n",
        "            \"could not install Qiime 2 :sob:\",\n",
        "            \":mag: Done.\"\n",
        "        )\n",
        "\n",
        "        run_and_check(\n",
        "            [\"pip\", \"install\", \"empress\"],\n",
        "            \"Successfully installed empress-\",\n",
        "            \":evergreen_tree: Installing Empress...\",\n",
        "            \"could not install Empress :sob:\",\n",
        "            \":evergreen_tree: Done.\"\n",
        "        )\n",
        "    else:\n",
        "        con.log(\":mag: Qiime 2 is already installed. Skipped.\")\n",
        "\n",
        "    run_and_check(\n",
        "        [\"qiime\", \"info\"],\n",
        "        \"QIIME 2 release:\",\n",
        "        \":bar_chart: Checking that Qiime 2 command line works...\",\n",
        "        \"Qiime 2 command line does not seem to work :sob:\",\n",
        "        \":bar_chart: Qiime 2 command line looks good :tada:\"\n",
        "    )\n",
        "\n",
        "    if sys.version_info[0:2] == (int(pyver[0]), int(pyver[1])):\n",
        "        sys.path.append(\"/usr/local/lib/python3.{}/site-packages\".format(pyver[1]))\n",
        "        con.log(\":mag: Fixed import paths to include Qiime 2.\")\n",
        "\n",
        "        con.log(\":bar_chart: Checking if Qiime 2 import works...\")\n",
        "        try:\n",
        "            import qiime2  # noqa\n",
        "        except Exception:\n",
        "            con.log(\"[red]Qiime 2 can not be imported :sob:[/red]\")\n",
        "            sys.exit(1)\n",
        "        con.log(\"[blue]:bar_chart: Qiime 2 can be imported :tada:[/blue]\")\n",
        "\n",
        "    cleanup()\n",
        "\n",
        "    con.log(\"[green]Everything is A-OK. \"\n",
        "            \"You can start using Qiime 2 now :thumbs_up:[/green]\")"
      ]
    },
    {
      "cell_type": "code",
      "execution_count": 2,
      "metadata": {
        "colab": {
          "base_uri": "https://localhost:8080/"
        },
        "id": "e48e8xESu2U9",
        "outputId": "3705fb5b-3680-4c1a-e7d1-63c537b5804b"
      },
      "outputs": [
        {
          "output_type": "stream",
          "name": "stdout",
          "text": [
            "q2cli version 2024.2.0\n",
            "Run `qiime info` for more version details.\n"
          ]
        }
      ],
      "source": [
        "!qiime --version"
      ]
    },
    {
      "cell_type": "code",
      "execution_count": 3,
      "metadata": {
        "colab": {
          "base_uri": "https://localhost:8080/"
        },
        "id": "Bh_Mj6AOvEGG",
        "outputId": "65fcb5dd-a27b-494b-b1cb-dcbec673c5be"
      },
      "outputs": [
        {
          "output_type": "stream",
          "name": "stdout",
          "text": [
            "/content\n"
          ]
        }
      ],
      "source": [
        "!pwd\n",
        "!cd /home\n",
        "!mkdir /home/BT\n",
        "!cd /home/BT"
      ]
    },
    {
      "cell_type": "markdown",
      "metadata": {
        "id": "kIG3jcPtwBRc"
      },
      "source": [
        "Download sample from: https://drive.google.com/file/d/1UYI72glvlrlNmgUQIlZjUGdoZhulSzRE/view and upload in /home/BT"
      ]
    },
    {
      "cell_type": "code",
      "execution_count": 9,
      "metadata": {
        "colab": {
          "base_uri": "https://localhost:8080/"
        },
        "id": "LJ-sj_aPwCub",
        "outputId": "5bbae268-12e5-42d3-d391-86fc9202b0a8"
      },
      "outputs": [
        {
          "output_type": "stream",
          "name": "stdout",
          "text": [
            "sample-id\tbarcode-sequence\televation\textract-concen\tamplicon-concentration\textract-group-no\ttransect-name\tsite-name\tdepth\tph\ttoc\tec\taverage-soil-relative-humidity\trelative-humidity-soil-high\trelative-humidity-soil-low\tpercent-relative-humidity-soil-100\taverage-soil-temperature\ttemperature-soil-high\ttemperature-soil-low\tvegetation\tpercentcover\r\n",
            "#q2:types\tcategorical\tnumeric\tnumeric\tnumeric\tcategorical\tcategorical\tcategorical\tnumeric\tnumeric\tnumeric\tnumeric\tnumeric\tnumeric\tnumeric\tnumeric\tnumeric\tnumeric\tnumeric\tcategorical\tnumeric\r\n",
            "BAQ1370.1.2\tGCCCAAGTTCAC\t1370\t0.019\t0.950\tB\tBaquedano\tBAQ1370\t2\t7.98\t525\t6.08\t16.17\t23.97\t11.42\t0\t22.61\t35.21\t12.46\tno\t0\r\n",
            "BAQ1370.3\tGCGCCGAATCTT\t1370\t0.124\t17.460\tE\tBaquedano\tBAQ1370\t2\t\t771\t6.08\t16.17\t23.97\t11.42\t0\t22.61\t35.21\t12.46\tno\t0\r\n",
            "BAQ1370.1.3\tATAAAGAGGAGG\t1370\t1.200\t0.960\tJ\tBaquedano\tBAQ1370\t3\t8.13\t\t\t16.17\t23.97\t11.42\t0\t22.61\t35.21\t12.46\tno\t0\r\n",
            "BAQ1552.1.1\tATCCCAGCATGC\t1552\t0.722\t18.830\tJ\tBaquedano\tBAQ1552\t1\t7.87\t\t\t15.75\t35.36\t11.1\t0\t22.63\t30.65\t10.96\tno\t0\r\n",
            "BAQ1552.2\tGCTTCCAGACAA\t1552\t0.017\t2.000\tB\tBaquedano\tBAQ1552\t2\t\t223\t1.839\t15.75\t35.36\t11.1\t0\t22.63\t30.65\t10.96\tno\t0\r\n",
            "BAQ2420.1.1\tACACAGTCCTGA\t2420\t0.350\t7.400\tH\tBaquedano\tBAQ2420\t1\t9.33\t\t\t82.54\t100\t41.135\t46.77\t22.45\t28.297\t13.294\tno\t0\r\n",
            "BAQ2420.1.2\tATTATACGGCGC\t2420\t0.108\t11.420\tH\tBaquedano\tBAQ2420\t2\t9.36\t166\t0.075\t82.54\t100\t41.135\t46.77\t22.45\t28.297\t13.294\tno\t0\r\n",
            "BAQ2420.2\tTAAACGCGACTC\t2420\t0.089\t10.060\tA\tBaquedano\tBAQ2420\t2\t9.36\t337\t0.075\t82.54\t100\t41.135\t46.77\t22.45\t28.297\t13.294\tno\t0\r\n",
            "BAQ2420.3\tCCTCGGGTACTA\t2420\t0.083\t15.920\tC\tBaquedano\tBAQ2420\t2\t9.36\t574\t0.075\t82.54\t100\t41.135\t46.77\t22.45\t28.297\t13.294\tno\t0\r\n",
            "BAQ2420.1.3\tATTCAGATGGCA\t2420\t0.132\t10.000\tH\tBaquedano\tBAQ2420\t3\t8.90\t\t\t82.54\t100\t41.135\t46.77\t22.45\t28.297\t13.294\tno\t0\r\n",
            "BAQ2462.1\tTTCACCTGTATC\t2462\t1.166\t15.290\tH\tBaquedano\tBAQ2462\t2\t8.35\t173\t0.506\t69.08\t98.396\t32.558\t0.21\t21.83\t29.024\t12.971\tno\t0\r\n",
            "BAQ2462.2\tCTCCAGGTCATG\t2462\t0.049\t10.390\tH\tBaquedano\tBAQ2462\t2\t8.35\t331\t0.506\t69.08\t98.396\t32.558\t0.21\t21.83\t29.024\t12.971\tno\t0\r\n",
            "BAQ2462.3\tCAGGATTCGTAC\t2462\t0.066\t8.460\tA\tBaquedano\tBAQ2462\t2\t8.35\t634\t0.506\t69.08\t98.396\t32.558\t0.21\t21.83\t29.024\t12.971\tno\t0\r\n",
            "BAQ2687.1\tGTGGCCTACTAC\t2687\t1.223\t1.240\tA\tBaquedano\tBAQ2687\t2\t8.35\t554\t0.131\t73.21\t100\t20.87\t43.48\t18.2\t25\t10.67\tyes\t0.1\r\n",
            "BAQ2687.2\tTTCCCTTCTCCG\t2687\t0.251\t17.530\tC\tBaquedano\tBAQ2687\t2\t8.35\t350\t0.131\t73.21\t100\t20.87\t43.48\t18.2\t25\t10.67\tyes\t0.1\r\n",
            "BAQ2687.3\tCATTTGACGACG\t2687\t1.176\t12.100\tE\tBaquedano\tBAQ2687\t2\t8.35\t400\t0.131\t73.21\t100\t20.87\t43.48\t18.2\t25\t10.67\tyes\t0.1\r\n",
            "BAQ2838.1\tCGCATACGACCT\t2838\t0.467\t10.910\tG\tBaquedano\tBAQ2838\t2\t8.36\t353\t0.212\t44.74\t100\t16.647\t11.34\t19.08\t24.995\t10.709\tno\t0\r\n",
            "BAQ2838.2\tGCCTCGTACTGA\t2838\t0.309\t14.380\tH\tBaquedano\tBAQ2838\t2\t8.36\t260\t0.212\t44.74\t100\t16.647\t11.34\t19.08\t24.995\t10.709\tno\t0\r\n",
            "BAQ2838.3\tACCAACAGATTG\t2838\t0.145\t14.060\tA\tBaquedano\tBAQ2838\t2\t8.36\t369\t0.212\t44.74\t100\t16.647\t11.34\t19.08\t24.995\t10.709\tno\t0\r\n",
            "BAQ3473.1\tAAGTGAAGCGAG\t3473\t16.374\t1.290\tC\tBaquedano\tBAQ3473\t2\t7.93\t3675\t0.42\t82.05\t100\t42.09\t35.37\t13.46\t20.69\t5.12\tyes\t1.2\r\n",
            "BAQ3473.2\tTGCCGCCGTAAT\t3473\t5.170\t11.050\tB\tBaquedano\tBAQ3473\t2\t7.93\t838\t0.42\t82.05\t100\t42.09\t35.37\t13.46\t20.69\t5.12\tyes\t1.2\r\n",
            "BAQ3473.3\tAACCTCGGATAA\t3473\t0.910\t4.410\tC\tBaquedano\tBAQ3473\t2\t7.93\t16449\t0.42\t82.05\t100\t42.09\t35.37\t13.46\t20.69\t5.12\tyes\t1.2\r\n",
            "BAQ4166.1.1\tGTGCTTGTGTAG\t4166\t33.492\t3.160\tC\tBaquedano\tBAQ4166\t1\t5.64\t\t\t100\t100\t100\t100\t9.41\t17.54\t1.42\tyes\t7.1\r\n",
            "BAQ4166.1.2\tCAACTAGACTCG\t4166\t16.086\t18.250\tB\tBaquedano\tBAQ4166\t2\t7.22\t2085\t0.084\t100\t100\t100\t100\t9.41\t17.54\t1.42\tyes\t7.1\r\n",
            "BAQ4166.2\tGGAACGACGTGA\t4166\t2.958\t0.120\tC\tBaquedano\tBAQ4166\t2\t7.22\t3692\t0.084\t100\t100\t100\t100\t9.41\t17.54\t1.42\tyes\t7.1\r\n",
            "BAQ4166.3\tTGTCAGCTGTCG\t4166\t28.920\t0.260\tC\tBaquedano\tBAQ4166\t2\t7.22\t2271\t0.084\t100\t100\t100\t100\t9.41\t17.54\t1.42\tyes\t7.1\r\n",
            "BAQ4166.1.3\tAGTGCCCTTGGT\t4166\t14.532\t0.550\tC\tBaquedano\tBAQ4166\t3\t7.41\t\t\t100\t100\t100\t100\t9.41\t17.54\t1.42\tyes\t7.1\r\n",
            "BAQ4697.1\tCTGGTGCTGAAT\t4697\t10.044\t1.880\tC\tBaquedano\tBAQ4697\t2\t7.44\t424\t0.055\t\t\t\t\t\t\t\tyes\t0.1\r\n",
            "BAQ4697.2\tGACAGAGGTGCA\t4697\t5.864\t1.220\tB\tBaquedano\tBAQ4697\t2\t7.44\t531\t0.055\t\t\t\t\t\t\t\tyes\t0.1\r\n",
            "BAQ4697.3\tTCAGACCAACTG\t4697\t8.264\t1.390\tC\tBaquedano\tBAQ4697\t2\t7.44\t631\t0.055\t\t\t\t\t\t\t\tyes\t0.1\r\n",
            "BAQ895.2\tTCCTCACTATCA\t895\t0.017\t1.010\tB\tBaquedano\tBAQ895\t2\t\t61\t2.945\t32.22\t43.14\t25.6\t0\t19.17\t31.82\t10.54\tno\t0\r\n",
            "BAQ895.3\tGCCTGCAGTACT\t895\t0.011\t2.360\tE\tBaquedano\tBAQ895\t2\t\t474\t2.945\t32.22\t43.14\t25.6\t0\t19.17\t31.82\t10.54\tno\t0\r\n",
            "YUN1005.1.1\tACGTAACCACGT\t1005\t0.103\t13.170\tI\tYungay\tYUN1005\t1\t7.54\t\t\t20.7\t31.011\t16.343\t0\t22.59\t26.26\t16.51\tno\t0\r\n",
            "YUN1005.2\tTCTAACGAGTGC\t1005\t0.030\t0.940\tI\tYungay\tYUN1005\t2\t\t160\t2.27\t20.7\t31.011\t16.343\t0\t22.59\t26.26\t16.51\tno\t0\r\n",
            "YUN1005.3\tCATCTGGGCAAT\t1005\t0.028\t4.320\tI\tYungay\tYUN1005\t2\t7.60\t223\t2.27\t20.7\t31.011\t16.343\t0\t22.59\t26.26\t16.51\tno\t0\r\n",
            "YUN1005.1.3\tGTCGGAAATTGT\t1005\t0.034\t1.120\tI\tYungay\tYUN1005\t3\t7.60\t\t\t20.7\t31.011\t16.343\t0\t22.59\t26.26\t16.51\tno\t0\r\n",
            "YUN1242.1\tTGTCCGTGGATC\t1242\t0.228\t19.200\tK\tYungay\tYUN1242\t2\t9.00\t226\t1.845\t20.9\t36.46\t16.96\t0\t23.61\t27.62\t18.33\tno\t0\r\n",
            "YUN1242.2\tACTCGGCCAACT\t1242\t0.023\t0.540\tB\tYungay\tYUN1242\t2\t9.00\t194\t1.845\t20.9\t36.46\t16.96\t0\t23.61\t27.62\t18.33\tno\t0\r\n",
            "YUN1242.3\tGTTGGTTGGCAT\t1242\t0.050\t15.610\tK\tYungay\tYUN1242\t2\t9.00\t452\t1.845\t20.9\t36.46\t16.96\t0\t23.61\t27.62\t18.33\tno\t0\r\n",
            "YUN1609.1\tTTCCACACGTGG\t1609\t0.031\t6.420\tB\tYungay\tYUN1609\t2\t8.00\t361\t0.427\t17.18\t50.4\t12.53\t0\t21.47\t25.39\t16.1\tno\t0\r\n",
            "YUN1609.3\tAACCCAGATGAT\t1609\t0.025\t12.840\tE \tYungay\tYUN1609\t2\t8.00\t424\t0.427\t17.18\t50.4\t12.53\t0\t21.47\t25.39\t16.1\tno\t0\r\n",
            "YUN2029.1\tGTAGTGTCAACA\t2029\t0.022\t9.590\tK\tYungay\tYUN2029\t2\t7.89\t184\t0.067\t28.79\t52.55\t21.76\t0\t17.85\t24.16\t10.21\tno\t0\r\n",
            "YUN2029.2\tTGGAGAGGAGAT\t2029\t0.232\t16.710\tB\tYungay\tYUN2029\t2\t7.89\t241\t0.067\t28.79\t52.55\t21.76\t0\t17.85\t24.16\t10.21\tno\t0\r\n",
            "YUN2029.3\tCGTATAAATGCG\t2029\t0.078\t16.140\tK\tYungay\tYUN2029\t2\t7.89\t817\t0.067\t28.79\t52.55\t21.76\t0\t17.85\t24.16\t10.21\tno\t0\r\n",
            "YUN3008.1.1\tATCGATCCACAG\t3008\t0.021\t1.290\tG\tYungay\tYUN3008\t1\t7.70\t\t\t70.89\t100\t20.37\t29.1\t11.57\t30.98\t-2.57\tno\t0\r\n",
            "YUN3008.1.2\tACACCGCACAAT\t3008\t0.029\t1.230\tB\tYungay\tYUN3008\t2\t7.71\t250\t2.205\t70.89\t100\t20.37\t29.1\t11.57\t30.98\t-2.57\tno\t0\r\n",
            "YUN3008.2\tGTAGCACTCATG\t3008\t0.036\t1.100\tK\tYungay\tYUN3008\t2\t\t367\t2.205\t70.89\t100\t20.37\t29.1\t11.57\t30.98\t-2.57\tno\t0\r\n",
            "YUN3008.3\tCACCTGTAGTAG\t3008\t0.021\t1.000\tG\tYungay\tYUN3008\t2\t\t417\t2.205\t70.89\t100\t20.37\t29.1\t11.57\t30.98\t-2.57\tno\t0\r\n",
            "YUN3008.1.3\tGTCTCCTCCCTT\t3008\t0.017\t0.990\tG\tYungay\tYUN3008\t3\t7.50\t\t\t70.89\t100\t20.37\t29.1\t11.57\t30.98\t-2.57\tno\t0\r\n",
            "YUN3153.1\tAATACAGACCTG\t3153\t0.011\t1.05\tE\tYungay\tYUN3153\t2\t7.60\t580\t2.26\t59.69\t93.15\t32.12\t0\t12.5\t19.62\t3.48\tno\t0\r\n",
            "YUN3153.2\tGACTCAACCAGT\t3153\t0.493\t16.89\tG\tYungay\tYUN3153\t2\t7.60\t185\t2.26\t59.69\t93.15\t32.12\t0\t12.5\t19.62\t3.48\tno\t0\r\n",
            "YUN3153.3\tGGAAGAAGTAGC\t3153\t0.220\t18.410\tB\tYungay\tYUN3153\t2\t7.60\t391\t2.26\t59.69\t93.15\t32.12\t0\t12.5\t19.62\t3.48\tno\t0\r\n",
            "YUN3184.1\tCACGAGCTACTC\t3184\t0.022\t1.180\tB\tYungay\tYUN3184\t2\t7.70\t254\t2.235\t26.97\t46.57\t15.09\t0\t14.12\t25.21\t2.45\tno\t0\r\n",
            "YUN3184.2\tTCTCGATAAGCG\t3184\t0.010\t1.290\tE\tYungay\tYUN3184\t2\t\t411\t2.235\t26.97\t46.57\t15.09\t0\t14.12\t25.21\t2.45\tno\t0\r\n",
            "YUN3259.1.1\tTAGACACCGTGT\t3259\t3.710\t7.070\tD\tYungay\tYUN3259\t1\t8.48\t\t\t93.57\t100\t69.04\t64.69\t15.28\t23.65\t6.31\tyes\t2.4\r\n",
            "YUN3259.1.2\tAGACAAGCTTCC\t3259\t1.543\t16.920\tB\tYungay\tYUN3259\t2\t8.10\t419\t0.133\t93.57\t100\t69.04\t64.69\t15.28\t23.65\t6.31\tyes\t2.4\r\n",
            "YUN3259.2\tTCACTTGGTGCG\t3259\t1.935\t12.110\tD\tYungay\tYUN3259\t2\t8.10\t342\t0.133\t93.57\t100\t69.04\t64.69\t15.28\t23.65\t6.31\tyes\t2.4\r\n",
            "YUN3259.3\tTTATGTACGGCG\t3259\t3.530\t16.740\tD\tYungay\tYUN3259\t2\t8.10\t539\t0.133\t93.57\t100\t69.04\t64.69\t15.28\t23.65\t6.31\tyes\t2.4\r\n",
            "YUN3259.1.3\tTCCGCAACCTGA\t3259\t0.329\t19.170\tD\tYungay\tYUN3259\t3\t8.40\t\t\t93.57\t100\t69.04\t64.69\t15.28\t23.65\t6.31\tyes\t2.4\r\n",
            "YUN3346.1\tGAGATACAGTTC\t3346\t0.314\t16.880\tD\tYungay\tYUN3346\t2\t7.10\t429\t0.044\t87.32\t100\t57.8\t33.13\t15.89\t23.96\t6.89\tyes\t0.01\r\n",
            "YUN3346.2\tGCATGCATCCCA\t3346\t0.318\t16.260\tD\tYungay\tYUN3346\t2\t7.10\t666\t0.044\t87.32\t100\t57.8\t33.13\t15.89\t23.96\t6.89\tyes\t0.01\r\n",
            "YUN3346.3\tGATCTAATCGAG\t3346\t1.218\t17.140\tD\tYungay\tYUN3346\t2\t7.10\t387\t0.044\t87.32\t100\t57.8\t33.13\t15.89\t23.96\t6.89\tyes\t0.01\r\n",
            "YUN3428.1\tTACGCCCATCAG\t3428\t1.764\t15.320\tD\tYungay\tYUN3428\t2\t7.20\t623\t0.023\t99.99\t100\t99.91\t99.42\t13.61\t21.09\t4.13\tyes\t8.8\r\n",
            "YUN3428.2\tAAGATCGTACTG\t3428\t1.988\t6.610\tD\tYungay\tYUN3428\t2\t7.20\t621\t0.023\t99.99\t100\t99.91\t99.42\t13.61\t21.09\t4.13\tyes\t8.8\r\n",
            "YUN3428.3\tACTCATCTTCCA\t3428\t2.782\t15.460\tD\tYungay\tYUN3428\t2\t7.20\t658\t0.023\t99.99\t100\t99.91\t99.42\t13.61\t21.09\t4.13\tyes\t8.8\r\n",
            "YUN3533.1.1\tTTGGACGTCCAC\t3533\t3.352\t14.290\tD\tYungay\tYUN3533\t1\t7.10\t\t\t100\t100\t99.93\t99.94\t11.41\t19.21\t3.47\tyes\t8.6\r\n",
            "YUN3533.1.2\tTCCAGGGCTATA\t3533\t3.210\t14.320\tD\tYungay\tYUN3533\t2\t8.00\t521\t0.024\t100\t100\t99.93\t99.94\t11.41\t19.21\t3.47\tyes\t8.6\r\n",
            "YUN3533.2\tGAAACTCCTAGA\t3533\t9.236\t14.330\tD\tYungay\tYUN3533\t2\t8.00\t773\t0.024\t100\t100\t99.93\t99.94\t11.41\t19.21\t3.47\tyes\t8.6\r\n",
            "YUN3533.3\tATCGGGCTTAAC\t3533\t3.642\t17.430\tD\tYungay\tYUN3533\t2\t8.00\t664\t0.024\t100\t100\t99.93\t99.94\t11.41\t19.21\t3.47\tyes\t8.6\r\n",
            "YUN3533.1.3\tGCGTAGAGAGAC\t3533\t1.987\t7.550\tD\tYungay\tYUN3533\t3\t7.80\t\t\t100\t100\t99.93\t99.94\t11.41\t19.21\t3.47\tyes\t8.6\r\n",
            "YUN3856.1.1\tAATCTTGCGCCG\t3856\t6.444\t12.930\tG\tYungay\tYUN3856\t1\t6.98\t\t\t99.44\t100\t73.75\t93.7\t9.51\t17.45\t0.45\tyes\t3.1\r\n",
            "YUN3856.1.2\tGGAAATCCCATC\t3856\t6.230\t16.350\tG\tYungay\tYUN3856\t2\t7.43\t713\t0.029\t99.44\t100\t73.75\t93.7\t9.51\t17.45\t0.45\tyes\t3.1\r\n",
            "YUN3856.2\tTTGGAACGGCTT\t3856\t4.178\t17.120\tH\tYungay\tYUN3856\t2\t7.43\t404\t0.029\t99.44\t100\t73.75\t93.7\t9.51\t17.45\t0.45\tyes\t3.1\r\n",
            "YUN3856.3\tTCCTAGGTCCGA\t3856\t6.695\t15.860\tH\tYungay\tYUN3856\t2\t7.43\t988\t0.029\t99.44\t100\t73.75\t93.7\t9.51\t17.45\t0.45\tyes\t3.1\r\n",
            "YUN3856.1.3\tGACCGTCAATAC\t3856\t3.134\t18.170\tG\tYungay\tYUN3856\t3\t7.54\t\t\t99.44\t100\t73.75\t93.7\t9.51\t17.45\t0.45\tyes\t3.1@M00176:65:000000000-A41FR:1:1101:14282:1412 1:N:0:0\n",
            "NACGTAGGGTGCAAGCGTTAATCGGAATTACNGGNNNTAAAGCGTGCNNAGGCNNNNNNNNNNNANNNNNNNNNNNNNNNNNNNNNNNNNNNNNNNNNNNNNNNNNNNNNNNNNNNNNNNNNNNNNNNNNNNNNNNNNNNNNNNNNNNNNN\n",
            "+\n",
            "#>>>AAF@ACAA4BGCEEECGGHGGEFCFBG#BA###BABAEFGEEE##BBAA###########B######################################################################################\n",
            "@M00176:65:000000000-A41FR:1:1101:16939:1420 1:N:0:0\n",
            "NACGTAGGGGGCAAGCGTTGTCCGGAATCATTGGNNGTAAAGAGCGTGNAGGCNNNNNGNNANNTNNNNNNNNNNNNNNNNNNNNNNNNNNNNNNNNNNNNNNNNNNNNNNNNNNNNNNNNNNNNNNNNNNNNNNNNNNNNNNNNNNNNNN\n",
            "+\n",
            "#>>ABAF@ABBBGGGGEEFGGGHGGFFGFHHHHH##BBEFDHHCGGFG#ABFF#####B##B##B######################################################################################\n",
            "@M00176:65:000000000-A41FR:1:1101:14746:1560 1:N:0:0\n",
            "TACGTAGGGAGCTAGCGTTGTCCGGAATCATTGGGCGTAAAGCGCGCGTAGGCGGCCAGATAAGTCCGGTGTAAAAGCCACAGGCTNNNNNNNNNNNNNNNNCNGGANNNNNNNNNNNNNNNNNNNNNNANNNNNNNNNNNNANNNNNGGN\n",
            "+\n",
            "AA1AA1CA11>AAGGCEEEE0FGACAEFFDDGFFHFGGCEGHBE?A?EGCEGFGGEE/ABFFGDBGGEEGGGDGEDBAGBCCAFF<################?#??/######################.############.#####;;#\n",
            "@M00176:65:000000000-A41FR:1:1101:14282:1412 2:N:0:0\n",
            "NNNNNNNNNNNNNNNNNNNNNNNNNNNNNNNNNNNNNNNNNNNNNNNNNNNNNNNNNNNNNNNNNNNNNNNNNNNNNNNNNNNNNNNNNNNNNNNNNNNNNNNNNCGGAATNCCATNCCNCTCTGCNNNNNNNNNNNNNNNNNNNNNNNNN\n",
            "+\n",
            "#########################################################################################################<</?F/#/</?#?<#<???/<#########################\n",
            "@M00176:65:000000000-A41FR:1:1101:16939:1420 2:N:0:0\n",
            "NNNNNNNNNNNNNNNNNNNNNNNNNNNNNNNNNNNNNNNNNNNNNNNNNNNNNNNNNNNNNNNNNNNNNNNNNNNNNNNNNNNNNNCNCNNTNCNNNNNNNNNNNGGGAATTCCACNCGCCTCTTCNNNNNNNNNNNNNNNNNNNNNNNNN\n",
            "+\n",
            "######################################################################################?#?##?#?###########<??/?FC>FBF#</??FAGHG#########################\n",
            "@M00176:65:000000000-A41FR:1:1101:14746:1560 2:N:0:0\n",
            "NNNNTTTCGTNGATNNNNNNNCNGNNNNNNNNNNNNNNNNNNNTNNNNNNNTACCNNNNNNNNTGGGCCTCTGTGCGCATACCGTTCGAGAGCGCCGGCCACGGCATTCGTGTTGCTCCTCTAAGCTGTGCGTGTTCACTGTACAACCNNN\n",
            "+\n",
            "####1>1111#111#######0#0###################/#######///A########/>/////>1BB21/>///B0///0//0////////////////>122<//?/1?11?0111101<101.<.>0<0=0000<00/<###\n",
            "@M00176:65:000000000-A41FR:1:1101:14282:1412 1:N:0:0\n",
            "NNNNNNNNNNNN\n",
            "+\n",
            "############\n",
            "@M00176:65:000000000-A41FR:1:1101:16939:1420 1:N:0:0\n",
            "NNNNNNNNNNNN\n",
            "+\n",
            "############\n",
            "@M00176:65:000000000-A41FR:1:1101:14746:1560 1:N:0:0\n",
            "NNNNNNNNNNNN\n",
            "+\n",
            "############\n"
          ]
        }
      ],
      "source": [
        "!cat /home/BT/metadata.tsv\n",
        "!zcat /home/BT/SeqData/forward.fastq.gz | head -n 12\n",
        "!zcat /home/BT/SeqData/reverse.fastq.gz | head -n 12\n",
        "!zcat /home/BT/SeqData/barcodes.fastq.gz | head -n 12"
      ]
    },
    {
      "cell_type": "code",
      "source": [
        "#Create Manifest.tsv\n",
        "output_file=\"/home/BT/manifest.tsv\"\n",
        "!echo -e \"sample-id\\tforward-absolute-filepath\\treverse-absolute-filepath\" > $output_file\n",
        "!printf \"%s\\t%s\\t%s\\n\" \"sample1\" \"/home/BT/SeqData/forward.fastq.gz\" \"/home/BT/SeqData/reverse.fastq.gz\" >> $output_file\n"
      ],
      "metadata": {
        "id": "eQ_uhdptC7G2"
      },
      "execution_count": 20,
      "outputs": []
    },
    {
      "cell_type": "code",
      "execution_count": 25,
      "metadata": {
        "colab": {
          "base_uri": "https://localhost:8080/"
        },
        "id": "QE4BREL2xVjc",
        "outputId": "da6cec1d-42c8-4db6-8fbd-1451aa4c5aee"
      },
      "outputs": [
        {
          "output_type": "stream",
          "name": "stdout",
          "text": [
            "\u001b[32mImported /home/BT/SeqData as EMPPairedEndDirFmt to /home/BT/emp-paired-end-sequences.qza\u001b[0m\n",
            "\u001b[0m"
          ]
        }
      ],
      "source": [
        "#Import to QIIME2\n",
        "!qiime tools import \\\n",
        "  --type 'EMPPairedEndSequences' \\\n",
        "  --input-path /home/BT/SeqData \\\n",
        "  --output-path /home/BT/emp-paired-end-sequences.qza\n"
      ]
    },
    {
      "cell_type": "code",
      "source": [
        "#Demultiplexing\n",
        "!qiime demux emp-paired \\\n",
        "--i-seqs /home/BT/emp-paired-end-sequences.qza \\\n",
        "--m-barcodes-file /home/BT/metadata.tsv \\\n",
        "--m-barcodes-column barcode-sequence \\\n",
        "--o-per-sample-sequences /home/BT/demux.qza \\\n",
        "--o-error-correction-details /home/BT/demux-details.qza \\\n",
        "--p-rev-comp-barcodes \\\n",
        "--p-rev-comp-mapping-barcodes\n"
      ],
      "metadata": {
        "colab": {
          "base_uri": "https://localhost:8080/"
        },
        "id": "th_rqFElo2Mz",
        "outputId": "ecb636d6-af76-4475-f3db-ed40f221fe5e"
      },
      "execution_count": 26,
      "outputs": [
        {
          "output_type": "stream",
          "name": "stdout",
          "text": [
            "\u001b[32mSaved SampleData[PairedEndSequencesWithQuality] to: /home/BT/demux.qza\u001b[0m\n",
            "\u001b[32mSaved ErrorCorrectionDetails to: /home/BT/demux-details.qza\u001b[0m\n",
            "\u001b[0m"
          ]
        }
      ]
    },
    {
      "cell_type": "code",
      "source": [
        "#Denoise Sequences\n",
        "!qiime dada2 denoise-paired \\\n",
        "--i-demultiplexed-seqs /home/BT/demux.qza \\\n",
        "--p-trunc-len-f 0 \\\n",
        "--p-trunc-len-r 0 \\\n",
        "--o-table /home/BT/table.qza \\\n",
        "--o-representative-sequences /home/BT/rep-seqs.qza \\\n",
        "--o-denoising-stats /home/BT/denoising-stats.qza\n",
        "!qiime metadata tabulate \\\n",
        "--m-input-file /home/BT/denoising-stats.qza \\\n",
        "--o-visualization /home/BT/denoising-stats.qzv"
      ],
      "metadata": {
        "colab": {
          "base_uri": "https://localhost:8080/"
        },
        "id": "j0T16_lczwLj",
        "outputId": "07091c4a-6c69-4daa-db3b-906a6603f2ca"
      },
      "execution_count": 28,
      "outputs": [
        {
          "output_type": "stream",
          "name": "stdout",
          "text": [
            "\u001b[32mSaved FeatureTable[Frequency] to: /home/BT/table.qza\u001b[0m\n",
            "\u001b[32mSaved FeatureData[Sequence] to: /home/BT/rep-seqs.qza\u001b[0m\n",
            "\u001b[32mSaved SampleData[DADA2Stats] to: /home/BT/denoising-stats.qza\u001b[0m\n",
            "\u001b[0m\u001b[32mSaved Visualization to: /home/BT/denoising-stats.qzv\u001b[0m\n",
            "\u001b[0m"
          ]
        }
      ]
    },
    {
      "cell_type": "code",
      "source": [
        "#Summarize the Feature Table and Feature Data\n",
        "!qiime feature-table summarize \\\n",
        "--i-table /home/BT/table.qza \\\n",
        "--m-sample-metadata-file /home/BT/metadata.tsv \\\n",
        "--o-visualization /home/BT/table.qzv\n",
        "!qiime feature-table tabulate-seqs \\\n",
        "--i-data /home/BT/rep-seqs.qza \\\n",
        "--o-visualization /home/BT/rep-seqs.qzv\n"
      ],
      "metadata": {
        "colab": {
          "base_uri": "https://localhost:8080/"
        },
        "id": "VJL0S54_2lHR",
        "outputId": "d8b802ba-41a5-4fe9-8d32-6261a9ae1987"
      },
      "execution_count": 32,
      "outputs": [
        {
          "output_type": "stream",
          "name": "stdout",
          "text": [
            "\u001b[32mSaved Visualization to: /home/BT/table.qzv\u001b[0m\n",
            "\u001b[0m\u001b[32mSaved Visualization to: /home/BT/rep-seqs.qzv\u001b[0m\n",
            "\u001b[0m"
          ]
        }
      ]
    }
  ],
  "metadata": {
    "colab": {
      "provenance": []
    },
    "kernelspec": {
      "display_name": "Python 3",
      "name": "python3"
    },
    "language_info": {
      "name": "python"
    }
  },
  "nbformat": 4,
  "nbformat_minor": 0
}