{
 "cells": [
  {
   "cell_type": "markdown",
   "id": "032a1885-9f47-45f2-ada8-06bfba747110",
   "metadata": {
    "tags": []
   },
   "source": [
    "## 1. Set up working environment"
   ]
  },
  {
   "cell_type": "code",
   "execution_count": 110,
   "id": "4c719de2-4ed9-4620-878f-180cc68b562d",
   "metadata": {
    "collapsed": true,
    "jupyter": {
     "outputs_hidden": true
    },
    "tags": []
   },
   "outputs": [
    {
     "name": "stderr",
     "output_type": "stream",
     "text": [
      "'getOption(\"repos\")' replaces Bioconductor standard repositories, see\n",
      "'help(\"repositories\", package = \"BiocManager\")' for details.\n",
      "Replacement repositories:\n",
      "    CRAN: https://cran.r-project.org\n",
      "\n",
      "Bioconductor version 3.18 (BiocManager 1.30.23), R 4.3.2 (2023-10-31 ucrt)\n",
      "\n",
      "Warning message:\n",
      "\"package(s) not installed when version(s) same as or greater than current; use\n",
      "  `force = TRUE` to re-install: 'ANCOMBC'\"\n",
      "Old packages: 'colorspace', 'yaml', 'cli', 'digest', 'fastmap', 'htmltools',\n",
      "  'parallelly', 'rlang'\n",
      "\n"
     ]
    }
   ],
   "source": [
    "if (!requireNamespace(\"BiocManager\", quietly = TRUE))\n",
    "    install.packages(\"BiocManager\")\n",
    "BiocManager::install(\"ANCOMBC\")"
   ]
  },
  {
   "cell_type": "code",
   "execution_count": 111,
   "id": "69f07a87-ec56-4477-ab37-5da219489b50",
   "metadata": {
    "tags": []
   },
   "outputs": [],
   "source": [
    "library(\"ANCOMBC\")\n",
    "library(phyloseq)\n",
    "library(mia)\n",
    "library(tidyverse)"
   ]
  },
  {
   "cell_type": "code",
   "execution_count": 2,
   "id": "e9db2985-5036-495d-bb3b-0e6668923375",
   "metadata": {},
   "outputs": [
    {
     "data": {
      "text/html": [
       "'C:/Users/trang/OneDrive/Máy tính/New folder/Meta_Genomics/ANCOMBC'"
      ],
      "text/latex": [
       "'C:/Users/trang/OneDrive/Máy tính/New folder/Meta\\_Genomics/ANCOMBC'"
      ],
      "text/markdown": [
       "'C:/Users/trang/OneDrive/Máy tính/New folder/Meta_Genomics/ANCOMBC'"
      ],
      "text/plain": [
       "[1] \"C:/Users/trang/OneDrive/Máy tính/New folder/Meta_Genomics/ANCOMBC\""
      ]
     },
     "metadata": {},
     "output_type": "display_data"
    }
   ],
   "source": [
    "setwd(\"C:/Users/trang/OneDrive/Máy tính/New folder/Meta_Genomics/ANCOMBC\")\n",
    "getwd()"
   ]
  },
  {
   "cell_type": "markdown",
   "id": "53fb150b-f09d-4abf-bd63-4c82f63277a4",
   "metadata": {
    "jp-MarkdownHeadingCollapsed": true,
    "tags": []
   },
   "source": [
    "## 2. Dataset"
   ]
  },
  {
   "cell_type": "code",
   "execution_count": 109,
   "id": "e68541c5-a11f-465a-87a0-49922264acc2",
   "metadata": {},
   "outputs": [],
   "source": [
    "load('smd') # metadata\n",
    "load('otu_data') # count data"
   ]
  },
  {
   "cell_type": "code",
   "execution_count": 4,
   "id": "b2a4a777-0b50-4e48-95eb-e466d52e33b0",
   "metadata": {},
   "outputs": [
    {
     "data": {
      "text/html": [
       "<table class=\"dataframe\">\n",
       "<caption>A data.frame: 3 × 3</caption>\n",
       "<thead>\n",
       "\t<tr><th></th><th scope=col>stand_bmi</th><th scope=col>stand_choles</th><th scope=col>health_status</th></tr>\n",
       "\t<tr><th></th><th scope=col>&lt;dbl&gt;</th><th scope=col>&lt;dbl&gt;</th><th scope=col>&lt;fct&gt;</th></tr>\n",
       "</thead>\n",
       "<tbody>\n",
       "\t<tr><th scope=row>S1</th><td>-7.046117</td><td>-0.05133271</td><td>1</td></tr>\n",
       "\t<tr><th scope=row>S2</th><td>-8.183509</td><td>-1.30178093</td><td>1</td></tr>\n",
       "\t<tr><th scope=row>S3</th><td>-7.369319</td><td>-1.20561056</td><td>1</td></tr>\n",
       "</tbody>\n",
       "</table>\n"
      ],
      "text/latex": [
       "A data.frame: 3 × 3\n",
       "\\begin{tabular}{r|lll}\n",
       "  & stand\\_bmi & stand\\_choles & health\\_status\\\\\n",
       "  & <dbl> & <dbl> & <fct>\\\\\n",
       "\\hline\n",
       "\tS1 & -7.046117 & -0.05133271 & 1\\\\\n",
       "\tS2 & -8.183509 & -1.30178093 & 1\\\\\n",
       "\tS3 & -7.369319 & -1.20561056 & 1\\\\\n",
       "\\end{tabular}\n"
      ],
      "text/markdown": [
       "\n",
       "A data.frame: 3 × 3\n",
       "\n",
       "| <!--/--> | stand_bmi &lt;dbl&gt; | stand_choles &lt;dbl&gt; | health_status &lt;fct&gt; |\n",
       "|---|---|---|---|\n",
       "| S1 | -7.046117 | -0.05133271 | 1 |\n",
       "| S2 | -8.183509 | -1.30178093 | 1 |\n",
       "| S3 | -7.369319 | -1.20561056 | 1 |\n",
       "\n"
      ],
      "text/plain": [
       "   stand_bmi stand_choles health_status\n",
       "S1 -7.046117 -0.05133271  1            \n",
       "S2 -8.183509 -1.30178093  1            \n",
       "S3 -7.369319 -1.20561056  1            "
      ]
     },
     "metadata": {},
     "output_type": "display_data"
    },
    {
     "data": {
      "text/html": [
       "<table class=\"dataframe\">\n",
       "<caption>A data.frame: 3 × 3</caption>\n",
       "<thead>\n",
       "\t<tr><th></th><th scope=col>stand_bmi</th><th scope=col>stand_choles</th><th scope=col>health_status</th></tr>\n",
       "\t<tr><th></th><th scope=col>&lt;dbl&gt;</th><th scope=col>&lt;dbl&gt;</th><th scope=col>&lt;fct&gt;</th></tr>\n",
       "</thead>\n",
       "<tbody>\n",
       "\t<tr><th scope=row>S148</th><td>-2.439321</td><td> 0.5519218</td><td>3</td></tr>\n",
       "\t<tr><th scope=row>S149</th><td>-3.094921</td><td> 0.7709166</td><td>3</td></tr>\n",
       "\t<tr><th scope=row>S150</th><td>-2.664466</td><td>-0.5753851</td><td>3</td></tr>\n",
       "</tbody>\n",
       "</table>\n"
      ],
      "text/latex": [
       "A data.frame: 3 × 3\n",
       "\\begin{tabular}{r|lll}\n",
       "  & stand\\_bmi & stand\\_choles & health\\_status\\\\\n",
       "  & <dbl> & <dbl> & <fct>\\\\\n",
       "\\hline\n",
       "\tS148 & -2.439321 &  0.5519218 & 3\\\\\n",
       "\tS149 & -3.094921 &  0.7709166 & 3\\\\\n",
       "\tS150 & -2.664466 & -0.5753851 & 3\\\\\n",
       "\\end{tabular}\n"
      ],
      "text/markdown": [
       "\n",
       "A data.frame: 3 × 3\n",
       "\n",
       "| <!--/--> | stand_bmi &lt;dbl&gt; | stand_choles &lt;dbl&gt; | health_status &lt;fct&gt; |\n",
       "|---|---|---|---|\n",
       "| S148 | -2.439321 |  0.5519218 | 3 |\n",
       "| S149 | -3.094921 |  0.7709166 | 3 |\n",
       "| S150 | -2.664466 | -0.5753851 | 3 |\n",
       "\n"
      ],
      "text/plain": [
       "     stand_bmi stand_choles health_status\n",
       "S148 -2.439321  0.5519218   3            \n",
       "S149 -3.094921  0.7709166   3            \n",
       "S150 -2.664466 -0.5753851   3            "
      ]
     },
     "metadata": {},
     "output_type": "display_data"
    }
   ],
   "source": [
    "head(smd,3)\n",
    "tail(smd,3)"
   ]
  },
  {
   "cell_type": "code",
   "execution_count": 6,
   "id": "e7f5dcf8-44e9-4e85-aa60-dfbdbee412ea",
   "metadata": {},
   "outputs": [
    {
     "data": {
      "text/plain": [
       "\n",
       " 1  2  3 \n",
       "50 50 50 "
      ]
     },
     "metadata": {},
     "output_type": "display_data"
    }
   ],
   "source": [
    "# 3 levels of heatlh status\n",
    "table(smd$health_status)"
   ]
  },
  {
   "cell_type": "code",
   "execution_count": 112,
   "id": "074707ad-cdd3-4b8f-b694-aee383f66750",
   "metadata": {},
   "outputs": [
    {
     "data": {
      "text/html": [
       "<table class=\"dataframe\">\n",
       "<caption>A matrix: 3 × 4 of type dbl</caption>\n",
       "<thead>\n",
       "\t<tr><th></th><th scope=col>stand_choles</th><th scope=col>health_status1</th><th scope=col>health_status2</th><th scope=col>health_status3</th></tr>\n",
       "</thead>\n",
       "<tbody>\n",
       "\t<tr><th scope=row>S1</th><td>-0.05133271</td><td>1</td><td>0</td><td>0</td></tr>\n",
       "\t<tr><th scope=row>S2</th><td>-1.30178093</td><td>1</td><td>0</td><td>0</td></tr>\n",
       "\t<tr><th scope=row>S3</th><td>-1.20561056</td><td>1</td><td>0</td><td>0</td></tr>\n",
       "</tbody>\n",
       "</table>\n"
      ],
      "text/latex": [
       "A matrix: 3 × 4 of type dbl\n",
       "\\begin{tabular}{r|llll}\n",
       "  & stand\\_choles & health\\_status1 & health\\_status2 & health\\_status3\\\\\n",
       "\\hline\n",
       "\tS1 & -0.05133271 & 1 & 0 & 0\\\\\n",
       "\tS2 & -1.30178093 & 1 & 0 & 0\\\\\n",
       "\tS3 & -1.20561056 & 1 & 0 & 0\\\\\n",
       "\\end{tabular}\n"
      ],
      "text/markdown": [
       "\n",
       "A matrix: 3 × 4 of type dbl\n",
       "\n",
       "| <!--/--> | stand_choles | health_status1 | health_status2 | health_status3 |\n",
       "|---|---|---|---|---|\n",
       "| S1 | -0.05133271 | 1 | 0 | 0 |\n",
       "| S2 | -1.30178093 | 1 | 0 | 0 |\n",
       "| S3 | -1.20561056 | 1 | 0 | 0 |\n",
       "\n"
      ],
      "text/plain": [
       "   stand_choles health_status1 health_status2 health_status3\n",
       "S1 -0.05133271  1              0              0             \n",
       "S2 -1.30178093  1              0              0             \n",
       "S3 -1.20561056  1              0              0             "
      ]
     },
     "metadata": {},
     "output_type": "display_data"
    }
   ],
   "source": [
    "# Meta data of each sample in extended form\n",
    "smd_dmy = model.matrix(~ 0 + stand_choles  + health_status, data = smd)\n",
    "head(smd_dmy,3)"
   ]
  },
  {
   "cell_type": "code",
   "execution_count": 113,
   "id": "21788efe-4e52-483e-b60d-299a0b5b3cb9",
   "metadata": {},
   "outputs": [
    {
     "data": {
      "text/html": [
       "<table class=\"dataframe\">\n",
       "<caption>A matrix: 3 × 4 of type dbl</caption>\n",
       "<thead>\n",
       "\t<tr><th></th><th scope=col>stand_choles</th><th scope=col>health_status1</th><th scope=col>health_status2</th><th scope=col>health_status3</th></tr>\n",
       "</thead>\n",
       "<tbody>\n",
       "\t<tr><th scope=row>S148</th><td> 0.5519218</td><td>0</td><td>0</td><td>1</td></tr>\n",
       "\t<tr><th scope=row>S149</th><td> 0.7709166</td><td>0</td><td>0</td><td>1</td></tr>\n",
       "\t<tr><th scope=row>S150</th><td>-0.5753851</td><td>0</td><td>0</td><td>1</td></tr>\n",
       "</tbody>\n",
       "</table>\n"
      ],
      "text/latex": [
       "A matrix: 3 × 4 of type dbl\n",
       "\\begin{tabular}{r|llll}\n",
       "  & stand\\_choles & health\\_status1 & health\\_status2 & health\\_status3\\\\\n",
       "\\hline\n",
       "\tS148 &  0.5519218 & 0 & 0 & 1\\\\\n",
       "\tS149 &  0.7709166 & 0 & 0 & 1\\\\\n",
       "\tS150 & -0.5753851 & 0 & 0 & 1\\\\\n",
       "\\end{tabular}\n"
      ],
      "text/markdown": [
       "\n",
       "A matrix: 3 × 4 of type dbl\n",
       "\n",
       "| <!--/--> | stand_choles | health_status1 | health_status2 | health_status3 |\n",
       "|---|---|---|---|---|\n",
       "| S148 |  0.5519218 | 0 | 0 | 1 |\n",
       "| S149 |  0.7709166 | 0 | 0 | 1 |\n",
       "| S150 | -0.5753851 | 0 | 0 | 1 |\n",
       "\n"
      ],
      "text/plain": [
       "     stand_choles health_status1 health_status2 health_status3\n",
       "S148  0.5519218   0              0              1             \n",
       "S149  0.7709166   0              0              1             \n",
       "S150 -0.5753851   0              0              1             "
      ]
     },
     "metadata": {},
     "output_type": "display_data"
    }
   ],
   "source": [
    "tail(smd_dmy,3)"
   ]
  },
  {
   "cell_type": "code",
   "execution_count": 8,
   "id": "4194efe7-199c-474a-b291-36eebd640f57",
   "metadata": {},
   "outputs": [
    {
     "data": {
      "text/html": [
       "<table class=\"dataframe\">\n",
       "<caption>A matrix: 7 × 150 of type dbl</caption>\n",
       "<thead>\n",
       "\t<tr><th></th><th scope=col>S1</th><th scope=col>S2</th><th scope=col>S3</th><th scope=col>S4</th><th scope=col>S5</th><th scope=col>S6</th><th scope=col>S7</th><th scope=col>S8</th><th scope=col>S9</th><th scope=col>S10</th><th scope=col>⋯</th><th scope=col>S141</th><th scope=col>S142</th><th scope=col>S143</th><th scope=col>S144</th><th scope=col>S145</th><th scope=col>S146</th><th scope=col>S147</th><th scope=col>S148</th><th scope=col>S149</th><th scope=col>S150</th></tr>\n",
       "</thead>\n",
       "<tbody>\n",
       "\t<tr><th scope=row>T1</th><td>  1</td><td>0</td><td>  1</td><td>  3</td><td>  2</td><td>0</td><td> 1</td><td> 0</td><td> 0</td><td>  3</td><td>⋯</td><td>  142</td><td>  2</td><td>  208</td><td>   232</td><td>  105</td><td>   64</td><td>   317</td><td>   41</td><td>  320</td><td>  14</td></tr>\n",
       "\t<tr><th scope=row>T2</th><td>102</td><td>1</td><td>156</td><td>535</td><td>178</td><td>0</td><td>99</td><td>21</td><td>28</td><td>400</td><td>⋯</td><td>41555</td><td>940</td><td>69158</td><td>150981</td><td>68451</td><td>40298</td><td>258659</td><td>23841</td><td>79188</td><td>7491</td></tr>\n",
       "\t<tr><th scope=row>T3</th><td>  0</td><td>0</td><td>  0</td><td>  0</td><td>  0</td><td>0</td><td> 0</td><td> 0</td><td> 0</td><td>  0</td><td>⋯</td><td>   17</td><td>  0</td><td>   22</td><td>    23</td><td>   10</td><td>    7</td><td>    32</td><td>    4</td><td>   35</td><td>   2</td></tr>\n",
       "\t<tr><th scope=row>T4</th><td>  4</td><td>0</td><td>  7</td><td> 23</td><td> 11</td><td>0</td><td> 6</td><td> 1</td><td> 1</td><td> 19</td><td>⋯</td><td>  913</td><td> 12</td><td> 1364</td><td>  1673</td><td>  767</td><td>  465</td><td>  2340</td><td>  293</td><td> 2036</td><td>  96</td></tr>\n",
       "\t<tr><th scope=row>T5</th><td> 38</td><td>0</td><td> 65</td><td>214</td><td> 90</td><td>0</td><td>52</td><td> 7</td><td> 9</td><td>173</td><td>⋯</td><td> 7678</td><td>118</td><td>11913</td><td> 17441</td><td> 7893</td><td> 4766</td><td> 26071</td><td> 2888</td><td>16343</td><td> 975</td></tr>\n",
       "\t<tr><th scope=row>T6</th><td> 15</td><td>0</td><td> 26</td><td> 85</td><td> 38</td><td>0</td><td>23</td><td> 3</td><td> 3</td><td> 70</td><td>⋯</td><td> 3302</td><td> 45</td><td> 4985</td><td>  6334</td><td> 2864</td><td> 1756</td><td>  8992</td><td> 1100</td><td> 7295</td><td> 364</td></tr>\n",
       "\t<tr><th scope=row>T7</th><td> 11</td><td>0</td><td> 18</td><td> 60</td><td> 27</td><td>0</td><td>15</td><td> 2</td><td> 2</td><td> 50</td><td>⋯</td><td> 6187</td><td> 87</td><td> 9441</td><td> 12614</td><td> 5712</td><td> 3455</td><td> 18203</td><td> 2122</td><td>13587</td><td> 724</td></tr>\n",
       "</tbody>\n",
       "</table>\n"
      ],
      "text/latex": [
       "A matrix: 7 × 150 of type dbl\n",
       "\\begin{tabular}{r|lllllllllllllllllllll}\n",
       "  & S1 & S2 & S3 & S4 & S5 & S6 & S7 & S8 & S9 & S10 & ⋯ & S141 & S142 & S143 & S144 & S145 & S146 & S147 & S148 & S149 & S150\\\\\n",
       "\\hline\n",
       "\tT1 &   1 & 0 &   1 &   3 &   2 & 0 &  1 &  0 &  0 &   3 & ⋯ &   142 &   2 &   208 &    232 &   105 &    64 &    317 &    41 &   320 &   14\\\\\n",
       "\tT2 & 102 & 1 & 156 & 535 & 178 & 0 & 99 & 21 & 28 & 400 & ⋯ & 41555 & 940 & 69158 & 150981 & 68451 & 40298 & 258659 & 23841 & 79188 & 7491\\\\\n",
       "\tT3 &   0 & 0 &   0 &   0 &   0 & 0 &  0 &  0 &  0 &   0 & ⋯ &    17 &   0 &    22 &     23 &    10 &     7 &     32 &     4 &    35 &    2\\\\\n",
       "\tT4 &   4 & 0 &   7 &  23 &  11 & 0 &  6 &  1 &  1 &  19 & ⋯ &   913 &  12 &  1364 &   1673 &   767 &   465 &   2340 &   293 &  2036 &   96\\\\\n",
       "\tT5 &  38 & 0 &  65 & 214 &  90 & 0 & 52 &  7 &  9 & 173 & ⋯ &  7678 & 118 & 11913 &  17441 &  7893 &  4766 &  26071 &  2888 & 16343 &  975\\\\\n",
       "\tT6 &  15 & 0 &  26 &  85 &  38 & 0 & 23 &  3 &  3 &  70 & ⋯ &  3302 &  45 &  4985 &   6334 &  2864 &  1756 &   8992 &  1100 &  7295 &  364\\\\\n",
       "\tT7 &  11 & 0 &  18 &  60 &  27 & 0 & 15 &  2 &  2 &  50 & ⋯ &  6187 &  87 &  9441 &  12614 &  5712 &  3455 &  18203 &  2122 & 13587 &  724\\\\\n",
       "\\end{tabular}\n"
      ],
      "text/markdown": [
       "\n",
       "A matrix: 7 × 150 of type dbl\n",
       "\n",
       "| <!--/--> | S1 | S2 | S3 | S4 | S5 | S6 | S7 | S8 | S9 | S10 | ⋯ | S141 | S142 | S143 | S144 | S145 | S146 | S147 | S148 | S149 | S150 |\n",
       "|---|---|---|---|---|---|---|---|---|---|---|---|---|---|---|---|---|---|---|---|---|---|\n",
       "| T1 |   1 | 0 |   1 |   3 |   2 | 0 |  1 |  0 |  0 |   3 | ⋯ |   142 |   2 |   208 |    232 |   105 |    64 |    317 |    41 |   320 |   14 |\n",
       "| T2 | 102 | 1 | 156 | 535 | 178 | 0 | 99 | 21 | 28 | 400 | ⋯ | 41555 | 940 | 69158 | 150981 | 68451 | 40298 | 258659 | 23841 | 79188 | 7491 |\n",
       "| T3 |   0 | 0 |   0 |   0 |   0 | 0 |  0 |  0 |  0 |   0 | ⋯ |    17 |   0 |    22 |     23 |    10 |     7 |     32 |     4 |    35 |    2 |\n",
       "| T4 |   4 | 0 |   7 |  23 |  11 | 0 |  6 |  1 |  1 |  19 | ⋯ |   913 |  12 |  1364 |   1673 |   767 |   465 |   2340 |   293 |  2036 |   96 |\n",
       "| T5 |  38 | 0 |  65 | 214 |  90 | 0 | 52 |  7 |  9 | 173 | ⋯ |  7678 | 118 | 11913 |  17441 |  7893 |  4766 |  26071 |  2888 | 16343 |  975 |\n",
       "| T6 |  15 | 0 |  26 |  85 |  38 | 0 | 23 |  3 |  3 |  70 | ⋯ |  3302 |  45 |  4985 |   6334 |  2864 |  1756 |   8992 |  1100 |  7295 |  364 |\n",
       "| T7 |  11 | 0 |  18 |  60 |  27 | 0 | 15 |  2 |  2 |  50 | ⋯ |  6187 |  87 |  9441 |  12614 |  5712 |  3455 |  18203 |  2122 | 13587 |  724 |\n",
       "\n"
      ],
      "text/plain": [
       "   S1  S2 S3  S4  S5  S6 S7 S8 S9 S10 ⋯ S141  S142 S143  S144   S145  S146 \n",
       "T1   1 0    1   3   2 0   1  0  0   3 ⋯   142   2    208    232   105    64\n",
       "T2 102 1  156 535 178 0  99 21 28 400 ⋯ 41555 940  69158 150981 68451 40298\n",
       "T3   0 0    0   0   0 0   0  0  0   0 ⋯    17   0     22     23    10     7\n",
       "T4   4 0    7  23  11 0   6  1  1  19 ⋯   913  12   1364   1673   767   465\n",
       "T5  38 0   65 214  90 0  52  7  9 173 ⋯  7678 118  11913  17441  7893  4766\n",
       "T6  15 0   26  85  38 0  23  3  3  70 ⋯  3302  45   4985   6334  2864  1756\n",
       "T7  11 0   18  60  27 0  15  2  2  50 ⋯  6187  87   9441  12614  5712  3455\n",
       "   S147   S148  S149  S150\n",
       "T1    317    41   320   14\n",
       "T2 258659 23841 79188 7491\n",
       "T3     32     4    35    2\n",
       "T4   2340   293  2036   96\n",
       "T5  26071  2888 16343  975\n",
       "T6   8992  1100  7295  364\n",
       "T7  18203  2122 13587  724"
      ]
     },
     "metadata": {},
     "output_type": "display_data"
    }
   ],
   "source": [
    "head(otu_data,7) # raw count data"
   ]
  },
  {
   "cell_type": "markdown",
   "id": "627d8477-9c1a-4172-a8a3-5bdb6b02dc92",
   "metadata": {
    "jp-MarkdownHeadingCollapsed": true,
    "tags": []
   },
   "source": [
    "## 3.1 Differential Abundance Analysis: Health status 1 and 2"
   ]
  },
  {
   "cell_type": "code",
   "execution_count": 33,
   "id": "e28980d1-0789-4a44-af91-a010cdfbf971",
   "metadata": {},
   "outputs": [
    {
     "data": {
      "text/html": [
       "<table class=\"dataframe\">\n",
       "<caption>A data.frame: 3 × 3</caption>\n",
       "<thead>\n",
       "\t<tr><th></th><th scope=col>stand_bmi</th><th scope=col>stand_choles</th><th scope=col>health_status</th></tr>\n",
       "\t<tr><th></th><th scope=col>&lt;dbl&gt;</th><th scope=col>&lt;dbl&gt;</th><th scope=col>&lt;fct&gt;</th></tr>\n",
       "</thead>\n",
       "<tbody>\n",
       "\t<tr><th scope=row>S1</th><td>-7.046117</td><td>-0.05133271</td><td>1</td></tr>\n",
       "\t<tr><th scope=row>S2</th><td>-8.183509</td><td>-1.30178093</td><td>1</td></tr>\n",
       "\t<tr><th scope=row>S3</th><td>-7.369319</td><td>-1.20561056</td><td>1</td></tr>\n",
       "</tbody>\n",
       "</table>\n"
      ],
      "text/latex": [
       "A data.frame: 3 × 3\n",
       "\\begin{tabular}{r|lll}\n",
       "  & stand\\_bmi & stand\\_choles & health\\_status\\\\\n",
       "  & <dbl> & <dbl> & <fct>\\\\\n",
       "\\hline\n",
       "\tS1 & -7.046117 & -0.05133271 & 1\\\\\n",
       "\tS2 & -8.183509 & -1.30178093 & 1\\\\\n",
       "\tS3 & -7.369319 & -1.20561056 & 1\\\\\n",
       "\\end{tabular}\n"
      ],
      "text/markdown": [
       "\n",
       "A data.frame: 3 × 3\n",
       "\n",
       "| <!--/--> | stand_bmi &lt;dbl&gt; | stand_choles &lt;dbl&gt; | health_status &lt;fct&gt; |\n",
       "|---|---|---|---|\n",
       "| S1 | -7.046117 | -0.05133271 | 1 |\n",
       "| S2 | -8.183509 | -1.30178093 | 1 |\n",
       "| S3 | -7.369319 | -1.20561056 | 1 |\n",
       "\n"
      ],
      "text/plain": [
       "   stand_bmi stand_choles health_status\n",
       "S1 -7.046117 -0.05133271  1            \n",
       "S2 -8.183509 -1.30178093  1            \n",
       "S3 -7.369319 -1.20561056  1            "
      ]
     },
     "metadata": {},
     "output_type": "display_data"
    }
   ],
   "source": [
    "# Meta data\n",
    "head(smd,3)"
   ]
  },
  {
   "cell_type": "code",
   "execution_count": 34,
   "id": "a31fb468-2e65-4604-9adf-6bdfe14885b2",
   "metadata": {},
   "outputs": [
    {
     "data": {
      "text/plain": [
       "\n",
       " 1  2  3 \n",
       "50 50 50 "
      ]
     },
     "metadata": {},
     "output_type": "display_data"
    }
   ],
   "source": [
    "table(smd$health_status)"
   ]
  },
  {
   "cell_type": "code",
   "execution_count": 35,
   "id": "e918c7d9-917e-452c-83bf-6844e8bb00d3",
   "metadata": {},
   "outputs": [
    {
     "data": {
      "text/plain": [
       "\n",
       " 1  2 \n",
       "50 50 "
      ]
     },
     "metadata": {},
     "output_type": "display_data"
    }
   ],
   "source": [
    "# Meta data : Choose only sample with health status 1 or 2\n",
    "smd_H1_H2 = smd[smd$health_status != 3,]\n",
    "smd_H1_H2$health_status = factor(smd_H1_H2$health_status, levels = c(1,2))\n",
    "table(smd_H1_H2$health_status)"
   ]
  },
  {
   "cell_type": "code",
   "execution_count": 36,
   "id": "614309b9-ca6b-467f-809e-aa12a8cc740f",
   "metadata": {},
   "outputs": [
    {
     "data": {
      "text/html": [
       "<table class=\"dataframe\">\n",
       "<caption>A matrix: 2 × 150 of type dbl</caption>\n",
       "<thead>\n",
       "\t<tr><th></th><th scope=col>S1</th><th scope=col>S2</th><th scope=col>S3</th><th scope=col>S4</th><th scope=col>S5</th><th scope=col>S6</th><th scope=col>S7</th><th scope=col>S8</th><th scope=col>S9</th><th scope=col>S10</th><th scope=col>⋯</th><th scope=col>S141</th><th scope=col>S142</th><th scope=col>S143</th><th scope=col>S144</th><th scope=col>S145</th><th scope=col>S146</th><th scope=col>S147</th><th scope=col>S148</th><th scope=col>S149</th><th scope=col>S150</th></tr>\n",
       "</thead>\n",
       "<tbody>\n",
       "\t<tr><th scope=row>T1</th><td>  1</td><td>0</td><td>  1</td><td>  3</td><td>  2</td><td>0</td><td> 1</td><td> 0</td><td> 0</td><td>  3</td><td>⋯</td><td>  142</td><td>  2</td><td>  208</td><td>   232</td><td>  105</td><td>   64</td><td>   317</td><td>   41</td><td>  320</td><td>  14</td></tr>\n",
       "\t<tr><th scope=row>T2</th><td>102</td><td>1</td><td>156</td><td>535</td><td>178</td><td>0</td><td>99</td><td>21</td><td>28</td><td>400</td><td>⋯</td><td>41555</td><td>940</td><td>69158</td><td>150981</td><td>68451</td><td>40298</td><td>258659</td><td>23841</td><td>79188</td><td>7491</td></tr>\n",
       "</tbody>\n",
       "</table>\n"
      ],
      "text/latex": [
       "A matrix: 2 × 150 of type dbl\n",
       "\\begin{tabular}{r|lllllllllllllllllllll}\n",
       "  & S1 & S2 & S3 & S4 & S5 & S6 & S7 & S8 & S9 & S10 & ⋯ & S141 & S142 & S143 & S144 & S145 & S146 & S147 & S148 & S149 & S150\\\\\n",
       "\\hline\n",
       "\tT1 &   1 & 0 &   1 &   3 &   2 & 0 &  1 &  0 &  0 &   3 & ⋯ &   142 &   2 &   208 &    232 &   105 &    64 &    317 &    41 &   320 &   14\\\\\n",
       "\tT2 & 102 & 1 & 156 & 535 & 178 & 0 & 99 & 21 & 28 & 400 & ⋯ & 41555 & 940 & 69158 & 150981 & 68451 & 40298 & 258659 & 23841 & 79188 & 7491\\\\\n",
       "\\end{tabular}\n"
      ],
      "text/markdown": [
       "\n",
       "A matrix: 2 × 150 of type dbl\n",
       "\n",
       "| <!--/--> | S1 | S2 | S3 | S4 | S5 | S6 | S7 | S8 | S9 | S10 | ⋯ | S141 | S142 | S143 | S144 | S145 | S146 | S147 | S148 | S149 | S150 |\n",
       "|---|---|---|---|---|---|---|---|---|---|---|---|---|---|---|---|---|---|---|---|---|---|\n",
       "| T1 |   1 | 0 |   1 |   3 |   2 | 0 |  1 |  0 |  0 |   3 | ⋯ |   142 |   2 |   208 |    232 |   105 |    64 |    317 |    41 |   320 |   14 |\n",
       "| T2 | 102 | 1 | 156 | 535 | 178 | 0 | 99 | 21 | 28 | 400 | ⋯ | 41555 | 940 | 69158 | 150981 | 68451 | 40298 | 258659 | 23841 | 79188 | 7491 |\n",
       "\n"
      ],
      "text/plain": [
       "   S1  S2 S3  S4  S5  S6 S7 S8 S9 S10 ⋯ S141  S142 S143  S144   S145  S146 \n",
       "T1   1 0    1   3   2 0   1  0  0   3 ⋯   142   2    208    232   105    64\n",
       "T2 102 1  156 535 178 0  99 21 28 400 ⋯ 41555 940  69158 150981 68451 40298\n",
       "   S147   S148  S149  S150\n",
       "T1    317    41   320   14\n",
       "T2 258659 23841 79188 7491"
      ]
     },
     "metadata": {},
     "output_type": "display_data"
    }
   ],
   "source": [
    "# Count data\n",
    "head(otu_data,2)"
   ]
  },
  {
   "cell_type": "code",
   "execution_count": 37,
   "id": "1282d4b7-4535-484c-890d-46c0afc39df8",
   "metadata": {
    "tags": []
   },
   "outputs": [
    {
     "data": {
      "text/html": [
       "<style>\n",
       ".list-inline {list-style: none; margin:0; padding: 0}\n",
       ".list-inline>li {display: inline-block}\n",
       ".list-inline>li:not(:last-child)::after {content: \"\\00b7\"; padding: 0 .5ex}\n",
       "</style>\n",
       "<ol class=list-inline><li>91</li><li>100</li></ol>\n"
      ],
      "text/latex": [
       "\\begin{enumerate*}\n",
       "\\item 91\n",
       "\\item 100\n",
       "\\end{enumerate*}\n"
      ],
      "text/markdown": [
       "1. 91\n",
       "2. 100\n",
       "\n",
       "\n"
      ],
      "text/plain": [
       "[1]  91 100"
      ]
     },
     "metadata": {},
     "output_type": "display_data"
    },
    {
     "data": {
      "text/html": [
       "<table class=\"dataframe\">\n",
       "<caption>A matrix: 3 × 100 of type dbl</caption>\n",
       "<thead>\n",
       "\t<tr><th></th><th scope=col>S1</th><th scope=col>S2</th><th scope=col>S3</th><th scope=col>S4</th><th scope=col>S5</th><th scope=col>S6</th><th scope=col>S7</th><th scope=col>S8</th><th scope=col>S9</th><th scope=col>S10</th><th scope=col>⋯</th><th scope=col>S91</th><th scope=col>S92</th><th scope=col>S93</th><th scope=col>S94</th><th scope=col>S95</th><th scope=col>S96</th><th scope=col>S97</th><th scope=col>S98</th><th scope=col>S99</th><th scope=col>S100</th></tr>\n",
       "</thead>\n",
       "<tbody>\n",
       "\t<tr><th scope=row>T1</th><td>  1</td><td>0</td><td>  1</td><td>  3</td><td>  2</td><td>0</td><td> 1</td><td> 0</td><td> 0</td><td>  3</td><td>⋯</td><td>  51</td><td>  8</td><td>0</td><td>0</td><td>0</td><td> 29</td><td> 4</td><td> 22</td><td>0</td><td> 1</td></tr>\n",
       "\t<tr><th scope=row>T2</th><td>102</td><td>1</td><td>156</td><td>535</td><td>178</td><td>0</td><td>99</td><td>21</td><td>28</td><td>400</td><td>⋯</td><td>1213</td><td>256</td><td>9</td><td>1</td><td>1</td><td>787</td><td>76</td><td>783</td><td>0</td><td>11</td></tr>\n",
       "\t<tr><th scope=row>T3</th><td>  0</td><td>0</td><td>  0</td><td>  0</td><td>  0</td><td>0</td><td> 0</td><td> 0</td><td> 0</td><td>  0</td><td>⋯</td><td>   5</td><td>  1</td><td>0</td><td>0</td><td>0</td><td>  3</td><td> 0</td><td>  2</td><td>0</td><td> 0</td></tr>\n",
       "</tbody>\n",
       "</table>\n"
      ],
      "text/latex": [
       "A matrix: 3 × 100 of type dbl\n",
       "\\begin{tabular}{r|lllllllllllllllllllll}\n",
       "  & S1 & S2 & S3 & S4 & S5 & S6 & S7 & S8 & S9 & S10 & ⋯ & S91 & S92 & S93 & S94 & S95 & S96 & S97 & S98 & S99 & S100\\\\\n",
       "\\hline\n",
       "\tT1 &   1 & 0 &   1 &   3 &   2 & 0 &  1 &  0 &  0 &   3 & ⋯ &   51 &   8 & 0 & 0 & 0 &  29 &  4 &  22 & 0 &  1\\\\\n",
       "\tT2 & 102 & 1 & 156 & 535 & 178 & 0 & 99 & 21 & 28 & 400 & ⋯ & 1213 & 256 & 9 & 1 & 1 & 787 & 76 & 783 & 0 & 11\\\\\n",
       "\tT3 &   0 & 0 &   0 &   0 &   0 & 0 &  0 &  0 &  0 &   0 & ⋯ &    5 &   1 & 0 & 0 & 0 &   3 &  0 &   2 & 0 &  0\\\\\n",
       "\\end{tabular}\n"
      ],
      "text/markdown": [
       "\n",
       "A matrix: 3 × 100 of type dbl\n",
       "\n",
       "| <!--/--> | S1 | S2 | S3 | S4 | S5 | S6 | S7 | S8 | S9 | S10 | ⋯ | S91 | S92 | S93 | S94 | S95 | S96 | S97 | S98 | S99 | S100 |\n",
       "|---|---|---|---|---|---|---|---|---|---|---|---|---|---|---|---|---|---|---|---|---|---|\n",
       "| T1 |   1 | 0 |   1 |   3 |   2 | 0 |  1 |  0 |  0 |   3 | ⋯ |   51 |   8 | 0 | 0 | 0 |  29 |  4 |  22 | 0 |  1 |\n",
       "| T2 | 102 | 1 | 156 | 535 | 178 | 0 | 99 | 21 | 28 | 400 | ⋯ | 1213 | 256 | 9 | 1 | 1 | 787 | 76 | 783 | 0 | 11 |\n",
       "| T3 |   0 | 0 |   0 |   0 |   0 | 0 |  0 |  0 |  0 |   0 | ⋯ |    5 |   1 | 0 | 0 | 0 |   3 |  0 |   2 | 0 |  0 |\n",
       "\n"
      ],
      "text/plain": [
       "   S1  S2 S3  S4  S5  S6 S7 S8 S9 S10 ⋯ S91  S92 S93 S94 S95 S96 S97 S98 S99\n",
       "T1   1 0    1   3   2 0   1  0  0   3 ⋯   51   8 0   0   0    29  4   22 0  \n",
       "T2 102 1  156 535 178 0  99 21 28 400 ⋯ 1213 256 9   1   1   787 76  783 0  \n",
       "T3   0 0    0   0   0 0   0  0  0   0 ⋯    5   1 0   0   0     3  0    2 0  \n",
       "   S100\n",
       "T1  1  \n",
       "T2 11  \n",
       "T3  0  "
      ]
     },
     "metadata": {},
     "output_type": "display_data"
    }
   ],
   "source": [
    "# Count data : Choose only sample with health status 1 or 2\n",
    "otu_data_H1_H2 <- otu_data[, colnames(otu_data) %in% rownames(smd_H1_H2)]\n",
    "dim(otu_data_H1_H2)\n",
    "head(otu_data_H1_H2,3)"
   ]
  },
  {
   "cell_type": "code",
   "execution_count": 38,
   "id": "11a44ac8-c05c-4b1c-860e-ed14e5a1c5af",
   "metadata": {},
   "outputs": [],
   "source": [
    "# Create the tse object\n",
    "assays = S4Vectors::SimpleList(counts = otu_data_H1_H2) # count data\n",
    "smd_H1_H2 = S4Vectors::DataFrame(smd_H1_H2) # meta data\n",
    "tse = TreeSummarizedExperiment::TreeSummarizedExperiment(assays = assays, colData = smd_H1_H2)"
   ]
  },
  {
   "cell_type": "code",
   "execution_count": 39,
   "id": "6f7a2c42-2fcf-4a7a-8d5b-c1c3981f9f30",
   "metadata": {},
   "outputs": [
    {
     "data": {
      "text/plain": [
       "class: TreeSummarizedExperiment \n",
       "dim: 91 100 \n",
       "metadata(0):\n",
       "assays(1): counts\n",
       "rownames(91): T1 T2 ... T90 T91\n",
       "rowData names(0):\n",
       "colnames(100): S1 S2 ... S99 S100\n",
       "colData names(3): stand_bmi stand_choles health_status\n",
       "reducedDimNames(0):\n",
       "mainExpName: NULL\n",
       "altExpNames(0):\n",
       "rowLinks: NULL\n",
       "rowTree: NULL\n",
       "colLinks: NULL\n",
       "colTree: NULL"
      ]
     },
     "metadata": {},
     "output_type": "display_data"
    }
   ],
   "source": [
    "tse"
   ]
  },
  {
   "cell_type": "code",
   "execution_count": 40,
   "id": "a6731132-b974-42e7-ba38-69eda07d91bf",
   "metadata": {
    "collapsed": true,
    "jupyter": {
     "outputs_hidden": true
    },
    "tags": []
   },
   "outputs": [
    {
     "name": "stderr",
     "output_type": "stream",
     "text": [
      "Warning message:\n",
      "\"The group variable has < 3 categories \n",
      "The multi-group comparisons (global/pairwise/dunnet/trend) will be deactivated\"\n",
      "Obtaining initial estimates ...\n",
      "\n",
      "Estimating sample-specific biases ...\n",
      "\n",
      "Warning message in sqrt(sweep(var_hat, 2, var_delta, \"*\")):\n",
      "\"NaNs produced\"\n",
      "Sensitivity analysis for pseudo-count addition to 0s: ...\n",
      "\n",
      "ANCOM-BC2 primary results ...\n",
      "\n"
     ]
    }
   ],
   "source": [
    "set.seed(123)\n",
    "output = ancombc2(data = tse, \n",
    "                  assay_name = \"counts\",\n",
    "                  fix_formula = \"health_status\", # response ~ covariate\n",
    "                  p_adj_method = \"holm\",\n",
    "                  pseudo_sens = TRUE,                 # sensitivity analysis to the pseudo-count addition\n",
    "                  prv_cut = 0.10,                     # (0,1) Taxa with prevalences less than prv_cut will be excluded\n",
    "                  lib_cut = 1000,                     # filter sampling with sampling depth\n",
    "                  s0_perc = 0.05,                     # advoid significant feature due to small standard error, (rare taxa)\n",
    "                  group = \"health_status\",            # Group to be differencially analyzed (healthy status - 1,2)             \n",
    "                  alpha = 0.05,                       # Level of significant\n",
    "                  n_cl = 2,                           # CPU cores to compute\n",
    "                  verbose = TRUE,\n",
    "                  pairwise = FALSE,                   # CUP cores to compute\n",
    "                  iter_control = list(tol = 1e-5, max_iter = 20, # Liner regression model parameter\n",
    "                                      verbose = FALSE),\n",
    "                  em_control = list(tol = 1e-5, max_iter = 100),\n",
    "                  lme_control = NULL, \n",
    "                  mdfdr_control = list(fwer_ctrl_method = \"holm\", B = 100))"
   ]
  },
  {
   "cell_type": "code",
   "execution_count": 41,
   "id": "10a71799-0697-4e29-8fd0-351f1d3a27d0",
   "metadata": {},
   "outputs": [
    {
     "data": {
      "text/html": [
       "<table class=\"dataframe\">\n",
       "<caption>A matrix: 2 × 93 of type dbl</caption>\n",
       "<thead>\n",
       "\t<tr><th></th><th scope=col>S1</th><th scope=col>S3</th><th scope=col>S4</th><th scope=col>S5</th><th scope=col>S7</th><th scope=col>S8</th><th scope=col>S9</th><th scope=col>S10</th><th scope=col>S11</th><th scope=col>S12</th><th scope=col>⋯</th><th scope=col>S89</th><th scope=col>S90</th><th scope=col>S91</th><th scope=col>S92</th><th scope=col>S93</th><th scope=col>S94</th><th scope=col>S96</th><th scope=col>S97</th><th scope=col>S98</th><th scope=col>S100</th></tr>\n",
       "</thead>\n",
       "<tbody>\n",
       "\t<tr><th scope=row>T1</th><td>  1</td><td>  1</td><td>  3</td><td>  2</td><td> 1</td><td> 0</td><td> 0</td><td>  3</td><td> 0</td><td>  3</td><td>⋯</td><td>0</td><td> 1</td><td>  51</td><td>  8</td><td>0</td><td>0</td><td> 29</td><td> 4</td><td> 22</td><td> 1</td></tr>\n",
       "\t<tr><th scope=row>T2</th><td>102</td><td>156</td><td>535</td><td>178</td><td>99</td><td>21</td><td>28</td><td>400</td><td>60</td><td>486</td><td>⋯</td><td>5</td><td>26</td><td>1213</td><td>256</td><td>9</td><td>1</td><td>787</td><td>76</td><td>783</td><td>11</td></tr>\n",
       "</tbody>\n",
       "</table>\n"
      ],
      "text/latex": [
       "A matrix: 2 × 93 of type dbl\n",
       "\\begin{tabular}{r|lllllllllllllllllllll}\n",
       "  & S1 & S3 & S4 & S5 & S7 & S8 & S9 & S10 & S11 & S12 & ⋯ & S89 & S90 & S91 & S92 & S93 & S94 & S96 & S97 & S98 & S100\\\\\n",
       "\\hline\n",
       "\tT1 &   1 &   1 &   3 &   2 &  1 &  0 &  0 &   3 &  0 &   3 & ⋯ & 0 &  1 &   51 &   8 & 0 & 0 &  29 &  4 &  22 &  1\\\\\n",
       "\tT2 & 102 & 156 & 535 & 178 & 99 & 21 & 28 & 400 & 60 & 486 & ⋯ & 5 & 26 & 1213 & 256 & 9 & 1 & 787 & 76 & 783 & 11\\\\\n",
       "\\end{tabular}\n"
      ],
      "text/markdown": [
       "\n",
       "A matrix: 2 × 93 of type dbl\n",
       "\n",
       "| <!--/--> | S1 | S3 | S4 | S5 | S7 | S8 | S9 | S10 | S11 | S12 | ⋯ | S89 | S90 | S91 | S92 | S93 | S94 | S96 | S97 | S98 | S100 |\n",
       "|---|---|---|---|---|---|---|---|---|---|---|---|---|---|---|---|---|---|---|---|---|---|\n",
       "| T1 |   1 |   1 |   3 |   2 |  1 |  0 |  0 |   3 |  0 |   3 | ⋯ | 0 |  1 |   51 |   8 | 0 | 0 |  29 |  4 |  22 |  1 |\n",
       "| T2 | 102 | 156 | 535 | 178 | 99 | 21 | 28 | 400 | 60 | 486 | ⋯ | 5 | 26 | 1213 | 256 | 9 | 1 | 787 | 76 | 783 | 11 |\n",
       "\n"
      ],
      "text/plain": [
       "   S1  S3  S4  S5  S7 S8 S9 S10 S11 S12 ⋯ S89 S90 S91  S92 S93 S94 S96 S97 S98\n",
       "T1   1   1   3   2  1  0  0   3  0    3 ⋯ 0    1    51   8 0   0    29  4   22\n",
       "T2 102 156 535 178 99 21 28 400 60  486 ⋯ 5   26  1213 256 9   1   787 76  783\n",
       "   S100\n",
       "T1  1  \n",
       "T2 11  "
      ]
     },
     "metadata": {},
     "output_type": "display_data"
    }
   ],
   "source": [
    "head(output$feature_table,2)"
   ]
  },
  {
   "cell_type": "code",
   "execution_count": 42,
   "id": "8cecaaa0-6335-42b7-afb4-4f5536fa99ad",
   "metadata": {},
   "outputs": [
    {
     "data": {
      "text/html": [
       "<table class=\"dataframe\">\n",
       "<caption>A data.frame: 2 × 93</caption>\n",
       "<thead>\n",
       "\t<tr><th></th><th scope=col>S1</th><th scope=col>S3</th><th scope=col>S4</th><th scope=col>S5</th><th scope=col>S7</th><th scope=col>S8</th><th scope=col>S9</th><th scope=col>S10</th><th scope=col>S11</th><th scope=col>S12</th><th scope=col>⋯</th><th scope=col>S89</th><th scope=col>S90</th><th scope=col>S91</th><th scope=col>S92</th><th scope=col>S93</th><th scope=col>S94</th><th scope=col>S96</th><th scope=col>S97</th><th scope=col>S98</th><th scope=col>S100</th></tr>\n",
       "\t<tr><th></th><th scope=col>&lt;dbl&gt;</th><th scope=col>&lt;dbl&gt;</th><th scope=col>&lt;dbl&gt;</th><th scope=col>&lt;dbl&gt;</th><th scope=col>&lt;dbl&gt;</th><th scope=col>&lt;dbl&gt;</th><th scope=col>&lt;dbl&gt;</th><th scope=col>&lt;dbl&gt;</th><th scope=col>&lt;dbl&gt;</th><th scope=col>&lt;dbl&gt;</th><th scope=col>⋯</th><th scope=col>&lt;dbl&gt;</th><th scope=col>&lt;dbl&gt;</th><th scope=col>&lt;dbl&gt;</th><th scope=col>&lt;dbl&gt;</th><th scope=col>&lt;dbl&gt;</th><th scope=col>&lt;dbl&gt;</th><th scope=col>&lt;dbl&gt;</th><th scope=col>&lt;dbl&gt;</th><th scope=col>&lt;dbl&gt;</th><th scope=col>&lt;dbl&gt;</th></tr>\n",
       "</thead>\n",
       "<tbody>\n",
       "\t<tr><th scope=row>T1</th><td>-0.138931</td><td>-0.4848042</td><td>-0.7692875</td><td>-0.4039632</td><td>-0.5681792</td><td>      NA</td><td>       NA</td><td>-0.4074126</td><td>      NA</td><td>-0.8452492</td><td>⋯</td><td>      NA</td><td>-1.027670</td><td>-0.5299654</td><td>-0.9886069</td><td>        NA</td><td>       NA</td><td>-0.8305132</td><td>-0.6235703</td><td>-0.9671347</td><td>-0.1206625</td></tr>\n",
       "\t<tr><th scope=row>T2</th><td> 1.055422</td><td> 1.1344323</td><td> 0.9837475</td><td> 0.6540537</td><td> 0.5963212</td><td>1.154336</td><td>0.8960626</td><td> 1.0548202</td><td>1.206111</td><td> 0.8117277</td><td>⋯</td><td>-1.50715</td><td>-1.200193</td><td>-0.7915586</td><td>-0.9534905</td><td>-0.7103483</td><td>-1.481377</td><td>-0.9602002</td><td>-1.1097508</td><td>-0.8256639</td><td>-1.1533867</td></tr>\n",
       "</tbody>\n",
       "</table>\n"
      ],
      "text/latex": [
       "A data.frame: 2 × 93\n",
       "\\begin{tabular}{r|lllllllllllllllllllll}\n",
       "  & S1 & S3 & S4 & S5 & S7 & S8 & S9 & S10 & S11 & S12 & ⋯ & S89 & S90 & S91 & S92 & S93 & S94 & S96 & S97 & S98 & S100\\\\\n",
       "  & <dbl> & <dbl> & <dbl> & <dbl> & <dbl> & <dbl> & <dbl> & <dbl> & <dbl> & <dbl> & ⋯ & <dbl> & <dbl> & <dbl> & <dbl> & <dbl> & <dbl> & <dbl> & <dbl> & <dbl> & <dbl>\\\\\n",
       "\\hline\n",
       "\tT1 & -0.138931 & -0.4848042 & -0.7692875 & -0.4039632 & -0.5681792 &       NA &        NA & -0.4074126 &       NA & -0.8452492 & ⋯ &       NA & -1.027670 & -0.5299654 & -0.9886069 &         NA &        NA & -0.8305132 & -0.6235703 & -0.9671347 & -0.1206625\\\\\n",
       "\tT2 &  1.055422 &  1.1344323 &  0.9837475 &  0.6540537 &  0.5963212 & 1.154336 & 0.8960626 &  1.0548202 & 1.206111 &  0.8117277 & ⋯ & -1.50715 & -1.200193 & -0.7915586 & -0.9534905 & -0.7103483 & -1.481377 & -0.9602002 & -1.1097508 & -0.8256639 & -1.1533867\\\\\n",
       "\\end{tabular}\n"
      ],
      "text/markdown": [
       "\n",
       "A data.frame: 2 × 93\n",
       "\n",
       "| <!--/--> | S1 &lt;dbl&gt; | S3 &lt;dbl&gt; | S4 &lt;dbl&gt; | S5 &lt;dbl&gt; | S7 &lt;dbl&gt; | S8 &lt;dbl&gt; | S9 &lt;dbl&gt; | S10 &lt;dbl&gt; | S11 &lt;dbl&gt; | S12 &lt;dbl&gt; | ⋯ ⋯ | S89 &lt;dbl&gt; | S90 &lt;dbl&gt; | S91 &lt;dbl&gt; | S92 &lt;dbl&gt; | S93 &lt;dbl&gt; | S94 &lt;dbl&gt; | S96 &lt;dbl&gt; | S97 &lt;dbl&gt; | S98 &lt;dbl&gt; | S100 &lt;dbl&gt; |\n",
       "|---|---|---|---|---|---|---|---|---|---|---|---|---|---|---|---|---|---|---|---|---|---|\n",
       "| T1 | -0.138931 | -0.4848042 | -0.7692875 | -0.4039632 | -0.5681792 |       NA |        NA | -0.4074126 |       NA | -0.8452492 | ⋯ |       NA | -1.027670 | -0.5299654 | -0.9886069 |         NA |        NA | -0.8305132 | -0.6235703 | -0.9671347 | -0.1206625 |\n",
       "| T2 |  1.055422 |  1.1344323 |  0.9837475 |  0.6540537 |  0.5963212 | 1.154336 | 0.8960626 |  1.0548202 | 1.206111 |  0.8117277 | ⋯ | -1.50715 | -1.200193 | -0.7915586 | -0.9534905 | -0.7103483 | -1.481377 | -0.9602002 | -1.1097508 | -0.8256639 | -1.1533867 |\n",
       "\n"
      ],
      "text/plain": [
       "   S1        S3         S4         S5         S7         S8       S9       \n",
       "T1 -0.138931 -0.4848042 -0.7692875 -0.4039632 -0.5681792       NA        NA\n",
       "T2  1.055422  1.1344323  0.9837475  0.6540537  0.5963212 1.154336 0.8960626\n",
       "   S10        S11      S12        ⋯ S89      S90       S91        S92       \n",
       "T1 -0.4074126       NA -0.8452492 ⋯       NA -1.027670 -0.5299654 -0.9886069\n",
       "T2  1.0548202 1.206111  0.8117277 ⋯ -1.50715 -1.200193 -0.7915586 -0.9534905\n",
       "   S93        S94       S96        S97        S98        S100      \n",
       "T1         NA        NA -0.8305132 -0.6235703 -0.9671347 -0.1206625\n",
       "T2 -0.7103483 -1.481377 -0.9602002 -1.1097508 -0.8256639 -1.1533867"
      ]
     },
     "metadata": {},
     "output_type": "display_data"
    }
   ],
   "source": [
    "head(output$bias_correct_log_table,2)"
   ]
  },
  {
   "cell_type": "code",
   "execution_count": 43,
   "id": "687a5212-ff88-475c-9eae-93d7487eb64e",
   "metadata": {
    "tags": []
   },
   "outputs": [
    {
     "data": {
      "text/html": [
       "<style>\n",
       ".list-inline {list-style: none; margin:0; padding: 0}\n",
       ".list-inline>li {display: inline-block}\n",
       ".list-inline>li:not(:last-child)::after {content: \"\\00b7\"; padding: 0 .5ex}\n",
       "</style>\n",
       "<ol class=list-inline><li>'taxon'</li><li>'lfc_(Intercept)'</li><li>'lfc_health_status2'</li><li>'se_(Intercept)'</li><li>'se_health_status2'</li><li>'W_(Intercept)'</li><li>'W_health_status2'</li><li>'p_(Intercept)'</li><li>'p_health_status2'</li><li>'q_(Intercept)'</li><li>'q_health_status2'</li><li>'diff_(Intercept)'</li><li>'diff_health_status2'</li><li>'passed_ss_(Intercept)'</li><li>'passed_ss_health_status2'</li></ol>\n"
      ],
      "text/latex": [
       "\\begin{enumerate*}\n",
       "\\item 'taxon'\n",
       "\\item 'lfc\\_(Intercept)'\n",
       "\\item 'lfc\\_health\\_status2'\n",
       "\\item 'se\\_(Intercept)'\n",
       "\\item 'se\\_health\\_status2'\n",
       "\\item 'W\\_(Intercept)'\n",
       "\\item 'W\\_health\\_status2'\n",
       "\\item 'p\\_(Intercept)'\n",
       "\\item 'p\\_health\\_status2'\n",
       "\\item 'q\\_(Intercept)'\n",
       "\\item 'q\\_health\\_status2'\n",
       "\\item 'diff\\_(Intercept)'\n",
       "\\item 'diff\\_health\\_status2'\n",
       "\\item 'passed\\_ss\\_(Intercept)'\n",
       "\\item 'passed\\_ss\\_health\\_status2'\n",
       "\\end{enumerate*}\n"
      ],
      "text/markdown": [
       "1. 'taxon'\n",
       "2. 'lfc_(Intercept)'\n",
       "3. 'lfc_health_status2'\n",
       "4. 'se_(Intercept)'\n",
       "5. 'se_health_status2'\n",
       "6. 'W_(Intercept)'\n",
       "7. 'W_health_status2'\n",
       "8. 'p_(Intercept)'\n",
       "9. 'p_health_status2'\n",
       "10. 'q_(Intercept)'\n",
       "11. 'q_health_status2'\n",
       "12. 'diff_(Intercept)'\n",
       "13. 'diff_health_status2'\n",
       "14. 'passed_ss_(Intercept)'\n",
       "15. 'passed_ss_health_status2'\n",
       "\n",
       "\n"
      ],
      "text/plain": [
       " [1] \"taxon\"                    \"lfc_(Intercept)\"         \n",
       " [3] \"lfc_health_status2\"       \"se_(Intercept)\"          \n",
       " [5] \"se_health_status2\"        \"W_(Intercept)\"           \n",
       " [7] \"W_health_status2\"         \"p_(Intercept)\"           \n",
       " [9] \"p_health_status2\"         \"q_(Intercept)\"           \n",
       "[11] \"q_health_status2\"         \"diff_(Intercept)\"        \n",
       "[13] \"diff_health_status2\"      \"passed_ss_(Intercept)\"   \n",
       "[15] \"passed_ss_health_status2\""
      ]
     },
     "metadata": {},
     "output_type": "display_data"
    }
   ],
   "source": [
    "colnames(output$res)"
   ]
  },
  {
   "cell_type": "code",
   "execution_count": 44,
   "id": "8c84eb47-fbf9-41db-863e-4c803679f83c",
   "metadata": {
    "tags": []
   },
   "outputs": [
    {
     "data": {
      "text/html": [
       "<table class=\"dataframe\">\n",
       "<caption>A data.frame: 2 × 15</caption>\n",
       "<thead>\n",
       "\t<tr><th></th><th scope=col>taxon</th><th scope=col>lfc_(Intercept)</th><th scope=col>lfc_health_status2</th><th scope=col>se_(Intercept)</th><th scope=col>se_health_status2</th><th scope=col>W_(Intercept)</th><th scope=col>W_health_status2</th><th scope=col>p_(Intercept)</th><th scope=col>p_health_status2</th><th scope=col>q_(Intercept)</th><th scope=col>q_health_status2</th><th scope=col>diff_(Intercept)</th><th scope=col>diff_health_status2</th><th scope=col>passed_ss_(Intercept)</th><th scope=col>passed_ss_health_status2</th></tr>\n",
       "\t<tr><th></th><th scope=col>&lt;chr&gt;</th><th scope=col>&lt;dbl&gt;</th><th scope=col>&lt;dbl&gt;</th><th scope=col>&lt;dbl&gt;</th><th scope=col>&lt;dbl&gt;</th><th scope=col>&lt;dbl&gt;</th><th scope=col>&lt;dbl&gt;</th><th scope=col>&lt;dbl&gt;</th><th scope=col>&lt;dbl&gt;</th><th scope=col>&lt;dbl&gt;</th><th scope=col>&lt;dbl&gt;</th><th scope=col>&lt;lgl&gt;</th><th scope=col>&lt;lgl&gt;</th><th scope=col>&lt;lgl&gt;</th><th scope=col>&lt;lgl&gt;</th></tr>\n",
       "</thead>\n",
       "<tbody>\n",
       "\t<tr><th scope=row>1</th><td>T1</td><td>-0.6815617</td><td>-0.06342587</td><td>0.04311135</td><td>0.07016352</td><td>-15.80933</td><td> -0.9039722</td><td>1.821665e-24</td><td>3.692016e-01</td><td>1.439115e-22</td><td>1.000000e+00</td><td>TRUE</td><td>FALSE</td><td>FALSE</td><td>FALSE</td></tr>\n",
       "\t<tr><th scope=row>2</th><td>T2</td><td> 1.0222721</td><td>-1.99577204</td><td>0.05060129</td><td>0.06833953</td><td> 20.20249</td><td>-29.2037721</td><td>2.143589e-35</td><td>5.258069e-48</td><td>1.907794e-33</td><td>4.679681e-46</td><td>TRUE</td><td> TRUE</td><td> TRUE</td><td> TRUE</td></tr>\n",
       "</tbody>\n",
       "</table>\n"
      ],
      "text/latex": [
       "A data.frame: 2 × 15\n",
       "\\begin{tabular}{r|lllllllllllllll}\n",
       "  & taxon & lfc\\_(Intercept) & lfc\\_health\\_status2 & se\\_(Intercept) & se\\_health\\_status2 & W\\_(Intercept) & W\\_health\\_status2 & p\\_(Intercept) & p\\_health\\_status2 & q\\_(Intercept) & q\\_health\\_status2 & diff\\_(Intercept) & diff\\_health\\_status2 & passed\\_ss\\_(Intercept) & passed\\_ss\\_health\\_status2\\\\\n",
       "  & <chr> & <dbl> & <dbl> & <dbl> & <dbl> & <dbl> & <dbl> & <dbl> & <dbl> & <dbl> & <dbl> & <lgl> & <lgl> & <lgl> & <lgl>\\\\\n",
       "\\hline\n",
       "\t1 & T1 & -0.6815617 & -0.06342587 & 0.04311135 & 0.07016352 & -15.80933 &  -0.9039722 & 1.821665e-24 & 3.692016e-01 & 1.439115e-22 & 1.000000e+00 & TRUE & FALSE & FALSE & FALSE\\\\\n",
       "\t2 & T2 &  1.0222721 & -1.99577204 & 0.05060129 & 0.06833953 &  20.20249 & -29.2037721 & 2.143589e-35 & 5.258069e-48 & 1.907794e-33 & 4.679681e-46 & TRUE &  TRUE &  TRUE &  TRUE\\\\\n",
       "\\end{tabular}\n"
      ],
      "text/markdown": [
       "\n",
       "A data.frame: 2 × 15\n",
       "\n",
       "| <!--/--> | taxon &lt;chr&gt; | lfc_(Intercept) &lt;dbl&gt; | lfc_health_status2 &lt;dbl&gt; | se_(Intercept) &lt;dbl&gt; | se_health_status2 &lt;dbl&gt; | W_(Intercept) &lt;dbl&gt; | W_health_status2 &lt;dbl&gt; | p_(Intercept) &lt;dbl&gt; | p_health_status2 &lt;dbl&gt; | q_(Intercept) &lt;dbl&gt; | q_health_status2 &lt;dbl&gt; | diff_(Intercept) &lt;lgl&gt; | diff_health_status2 &lt;lgl&gt; | passed_ss_(Intercept) &lt;lgl&gt; | passed_ss_health_status2 &lt;lgl&gt; |\n",
       "|---|---|---|---|---|---|---|---|---|---|---|---|---|---|---|---|\n",
       "| 1 | T1 | -0.6815617 | -0.06342587 | 0.04311135 | 0.07016352 | -15.80933 |  -0.9039722 | 1.821665e-24 | 3.692016e-01 | 1.439115e-22 | 1.000000e+00 | TRUE | FALSE | FALSE | FALSE |\n",
       "| 2 | T2 |  1.0222721 | -1.99577204 | 0.05060129 | 0.06833953 |  20.20249 | -29.2037721 | 2.143589e-35 | 5.258069e-48 | 1.907794e-33 | 4.679681e-46 | TRUE |  TRUE |  TRUE |  TRUE |\n",
       "\n"
      ],
      "text/plain": [
       "  taxon lfc_(Intercept) lfc_health_status2 se_(Intercept) se_health_status2\n",
       "1 T1    -0.6815617      -0.06342587        0.04311135     0.07016352       \n",
       "2 T2     1.0222721      -1.99577204        0.05060129     0.06833953       \n",
       "  W_(Intercept) W_health_status2 p_(Intercept) p_health_status2 q_(Intercept)\n",
       "1 -15.80933      -0.9039722      1.821665e-24  3.692016e-01     1.439115e-22 \n",
       "2  20.20249     -29.2037721      2.143589e-35  5.258069e-48     1.907794e-33 \n",
       "  q_health_status2 diff_(Intercept) diff_health_status2 passed_ss_(Intercept)\n",
       "1 1.000000e+00     TRUE             FALSE               FALSE                \n",
       "2 4.679681e-46     TRUE              TRUE                TRUE                \n",
       "  passed_ss_health_status2\n",
       "1 FALSE                   \n",
       "2  TRUE                   "
      ]
     },
     "metadata": {},
     "output_type": "display_data"
    }
   ],
   "source": [
    "head(output$res,2)"
   ]
  },
  {
   "cell_type": "code",
   "execution_count": 45,
   "id": "74048420-4a4c-4d5d-a7d3-2b39bde322bd",
   "metadata": {},
   "outputs": [],
   "source": [
    "# lfc_cont_cov: Log-fold change for the continuous covariate\n",
    "# lfc_cat_cov2: Log-fold change for the categorical 2 to the reference category 1\n",
    "# se: standard error of log fold change\n",
    "# W: Test statistic for the log-fold change (Wald statistic test ~ t test with no variance assumption)\n",
    "# diff: log fold change is different from zero?\n",
    "# pass: pass the sensitivity analysis"
   ]
  },
  {
   "cell_type": "markdown",
   "id": "dc6775ba-66ef-4c75-b1f5-90532a5dd89c",
   "metadata": {
    "jp-MarkdownHeadingCollapsed": true,
    "tags": []
   },
   "source": [
    "## 3.2 Differential Abundance Analysis: Health status 1, 2 and 3"
   ]
  },
  {
   "cell_type": "code",
   "execution_count": 46,
   "id": "aa0216c6-ce63-496f-8db0-9f7e4568af66",
   "metadata": {},
   "outputs": [
    {
     "data": {
      "text/html": [
       "<table class=\"dataframe\">\n",
       "<caption>A data.frame: 3 × 3</caption>\n",
       "<thead>\n",
       "\t<tr><th></th><th scope=col>stand_bmi</th><th scope=col>stand_choles</th><th scope=col>health_status</th></tr>\n",
       "\t<tr><th></th><th scope=col>&lt;dbl&gt;</th><th scope=col>&lt;dbl&gt;</th><th scope=col>&lt;fct&gt;</th></tr>\n",
       "</thead>\n",
       "<tbody>\n",
       "\t<tr><th scope=row>S1</th><td>-7.046117</td><td>-0.05133271</td><td>1</td></tr>\n",
       "\t<tr><th scope=row>S2</th><td>-8.183509</td><td>-1.30178093</td><td>1</td></tr>\n",
       "\t<tr><th scope=row>S3</th><td>-7.369319</td><td>-1.20561056</td><td>1</td></tr>\n",
       "</tbody>\n",
       "</table>\n"
      ],
      "text/latex": [
       "A data.frame: 3 × 3\n",
       "\\begin{tabular}{r|lll}\n",
       "  & stand\\_bmi & stand\\_choles & health\\_status\\\\\n",
       "  & <dbl> & <dbl> & <fct>\\\\\n",
       "\\hline\n",
       "\tS1 & -7.046117 & -0.05133271 & 1\\\\\n",
       "\tS2 & -8.183509 & -1.30178093 & 1\\\\\n",
       "\tS3 & -7.369319 & -1.20561056 & 1\\\\\n",
       "\\end{tabular}\n"
      ],
      "text/markdown": [
       "\n",
       "A data.frame: 3 × 3\n",
       "\n",
       "| <!--/--> | stand_bmi &lt;dbl&gt; | stand_choles &lt;dbl&gt; | health_status &lt;fct&gt; |\n",
       "|---|---|---|---|\n",
       "| S1 | -7.046117 | -0.05133271 | 1 |\n",
       "| S2 | -8.183509 | -1.30178093 | 1 |\n",
       "| S3 | -7.369319 | -1.20561056 | 1 |\n",
       "\n"
      ],
      "text/plain": [
       "   stand_bmi stand_choles health_status\n",
       "S1 -7.046117 -0.05133271  1            \n",
       "S2 -8.183509 -1.30178093  1            \n",
       "S3 -7.369319 -1.20561056  1            "
      ]
     },
     "metadata": {},
     "output_type": "display_data"
    },
    {
     "data": {
      "text/html": [
       "<style>\n",
       ".list-inline {list-style: none; margin:0; padding: 0}\n",
       ".list-inline>li {display: inline-block}\n",
       ".list-inline>li:not(:last-child)::after {content: \"\\00b7\"; padding: 0 .5ex}\n",
       "</style>\n",
       "<ol class=list-inline><li>150</li><li>3</li></ol>\n"
      ],
      "text/latex": [
       "\\begin{enumerate*}\n",
       "\\item 150\n",
       "\\item 3\n",
       "\\end{enumerate*}\n"
      ],
      "text/markdown": [
       "1. 150\n",
       "2. 3\n",
       "\n",
       "\n"
      ],
      "text/plain": [
       "[1] 150   3"
      ]
     },
     "metadata": {},
     "output_type": "display_data"
    }
   ],
   "source": [
    "# Meta data\n",
    "head(smd,3)\n",
    "dim(smd)"
   ]
  },
  {
   "cell_type": "code",
   "execution_count": 28,
   "id": "b31bea3d-ec07-41dc-8524-14c2249e49ff",
   "metadata": {},
   "outputs": [
    {
     "data": {
      "text/html": [
       "<table class=\"dataframe\">\n",
       "<caption>A matrix: 2 × 150 of type dbl</caption>\n",
       "<thead>\n",
       "\t<tr><th></th><th scope=col>S1</th><th scope=col>S2</th><th scope=col>S3</th><th scope=col>S4</th><th scope=col>S5</th><th scope=col>S6</th><th scope=col>S7</th><th scope=col>S8</th><th scope=col>S9</th><th scope=col>S10</th><th scope=col>⋯</th><th scope=col>S141</th><th scope=col>S142</th><th scope=col>S143</th><th scope=col>S144</th><th scope=col>S145</th><th scope=col>S146</th><th scope=col>S147</th><th scope=col>S148</th><th scope=col>S149</th><th scope=col>S150</th></tr>\n",
       "</thead>\n",
       "<tbody>\n",
       "\t<tr><th scope=row>T1</th><td>  1</td><td>0</td><td>  1</td><td>  3</td><td>  2</td><td>0</td><td> 1</td><td> 0</td><td> 0</td><td>  3</td><td>⋯</td><td>  142</td><td>  2</td><td>  208</td><td>   232</td><td>  105</td><td>   64</td><td>   317</td><td>   41</td><td>  320</td><td>  14</td></tr>\n",
       "\t<tr><th scope=row>T2</th><td>102</td><td>1</td><td>156</td><td>535</td><td>178</td><td>0</td><td>99</td><td>21</td><td>28</td><td>400</td><td>⋯</td><td>41555</td><td>940</td><td>69158</td><td>150981</td><td>68451</td><td>40298</td><td>258659</td><td>23841</td><td>79188</td><td>7491</td></tr>\n",
       "</tbody>\n",
       "</table>\n"
      ],
      "text/latex": [
       "A matrix: 2 × 150 of type dbl\n",
       "\\begin{tabular}{r|lllllllllllllllllllll}\n",
       "  & S1 & S2 & S3 & S4 & S5 & S6 & S7 & S8 & S9 & S10 & ⋯ & S141 & S142 & S143 & S144 & S145 & S146 & S147 & S148 & S149 & S150\\\\\n",
       "\\hline\n",
       "\tT1 &   1 & 0 &   1 &   3 &   2 & 0 &  1 &  0 &  0 &   3 & ⋯ &   142 &   2 &   208 &    232 &   105 &    64 &    317 &    41 &   320 &   14\\\\\n",
       "\tT2 & 102 & 1 & 156 & 535 & 178 & 0 & 99 & 21 & 28 & 400 & ⋯ & 41555 & 940 & 69158 & 150981 & 68451 & 40298 & 258659 & 23841 & 79188 & 7491\\\\\n",
       "\\end{tabular}\n"
      ],
      "text/markdown": [
       "\n",
       "A matrix: 2 × 150 of type dbl\n",
       "\n",
       "| <!--/--> | S1 | S2 | S3 | S4 | S5 | S6 | S7 | S8 | S9 | S10 | ⋯ | S141 | S142 | S143 | S144 | S145 | S146 | S147 | S148 | S149 | S150 |\n",
       "|---|---|---|---|---|---|---|---|---|---|---|---|---|---|---|---|---|---|---|---|---|---|\n",
       "| T1 |   1 | 0 |   1 |   3 |   2 | 0 |  1 |  0 |  0 |   3 | ⋯ |   142 |   2 |   208 |    232 |   105 |    64 |    317 |    41 |   320 |   14 |\n",
       "| T2 | 102 | 1 | 156 | 535 | 178 | 0 | 99 | 21 | 28 | 400 | ⋯ | 41555 | 940 | 69158 | 150981 | 68451 | 40298 | 258659 | 23841 | 79188 | 7491 |\n",
       "\n"
      ],
      "text/plain": [
       "   S1  S2 S3  S4  S5  S6 S7 S8 S9 S10 ⋯ S141  S142 S143  S144   S145  S146 \n",
       "T1   1 0    1   3   2 0   1  0  0   3 ⋯   142   2    208    232   105    64\n",
       "T2 102 1  156 535 178 0  99 21 28 400 ⋯ 41555 940  69158 150981 68451 40298\n",
       "   S147   S148  S149  S150\n",
       "T1    317    41   320   14\n",
       "T2 258659 23841 79188 7491"
      ]
     },
     "metadata": {},
     "output_type": "display_data"
    }
   ],
   "source": [
    "# Count data\n",
    "head(otu_data,2)"
   ]
  },
  {
   "cell_type": "code",
   "execution_count": 47,
   "id": "22f7cbc8-7199-43ce-82d6-e9716057c99f",
   "metadata": {},
   "outputs": [],
   "source": [
    "# Create the tse object\n",
    "assays = S4Vectors::SimpleList(counts = otu_data) # count data\n",
    "smd_3H = S4Vectors::DataFrame(smd) # meta data\n",
    "tse = TreeSummarizedExperiment::TreeSummarizedExperiment(assays = assays, colData = smd_3H)"
   ]
  },
  {
   "cell_type": "code",
   "execution_count": 50,
   "id": "960588af-56bc-48e0-8d3f-d5b946818816",
   "metadata": {
    "collapsed": true,
    "jupyter": {
     "outputs_hidden": true
    },
    "tags": []
   },
   "outputs": [
    {
     "name": "stderr",
     "output_type": "stream",
     "text": [
      "Obtaining initial estimates ...\n",
      "\n",
      "Estimating sample-specific biases ...\n",
      "\n",
      "Sensitivity analysis for pseudo-count addition to 0s: ...\n",
      "\n",
      "ANCOM-BC2 primary results ...\n",
      "\n",
      "ANCOM-BC2 multiple pairwise comparisons ...\n",
      "\n"
     ]
    }
   ],
   "source": [
    "set.seed(123)\n",
    "output = ancombc2(data = tse, \n",
    "                  assay_name = \"counts\",\n",
    "                  fix_formula = \"health_status\", # formular for linear regression model: response ~ covariate1 + covariate2\n",
    "                  p_adj_method = \"holm\",\n",
    "                  pseudo_sens = TRUE,                 # sensitivity analysis to the pseudo-count addition\n",
    "                  prv_cut = 0.10,                     # (0,1) Taxa with prevalences less than prv_cut will be excluded\n",
    "                  lib_cut = 1000,                     # filter sampling with sampling depth\n",
    "                  s0_perc = 0.05,                     # advoid significant feature due to small standard error, (rare taxa)\n",
    "                  group = \"health_status\",            # Group to be differencially analyzed (healthy status - normal,A,B             \n",
    "                  alpha = 0.05,                       # Level of significant\n",
    "                  n_cl = 2,                           # CUP cores to compute\n",
    "                  verbose = TRUE,\n",
    "                  pairwise = TRUE,                   \n",
    "                  iter_control = list(tol = 1e-5, max_iter = 20, # Liner regression model parameter\n",
    "                                      verbose = FALSE),\n",
    "                  em_control = list(tol = 1e-5, max_iter = 100),\n",
    "                  lme_control = NULL, \n",
    "                  mdfdr_control = list(fwer_ctrl_method = \"holm\", B = 100))"
   ]
  },
  {
   "cell_type": "code",
   "execution_count": 51,
   "id": "cbd1df9c-6c11-483c-9976-b63726724aca",
   "metadata": {},
   "outputs": [
    {
     "data": {
      "text/html": [
       "<table class=\"dataframe\">\n",
       "<caption>A data.frame: 4 × 22</caption>\n",
       "<thead>\n",
       "\t<tr><th></th><th scope=col>taxon</th><th scope=col>lfc_health_status2</th><th scope=col>lfc_health_status3</th><th scope=col>lfc_health_status3_health_status2</th><th scope=col>se_health_status2</th><th scope=col>se_health_status3</th><th scope=col>se_health_status3_health_status2</th><th scope=col>W_health_status2</th><th scope=col>W_health_status3</th><th scope=col>W_health_status3_health_status2</th><th scope=col>⋯</th><th scope=col>p_health_status3_health_status2</th><th scope=col>q_health_status2</th><th scope=col>q_health_status3</th><th scope=col>q_health_status3_health_status2</th><th scope=col>diff_health_status2</th><th scope=col>diff_health_status3</th><th scope=col>diff_health_status3_health_status2</th><th scope=col>passed_ss_health_status2</th><th scope=col>passed_ss_health_status3</th><th scope=col>passed_ss_health_status3_health_status2</th></tr>\n",
       "\t<tr><th></th><th scope=col>&lt;chr&gt;</th><th scope=col>&lt;dbl&gt;</th><th scope=col>&lt;dbl&gt;</th><th scope=col>&lt;dbl&gt;</th><th scope=col>&lt;dbl&gt;</th><th scope=col>&lt;dbl&gt;</th><th scope=col>&lt;dbl&gt;</th><th scope=col>&lt;dbl&gt;</th><th scope=col>&lt;dbl&gt;</th><th scope=col>&lt;dbl&gt;</th><th scope=col>⋯</th><th scope=col>&lt;dbl&gt;</th><th scope=col>&lt;dbl&gt;</th><th scope=col>&lt;dbl&gt;</th><th scope=col>&lt;dbl&gt;</th><th scope=col>&lt;lgl&gt;</th><th scope=col>&lt;lgl&gt;</th><th scope=col>&lt;lgl&gt;</th><th scope=col>&lt;lgl&gt;</th><th scope=col>&lt;lgl&gt;</th><th scope=col>&lt;lgl&gt;</th></tr>\n",
       "</thead>\n",
       "<tbody>\n",
       "\t<tr><th scope=row>1</th><td>T1</td><td>-0.06827952</td><td>-0.06796177</td><td> 0.0003177525</td><td>0.09406369</td><td>0.09558814</td><td>0.08748904</td><td> -0.7258861</td><td>-0.7109854</td><td> 0.003631912</td><td>⋯</td><td>1.000000e+00</td><td>1.000000e+00</td><td>1.000000e+00</td><td>1.000000e+00</td><td>FALSE</td><td>FALSE</td><td>FALSE</td><td>FALSE</td><td>FALSE</td><td> TRUE</td></tr>\n",
       "\t<tr><th scope=row>2</th><td>T2</td><td>-2.00062569</td><td> 1.00584236</td><td> 3.0064680500</td><td>0.06866012</td><td>0.06751198</td><td>0.08178809</td><td>-29.1381035</td><td>14.8987239</td><td>36.759241928</td><td>⋯</td><td>8.507227e-74</td><td>2.760942e-60</td><td>1.061862e-29</td><td>9.676971e-73</td><td> TRUE</td><td> TRUE</td><td> TRUE</td><td> TRUE</td><td> TRUE</td><td> TRUE</td></tr>\n",
       "\t<tr><th scope=row>3</th><td>T3</td><td>-0.75218203</td><td>-0.71827224</td><td> 0.0339097941</td><td>0.13448308</td><td>0.13622569</td><td>0.09292088</td><td> -5.5931349</td><td>-5.2726637</td><td> 0.364931927</td><td>⋯</td><td>7.164041e-01</td><td>6.093504e-06</td><td>1.874949e-05</td><td>1.000000e+00</td><td> TRUE</td><td> TRUE</td><td>FALSE</td><td>FALSE</td><td>FALSE</td><td>FALSE</td></tr>\n",
       "\t<tr><th scope=row>4</th><td>T4</td><td> 0.02750635</td><td> 0.02336361</td><td>-0.0041427448</td><td>0.06301810</td><td>0.06939446</td><td>0.07585942</td><td>  0.4364834</td><td> 0.3366783</td><td>-0.054610814</td><td>⋯</td><td>1.000000e+00</td><td>1.000000e+00</td><td>1.000000e+00</td><td>1.000000e+00</td><td>FALSE</td><td>FALSE</td><td>FALSE</td><td> TRUE</td><td> TRUE</td><td> TRUE</td></tr>\n",
       "</tbody>\n",
       "</table>\n"
      ],
      "text/latex": [
       "A data.frame: 4 × 22\n",
       "\\begin{tabular}{r|lllllllllllllllllllll}\n",
       "  & taxon & lfc\\_health\\_status2 & lfc\\_health\\_status3 & lfc\\_health\\_status3\\_health\\_status2 & se\\_health\\_status2 & se\\_health\\_status3 & se\\_health\\_status3\\_health\\_status2 & W\\_health\\_status2 & W\\_health\\_status3 & W\\_health\\_status3\\_health\\_status2 & ⋯ & p\\_health\\_status3\\_health\\_status2 & q\\_health\\_status2 & q\\_health\\_status3 & q\\_health\\_status3\\_health\\_status2 & diff\\_health\\_status2 & diff\\_health\\_status3 & diff\\_health\\_status3\\_health\\_status2 & passed\\_ss\\_health\\_status2 & passed\\_ss\\_health\\_status3 & passed\\_ss\\_health\\_status3\\_health\\_status2\\\\\n",
       "  & <chr> & <dbl> & <dbl> & <dbl> & <dbl> & <dbl> & <dbl> & <dbl> & <dbl> & <dbl> & ⋯ & <dbl> & <dbl> & <dbl> & <dbl> & <lgl> & <lgl> & <lgl> & <lgl> & <lgl> & <lgl>\\\\\n",
       "\\hline\n",
       "\t1 & T1 & -0.06827952 & -0.06796177 &  0.0003177525 & 0.09406369 & 0.09558814 & 0.08748904 &  -0.7258861 & -0.7109854 &  0.003631912 & ⋯ & 1.000000e+00 & 1.000000e+00 & 1.000000e+00 & 1.000000e+00 & FALSE & FALSE & FALSE & FALSE & FALSE &  TRUE\\\\\n",
       "\t2 & T2 & -2.00062569 &  1.00584236 &  3.0064680500 & 0.06866012 & 0.06751198 & 0.08178809 & -29.1381035 & 14.8987239 & 36.759241928 & ⋯ & 8.507227e-74 & 2.760942e-60 & 1.061862e-29 & 9.676971e-73 &  TRUE &  TRUE &  TRUE &  TRUE &  TRUE &  TRUE\\\\\n",
       "\t3 & T3 & -0.75218203 & -0.71827224 &  0.0339097941 & 0.13448308 & 0.13622569 & 0.09292088 &  -5.5931349 & -5.2726637 &  0.364931927 & ⋯ & 7.164041e-01 & 6.093504e-06 & 1.874949e-05 & 1.000000e+00 &  TRUE &  TRUE & FALSE & FALSE & FALSE & FALSE\\\\\n",
       "\t4 & T4 &  0.02750635 &  0.02336361 & -0.0041427448 & 0.06301810 & 0.06939446 & 0.07585942 &   0.4364834 &  0.3366783 & -0.054610814 & ⋯ & 1.000000e+00 & 1.000000e+00 & 1.000000e+00 & 1.000000e+00 & FALSE & FALSE & FALSE &  TRUE &  TRUE &  TRUE\\\\\n",
       "\\end{tabular}\n"
      ],
      "text/markdown": [
       "\n",
       "A data.frame: 4 × 22\n",
       "\n",
       "| <!--/--> | taxon &lt;chr&gt; | lfc_health_status2 &lt;dbl&gt; | lfc_health_status3 &lt;dbl&gt; | lfc_health_status3_health_status2 &lt;dbl&gt; | se_health_status2 &lt;dbl&gt; | se_health_status3 &lt;dbl&gt; | se_health_status3_health_status2 &lt;dbl&gt; | W_health_status2 &lt;dbl&gt; | W_health_status3 &lt;dbl&gt; | W_health_status3_health_status2 &lt;dbl&gt; | ⋯ ⋯ | p_health_status3_health_status2 &lt;dbl&gt; | q_health_status2 &lt;dbl&gt; | q_health_status3 &lt;dbl&gt; | q_health_status3_health_status2 &lt;dbl&gt; | diff_health_status2 &lt;lgl&gt; | diff_health_status3 &lt;lgl&gt; | diff_health_status3_health_status2 &lt;lgl&gt; | passed_ss_health_status2 &lt;lgl&gt; | passed_ss_health_status3 &lt;lgl&gt; | passed_ss_health_status3_health_status2 &lt;lgl&gt; |\n",
       "|---|---|---|---|---|---|---|---|---|---|---|---|---|---|---|---|---|---|---|---|---|---|\n",
       "| 1 | T1 | -0.06827952 | -0.06796177 |  0.0003177525 | 0.09406369 | 0.09558814 | 0.08748904 |  -0.7258861 | -0.7109854 |  0.003631912 | ⋯ | 1.000000e+00 | 1.000000e+00 | 1.000000e+00 | 1.000000e+00 | FALSE | FALSE | FALSE | FALSE | FALSE |  TRUE |\n",
       "| 2 | T2 | -2.00062569 |  1.00584236 |  3.0064680500 | 0.06866012 | 0.06751198 | 0.08178809 | -29.1381035 | 14.8987239 | 36.759241928 | ⋯ | 8.507227e-74 | 2.760942e-60 | 1.061862e-29 | 9.676971e-73 |  TRUE |  TRUE |  TRUE |  TRUE |  TRUE |  TRUE |\n",
       "| 3 | T3 | -0.75218203 | -0.71827224 |  0.0339097941 | 0.13448308 | 0.13622569 | 0.09292088 |  -5.5931349 | -5.2726637 |  0.364931927 | ⋯ | 7.164041e-01 | 6.093504e-06 | 1.874949e-05 | 1.000000e+00 |  TRUE |  TRUE | FALSE | FALSE | FALSE | FALSE |\n",
       "| 4 | T4 |  0.02750635 |  0.02336361 | -0.0041427448 | 0.06301810 | 0.06939446 | 0.07585942 |   0.4364834 |  0.3366783 | -0.054610814 | ⋯ | 1.000000e+00 | 1.000000e+00 | 1.000000e+00 | 1.000000e+00 | FALSE | FALSE | FALSE |  TRUE |  TRUE |  TRUE |\n",
       "\n"
      ],
      "text/plain": [
       "  taxon lfc_health_status2 lfc_health_status3 lfc_health_status3_health_status2\n",
       "1 T1    -0.06827952        -0.06796177         0.0003177525                    \n",
       "2 T2    -2.00062569         1.00584236         3.0064680500                    \n",
       "3 T3    -0.75218203        -0.71827224         0.0339097941                    \n",
       "4 T4     0.02750635         0.02336361        -0.0041427448                    \n",
       "  se_health_status2 se_health_status3 se_health_status3_health_status2\n",
       "1 0.09406369        0.09558814        0.08748904                      \n",
       "2 0.06866012        0.06751198        0.08178809                      \n",
       "3 0.13448308        0.13622569        0.09292088                      \n",
       "4 0.06301810        0.06939446        0.07585942                      \n",
       "  W_health_status2 W_health_status3 W_health_status3_health_status2 ⋯\n",
       "1  -0.7258861      -0.7109854        0.003631912                    ⋯\n",
       "2 -29.1381035      14.8987239       36.759241928                    ⋯\n",
       "3  -5.5931349      -5.2726637        0.364931927                    ⋯\n",
       "4   0.4364834       0.3366783       -0.054610814                    ⋯\n",
       "  p_health_status3_health_status2 q_health_status2 q_health_status3\n",
       "1 1.000000e+00                    1.000000e+00     1.000000e+00    \n",
       "2 8.507227e-74                    2.760942e-60     1.061862e-29    \n",
       "3 7.164041e-01                    6.093504e-06     1.874949e-05    \n",
       "4 1.000000e+00                    1.000000e+00     1.000000e+00    \n",
       "  q_health_status3_health_status2 diff_health_status2 diff_health_status3\n",
       "1 1.000000e+00                    FALSE               FALSE              \n",
       "2 9.676971e-73                     TRUE                TRUE              \n",
       "3 1.000000e+00                     TRUE                TRUE              \n",
       "4 1.000000e+00                    FALSE               FALSE              \n",
       "  diff_health_status3_health_status2 passed_ss_health_status2\n",
       "1 FALSE                              FALSE                   \n",
       "2  TRUE                               TRUE                   \n",
       "3 FALSE                              FALSE                   \n",
       "4 FALSE                               TRUE                   \n",
       "  passed_ss_health_status3 passed_ss_health_status3_health_status2\n",
       "1 FALSE                     TRUE                                  \n",
       "2  TRUE                     TRUE                                  \n",
       "3 FALSE                    FALSE                                  \n",
       "4  TRUE                     TRUE                                  "
      ]
     },
     "metadata": {},
     "output_type": "display_data"
    }
   ],
   "source": [
    "head(output$res_pair,4)"
   ]
  },
  {
   "cell_type": "code",
   "execution_count": 52,
   "id": "6c50cca8-85e9-464e-b6c3-ec071890ed13",
   "metadata": {
    "tags": []
   },
   "outputs": [
    {
     "data": {
      "text/html": [
       "0.000317749999999992"
      ],
      "text/latex": [
       "0.000317749999999992"
      ],
      "text/markdown": [
       "0.000317749999999992"
      ],
      "text/plain": [
       "[1] 0.00031775"
      ]
     },
     "metadata": {},
     "output_type": "display_data"
    }
   ],
   "source": [
    "0.06827952 - 0.06796177"
   ]
  },
  {
   "cell_type": "code",
   "execution_count": 53,
   "id": "56b6cc30-42d1-414d-87f1-73b320149def",
   "metadata": {
    "tags": []
   },
   "outputs": [
    {
     "data": {
      "text/html": [
       "3.00646805"
      ],
      "text/latex": [
       "3.00646805"
      ],
      "text/markdown": [
       "3.00646805"
      ],
      "text/plain": [
       "[1] 3.006468"
      ]
     },
     "metadata": {},
     "output_type": "display_data"
    }
   ],
   "source": [
    "2.00062569 + 1.00584236"
   ]
  },
  {
   "cell_type": "markdown",
   "id": "5d780c53-23e9-4a53-97f9-9e4c48829be7",
   "metadata": {
    "jp-MarkdownHeadingCollapsed": true,
    "tags": []
   },
   "source": [
    "## 3.3 Differential Abundance Analysis: Continuous covariate (choles level)"
   ]
  },
  {
   "cell_type": "code",
   "execution_count": 5,
   "id": "0946da0d-fcbd-41ce-84c8-409dcf096a2c",
   "metadata": {},
   "outputs": [
    {
     "data": {
      "text/html": [
       "<table class=\"dataframe\">\n",
       "<caption>A data.frame: 3 × 3</caption>\n",
       "<thead>\n",
       "\t<tr><th></th><th scope=col>stand_bmi</th><th scope=col>stand_choles</th><th scope=col>health_status</th></tr>\n",
       "\t<tr><th></th><th scope=col>&lt;dbl&gt;</th><th scope=col>&lt;dbl&gt;</th><th scope=col>&lt;fct&gt;</th></tr>\n",
       "</thead>\n",
       "<tbody>\n",
       "\t<tr><th scope=row>S1</th><td>-7.046117</td><td>-0.05133271</td><td>1</td></tr>\n",
       "\t<tr><th scope=row>S2</th><td>-8.183509</td><td>-1.30178093</td><td>1</td></tr>\n",
       "\t<tr><th scope=row>S3</th><td>-7.369319</td><td>-1.20561056</td><td>1</td></tr>\n",
       "</tbody>\n",
       "</table>\n"
      ],
      "text/latex": [
       "A data.frame: 3 × 3\n",
       "\\begin{tabular}{r|lll}\n",
       "  & stand\\_bmi & stand\\_choles & health\\_status\\\\\n",
       "  & <dbl> & <dbl> & <fct>\\\\\n",
       "\\hline\n",
       "\tS1 & -7.046117 & -0.05133271 & 1\\\\\n",
       "\tS2 & -8.183509 & -1.30178093 & 1\\\\\n",
       "\tS3 & -7.369319 & -1.20561056 & 1\\\\\n",
       "\\end{tabular}\n"
      ],
      "text/markdown": [
       "\n",
       "A data.frame: 3 × 3\n",
       "\n",
       "| <!--/--> | stand_bmi &lt;dbl&gt; | stand_choles &lt;dbl&gt; | health_status &lt;fct&gt; |\n",
       "|---|---|---|---|\n",
       "| S1 | -7.046117 | -0.05133271 | 1 |\n",
       "| S2 | -8.183509 | -1.30178093 | 1 |\n",
       "| S3 | -7.369319 | -1.20561056 | 1 |\n",
       "\n"
      ],
      "text/plain": [
       "   stand_bmi stand_choles health_status\n",
       "S1 -7.046117 -0.05133271  1            \n",
       "S2 -8.183509 -1.30178093  1            \n",
       "S3 -7.369319 -1.20561056  1            "
      ]
     },
     "metadata": {},
     "output_type": "display_data"
    },
    {
     "data": {
      "text/html": [
       "<table class=\"dataframe\">\n",
       "<caption>A matrix: 2 × 150 of type dbl</caption>\n",
       "<thead>\n",
       "\t<tr><th></th><th scope=col>S1</th><th scope=col>S2</th><th scope=col>S3</th><th scope=col>S4</th><th scope=col>S5</th><th scope=col>S6</th><th scope=col>S7</th><th scope=col>S8</th><th scope=col>S9</th><th scope=col>S10</th><th scope=col>⋯</th><th scope=col>S141</th><th scope=col>S142</th><th scope=col>S143</th><th scope=col>S144</th><th scope=col>S145</th><th scope=col>S146</th><th scope=col>S147</th><th scope=col>S148</th><th scope=col>S149</th><th scope=col>S150</th></tr>\n",
       "</thead>\n",
       "<tbody>\n",
       "\t<tr><th scope=row>T1</th><td>  1</td><td>0</td><td>  1</td><td>  3</td><td>  2</td><td>0</td><td> 1</td><td> 0</td><td> 0</td><td>  3</td><td>⋯</td><td>  142</td><td>  2</td><td>  208</td><td>   232</td><td>  105</td><td>   64</td><td>   317</td><td>   41</td><td>  320</td><td>  14</td></tr>\n",
       "\t<tr><th scope=row>T2</th><td>102</td><td>1</td><td>156</td><td>535</td><td>178</td><td>0</td><td>99</td><td>21</td><td>28</td><td>400</td><td>⋯</td><td>41555</td><td>940</td><td>69158</td><td>150981</td><td>68451</td><td>40298</td><td>258659</td><td>23841</td><td>79188</td><td>7491</td></tr>\n",
       "</tbody>\n",
       "</table>\n"
      ],
      "text/latex": [
       "A matrix: 2 × 150 of type dbl\n",
       "\\begin{tabular}{r|lllllllllllllllllllll}\n",
       "  & S1 & S2 & S3 & S4 & S5 & S6 & S7 & S8 & S9 & S10 & ⋯ & S141 & S142 & S143 & S144 & S145 & S146 & S147 & S148 & S149 & S150\\\\\n",
       "\\hline\n",
       "\tT1 &   1 & 0 &   1 &   3 &   2 & 0 &  1 &  0 &  0 &   3 & ⋯ &   142 &   2 &   208 &    232 &   105 &    64 &    317 &    41 &   320 &   14\\\\\n",
       "\tT2 & 102 & 1 & 156 & 535 & 178 & 0 & 99 & 21 & 28 & 400 & ⋯ & 41555 & 940 & 69158 & 150981 & 68451 & 40298 & 258659 & 23841 & 79188 & 7491\\\\\n",
       "\\end{tabular}\n"
      ],
      "text/markdown": [
       "\n",
       "A matrix: 2 × 150 of type dbl\n",
       "\n",
       "| <!--/--> | S1 | S2 | S3 | S4 | S5 | S6 | S7 | S8 | S9 | S10 | ⋯ | S141 | S142 | S143 | S144 | S145 | S146 | S147 | S148 | S149 | S150 |\n",
       "|---|---|---|---|---|---|---|---|---|---|---|---|---|---|---|---|---|---|---|---|---|---|\n",
       "| T1 |   1 | 0 |   1 |   3 |   2 | 0 |  1 |  0 |  0 |   3 | ⋯ |   142 |   2 |   208 |    232 |   105 |    64 |    317 |    41 |   320 |   14 |\n",
       "| T2 | 102 | 1 | 156 | 535 | 178 | 0 | 99 | 21 | 28 | 400 | ⋯ | 41555 | 940 | 69158 | 150981 | 68451 | 40298 | 258659 | 23841 | 79188 | 7491 |\n",
       "\n"
      ],
      "text/plain": [
       "   S1  S2 S3  S4  S5  S6 S7 S8 S9 S10 ⋯ S141  S142 S143  S144   S145  S146 \n",
       "T1   1 0    1   3   2 0   1  0  0   3 ⋯   142   2    208    232   105    64\n",
       "T2 102 1  156 535 178 0  99 21 28 400 ⋯ 41555 940  69158 150981 68451 40298\n",
       "   S147   S148  S149  S150\n",
       "T1    317    41   320   14\n",
       "T2 258659 23841 79188 7491"
      ]
     },
     "metadata": {},
     "output_type": "display_data"
    }
   ],
   "source": [
    "# Meta data\n",
    "head(smd,3)\n",
    "# Count data\n",
    "head(otu_data,2)"
   ]
  },
  {
   "cell_type": "code",
   "execution_count": 7,
   "id": "19eddc58-a9de-44c6-b093-6547e64751d1",
   "metadata": {},
   "outputs": [],
   "source": [
    "# Create the tse object\n",
    "assays = S4Vectors::SimpleList(counts = otu_data) # count data\n",
    "smd_con = S4Vectors::DataFrame(smd) # meta data\n",
    "tse = TreeSummarizedExperiment::TreeSummarizedExperiment(assays = assays, colData = smd_con)"
   ]
  },
  {
   "cell_type": "code",
   "execution_count": 8,
   "id": "95a39cb1-b505-4a3a-a2c8-ff60e37fa122",
   "metadata": {},
   "outputs": [
    {
     "name": "stderr",
     "output_type": "stream",
     "text": [
      "Obtaining initial estimates ...\n",
      "\n",
      "Estimating sample-specific biases ...\n",
      "\n",
      "Sensitivity analysis for pseudo-count addition to 0s: ...\n",
      "\n",
      "ANCOM-BC2 primary results ...\n",
      "\n"
     ]
    }
   ],
   "source": [
    "set.seed(123)\n",
    "output = ancombc2(data = tse, \n",
    "                  assay_name = \"counts\",\n",
    "                  fix_formula = \"stand_choles\", # formular for linear regression model: response ~ covariate1 + covariate2\n",
    "                  p_adj_method = \"holm\",\n",
    "                  pseudo_sens = TRUE,                 # sensitivity analysis to the pseudo-count addition\n",
    "                  prv_cut = 0.10,                     # (0,1) Taxa with prevalences less than prv_cut will be excluded\n",
    "                  lib_cut = 1000,                     # filter sampling with sampling depth\n",
    "                  s0_perc = 0.05,                     # advoid significant feature due to small standard error, (rare taxa)\n",
    "              #    group = \"health_status\",            # Group to be differencially analyzed (healthy status - normal,A,B             \n",
    "                  alpha = 0.05,                       # Level of significant\n",
    "                  n_cl = 2,                           # CUP cores to compute\n",
    "                  verbose = TRUE,\n",
    "             #     pairwise = TRUE,                  \n",
    "                  iter_control = list(tol = 1e-5, max_iter = 20, # Liner regression model parameter\n",
    "                                      verbose = FALSE),\n",
    "                  em_control = list(tol = 1e-5, max_iter = 100),\n",
    "                  lme_control = NULL, \n",
    "                  mdfdr_control = list(fwer_ctrl_method = \"holm\", B = 100))"
   ]
  },
  {
   "cell_type": "code",
   "execution_count": 10,
   "id": "0d2ee97b-bcee-4006-973c-79b69529aa42",
   "metadata": {},
   "outputs": [
    {
     "data": {
      "text/html": [
       "<table class=\"dataframe\">\n",
       "<caption>A data.frame: 4 × 15</caption>\n",
       "<thead>\n",
       "\t<tr><th></th><th scope=col>taxon</th><th scope=col>lfc_(Intercept)</th><th scope=col>lfc_stand_choles</th><th scope=col>se_(Intercept)</th><th scope=col>se_stand_choles</th><th scope=col>W_(Intercept)</th><th scope=col>W_stand_choles</th><th scope=col>p_(Intercept)</th><th scope=col>p_stand_choles</th><th scope=col>q_(Intercept)</th><th scope=col>q_stand_choles</th><th scope=col>diff_(Intercept)</th><th scope=col>diff_stand_choles</th><th scope=col>passed_ss_(Intercept)</th><th scope=col>passed_ss_stand_choles</th></tr>\n",
       "\t<tr><th></th><th scope=col>&lt;chr&gt;</th><th scope=col>&lt;dbl&gt;</th><th scope=col>&lt;dbl&gt;</th><th scope=col>&lt;dbl&gt;</th><th scope=col>&lt;dbl&gt;</th><th scope=col>&lt;dbl&gt;</th><th scope=col>&lt;dbl&gt;</th><th scope=col>&lt;dbl&gt;</th><th scope=col>&lt;dbl&gt;</th><th scope=col>&lt;dbl&gt;</th><th scope=col>&lt;dbl&gt;</th><th scope=col>&lt;lgl&gt;</th><th scope=col>&lt;lgl&gt;</th><th scope=col>&lt;lgl&gt;</th><th scope=col>&lt;lgl&gt;</th></tr>\n",
       "</thead>\n",
       "<tbody>\n",
       "\t<tr><th scope=row>1</th><td>T1</td><td>-0.67994988</td><td> 0.030468553</td><td>0.02437539</td><td>0.02324272</td><td>-27.8949303</td><td> 1.3108861</td><td>2.856327e-53</td><td>0.19248550</td><td>2.285061e-51</td><td>1</td><td> TRUE</td><td>FALSE</td><td>FALSE</td><td>FALSE</td></tr>\n",
       "\t<tr><th scope=row>2</th><td>T2</td><td> 0.01046647</td><td>-0.159244130</td><td>0.09903658</td><td>0.09593896</td><td>  0.1056829</td><td>-1.6598484</td><td>9.159841e-01</td><td>0.09916742</td><td>1.000000e+00</td><td>1</td><td>FALSE</td><td>FALSE</td><td> TRUE</td><td> TRUE</td></tr>\n",
       "\t<tr><th scope=row>3</th><td>T3</td><td>-2.13141147</td><td>-0.007092409</td><td>0.02783238</td><td>0.02778904</td><td>-76.5802796</td><td>-0.2552232</td><td>6.862424e-64</td><td>0.79938209</td><td>6.083494e-62</td><td>1</td><td> TRUE</td><td>FALSE</td><td>FALSE</td><td>FALSE</td></tr>\n",
       "\t<tr><th scope=row>4</th><td>T4</td><td>-0.02993724</td><td> 0.005782460</td><td>0.01861777</td><td>0.02042012</td><td> -1.6079927</td><td> 0.2831747</td><td>1.100897e-01</td><td>0.77746125</td><td>1.000000e+00</td><td>1</td><td>FALSE</td><td>FALSE</td><td> TRUE</td><td> TRUE</td></tr>\n",
       "</tbody>\n",
       "</table>\n"
      ],
      "text/latex": [
       "A data.frame: 4 × 15\n",
       "\\begin{tabular}{r|lllllllllllllll}\n",
       "  & taxon & lfc\\_(Intercept) & lfc\\_stand\\_choles & se\\_(Intercept) & se\\_stand\\_choles & W\\_(Intercept) & W\\_stand\\_choles & p\\_(Intercept) & p\\_stand\\_choles & q\\_(Intercept) & q\\_stand\\_choles & diff\\_(Intercept) & diff\\_stand\\_choles & passed\\_ss\\_(Intercept) & passed\\_ss\\_stand\\_choles\\\\\n",
       "  & <chr> & <dbl> & <dbl> & <dbl> & <dbl> & <dbl> & <dbl> & <dbl> & <dbl> & <dbl> & <dbl> & <lgl> & <lgl> & <lgl> & <lgl>\\\\\n",
       "\\hline\n",
       "\t1 & T1 & -0.67994988 &  0.030468553 & 0.02437539 & 0.02324272 & -27.8949303 &  1.3108861 & 2.856327e-53 & 0.19248550 & 2.285061e-51 & 1 &  TRUE & FALSE & FALSE & FALSE\\\\\n",
       "\t2 & T2 &  0.01046647 & -0.159244130 & 0.09903658 & 0.09593896 &   0.1056829 & -1.6598484 & 9.159841e-01 & 0.09916742 & 1.000000e+00 & 1 & FALSE & FALSE &  TRUE &  TRUE\\\\\n",
       "\t3 & T3 & -2.13141147 & -0.007092409 & 0.02783238 & 0.02778904 & -76.5802796 & -0.2552232 & 6.862424e-64 & 0.79938209 & 6.083494e-62 & 1 &  TRUE & FALSE & FALSE & FALSE\\\\\n",
       "\t4 & T4 & -0.02993724 &  0.005782460 & 0.01861777 & 0.02042012 &  -1.6079927 &  0.2831747 & 1.100897e-01 & 0.77746125 & 1.000000e+00 & 1 & FALSE & FALSE &  TRUE &  TRUE\\\\\n",
       "\\end{tabular}\n"
      ],
      "text/markdown": [
       "\n",
       "A data.frame: 4 × 15\n",
       "\n",
       "| <!--/--> | taxon &lt;chr&gt; | lfc_(Intercept) &lt;dbl&gt; | lfc_stand_choles &lt;dbl&gt; | se_(Intercept) &lt;dbl&gt; | se_stand_choles &lt;dbl&gt; | W_(Intercept) &lt;dbl&gt; | W_stand_choles &lt;dbl&gt; | p_(Intercept) &lt;dbl&gt; | p_stand_choles &lt;dbl&gt; | q_(Intercept) &lt;dbl&gt; | q_stand_choles &lt;dbl&gt; | diff_(Intercept) &lt;lgl&gt; | diff_stand_choles &lt;lgl&gt; | passed_ss_(Intercept) &lt;lgl&gt; | passed_ss_stand_choles &lt;lgl&gt; |\n",
       "|---|---|---|---|---|---|---|---|---|---|---|---|---|---|---|---|\n",
       "| 1 | T1 | -0.67994988 |  0.030468553 | 0.02437539 | 0.02324272 | -27.8949303 |  1.3108861 | 2.856327e-53 | 0.19248550 | 2.285061e-51 | 1 |  TRUE | FALSE | FALSE | FALSE |\n",
       "| 2 | T2 |  0.01046647 | -0.159244130 | 0.09903658 | 0.09593896 |   0.1056829 | -1.6598484 | 9.159841e-01 | 0.09916742 | 1.000000e+00 | 1 | FALSE | FALSE |  TRUE |  TRUE |\n",
       "| 3 | T3 | -2.13141147 | -0.007092409 | 0.02783238 | 0.02778904 | -76.5802796 | -0.2552232 | 6.862424e-64 | 0.79938209 | 6.083494e-62 | 1 |  TRUE | FALSE | FALSE | FALSE |\n",
       "| 4 | T4 | -0.02993724 |  0.005782460 | 0.01861777 | 0.02042012 |  -1.6079927 |  0.2831747 | 1.100897e-01 | 0.77746125 | 1.000000e+00 | 1 | FALSE | FALSE |  TRUE |  TRUE |\n",
       "\n"
      ],
      "text/plain": [
       "  taxon lfc_(Intercept) lfc_stand_choles se_(Intercept) se_stand_choles\n",
       "1 T1    -0.67994988      0.030468553     0.02437539     0.02324272     \n",
       "2 T2     0.01046647     -0.159244130     0.09903658     0.09593896     \n",
       "3 T3    -2.13141147     -0.007092409     0.02783238     0.02778904     \n",
       "4 T4    -0.02993724      0.005782460     0.01861777     0.02042012     \n",
       "  W_(Intercept) W_stand_choles p_(Intercept) p_stand_choles q_(Intercept)\n",
       "1 -27.8949303    1.3108861     2.856327e-53  0.19248550     2.285061e-51 \n",
       "2   0.1056829   -1.6598484     9.159841e-01  0.09916742     1.000000e+00 \n",
       "3 -76.5802796   -0.2552232     6.862424e-64  0.79938209     6.083494e-62 \n",
       "4  -1.6079927    0.2831747     1.100897e-01  0.77746125     1.000000e+00 \n",
       "  q_stand_choles diff_(Intercept) diff_stand_choles passed_ss_(Intercept)\n",
       "1 1               TRUE            FALSE             FALSE                \n",
       "2 1              FALSE            FALSE              TRUE                \n",
       "3 1               TRUE            FALSE             FALSE                \n",
       "4 1              FALSE            FALSE              TRUE                \n",
       "  passed_ss_stand_choles\n",
       "1 FALSE                 \n",
       "2  TRUE                 \n",
       "3 FALSE                 \n",
       "4  TRUE                 "
      ]
     },
     "metadata": {},
     "output_type": "display_data"
    }
   ],
   "source": [
    "head(output$res, 4)"
   ]
  },
  {
   "cell_type": "markdown",
   "id": "ff1201ac-6801-47c7-a597-ff95cab5a4a6",
   "metadata": {
    "jp-MarkdownHeadingCollapsed": true,
    "tags": []
   },
   "source": [
    "## 3.4 Differential Abundance Analysis: Continuous covariate (choles level) + Categorical variable (Health status 1,2,3)"
   ]
  },
  {
   "cell_type": "code",
   "execution_count": 11,
   "id": "fe7c3891-9476-496a-bfe4-865a0d089ad2",
   "metadata": {},
   "outputs": [
    {
     "data": {
      "text/html": [
       "<table class=\"dataframe\">\n",
       "<caption>A data.frame: 3 × 3</caption>\n",
       "<thead>\n",
       "\t<tr><th></th><th scope=col>stand_bmi</th><th scope=col>stand_choles</th><th scope=col>health_status</th></tr>\n",
       "\t<tr><th></th><th scope=col>&lt;dbl&gt;</th><th scope=col>&lt;dbl&gt;</th><th scope=col>&lt;fct&gt;</th></tr>\n",
       "</thead>\n",
       "<tbody>\n",
       "\t<tr><th scope=row>S1</th><td>-7.046117</td><td>-0.05133271</td><td>1</td></tr>\n",
       "\t<tr><th scope=row>S2</th><td>-8.183509</td><td>-1.30178093</td><td>1</td></tr>\n",
       "\t<tr><th scope=row>S3</th><td>-7.369319</td><td>-1.20561056</td><td>1</td></tr>\n",
       "</tbody>\n",
       "</table>\n"
      ],
      "text/latex": [
       "A data.frame: 3 × 3\n",
       "\\begin{tabular}{r|lll}\n",
       "  & stand\\_bmi & stand\\_choles & health\\_status\\\\\n",
       "  & <dbl> & <dbl> & <fct>\\\\\n",
       "\\hline\n",
       "\tS1 & -7.046117 & -0.05133271 & 1\\\\\n",
       "\tS2 & -8.183509 & -1.30178093 & 1\\\\\n",
       "\tS3 & -7.369319 & -1.20561056 & 1\\\\\n",
       "\\end{tabular}\n"
      ],
      "text/markdown": [
       "\n",
       "A data.frame: 3 × 3\n",
       "\n",
       "| <!--/--> | stand_bmi &lt;dbl&gt; | stand_choles &lt;dbl&gt; | health_status &lt;fct&gt; |\n",
       "|---|---|---|---|\n",
       "| S1 | -7.046117 | -0.05133271 | 1 |\n",
       "| S2 | -8.183509 | -1.30178093 | 1 |\n",
       "| S3 | -7.369319 | -1.20561056 | 1 |\n",
       "\n"
      ],
      "text/plain": [
       "   stand_bmi stand_choles health_status\n",
       "S1 -7.046117 -0.05133271  1            \n",
       "S2 -8.183509 -1.30178093  1            \n",
       "S3 -7.369319 -1.20561056  1            "
      ]
     },
     "metadata": {},
     "output_type": "display_data"
    },
    {
     "data": {
      "text/html": [
       "<table class=\"dataframe\">\n",
       "<caption>A matrix: 2 × 150 of type dbl</caption>\n",
       "<thead>\n",
       "\t<tr><th></th><th scope=col>S1</th><th scope=col>S2</th><th scope=col>S3</th><th scope=col>S4</th><th scope=col>S5</th><th scope=col>S6</th><th scope=col>S7</th><th scope=col>S8</th><th scope=col>S9</th><th scope=col>S10</th><th scope=col>⋯</th><th scope=col>S141</th><th scope=col>S142</th><th scope=col>S143</th><th scope=col>S144</th><th scope=col>S145</th><th scope=col>S146</th><th scope=col>S147</th><th scope=col>S148</th><th scope=col>S149</th><th scope=col>S150</th></tr>\n",
       "</thead>\n",
       "<tbody>\n",
       "\t<tr><th scope=row>T1</th><td>  1</td><td>0</td><td>  1</td><td>  3</td><td>  2</td><td>0</td><td> 1</td><td> 0</td><td> 0</td><td>  3</td><td>⋯</td><td>  142</td><td>  2</td><td>  208</td><td>   232</td><td>  105</td><td>   64</td><td>   317</td><td>   41</td><td>  320</td><td>  14</td></tr>\n",
       "\t<tr><th scope=row>T2</th><td>102</td><td>1</td><td>156</td><td>535</td><td>178</td><td>0</td><td>99</td><td>21</td><td>28</td><td>400</td><td>⋯</td><td>41555</td><td>940</td><td>69158</td><td>150981</td><td>68451</td><td>40298</td><td>258659</td><td>23841</td><td>79188</td><td>7491</td></tr>\n",
       "</tbody>\n",
       "</table>\n"
      ],
      "text/latex": [
       "A matrix: 2 × 150 of type dbl\n",
       "\\begin{tabular}{r|lllllllllllllllllllll}\n",
       "  & S1 & S2 & S3 & S4 & S5 & S6 & S7 & S8 & S9 & S10 & ⋯ & S141 & S142 & S143 & S144 & S145 & S146 & S147 & S148 & S149 & S150\\\\\n",
       "\\hline\n",
       "\tT1 &   1 & 0 &   1 &   3 &   2 & 0 &  1 &  0 &  0 &   3 & ⋯ &   142 &   2 &   208 &    232 &   105 &    64 &    317 &    41 &   320 &   14\\\\\n",
       "\tT2 & 102 & 1 & 156 & 535 & 178 & 0 & 99 & 21 & 28 & 400 & ⋯ & 41555 & 940 & 69158 & 150981 & 68451 & 40298 & 258659 & 23841 & 79188 & 7491\\\\\n",
       "\\end{tabular}\n"
      ],
      "text/markdown": [
       "\n",
       "A matrix: 2 × 150 of type dbl\n",
       "\n",
       "| <!--/--> | S1 | S2 | S3 | S4 | S5 | S6 | S7 | S8 | S9 | S10 | ⋯ | S141 | S142 | S143 | S144 | S145 | S146 | S147 | S148 | S149 | S150 |\n",
       "|---|---|---|---|---|---|---|---|---|---|---|---|---|---|---|---|---|---|---|---|---|---|\n",
       "| T1 |   1 | 0 |   1 |   3 |   2 | 0 |  1 |  0 |  0 |   3 | ⋯ |   142 |   2 |   208 |    232 |   105 |    64 |    317 |    41 |   320 |   14 |\n",
       "| T2 | 102 | 1 | 156 | 535 | 178 | 0 | 99 | 21 | 28 | 400 | ⋯ | 41555 | 940 | 69158 | 150981 | 68451 | 40298 | 258659 | 23841 | 79188 | 7491 |\n",
       "\n"
      ],
      "text/plain": [
       "   S1  S2 S3  S4  S5  S6 S7 S8 S9 S10 ⋯ S141  S142 S143  S144   S145  S146 \n",
       "T1   1 0    1   3   2 0   1  0  0   3 ⋯   142   2    208    232   105    64\n",
       "T2 102 1  156 535 178 0  99 21 28 400 ⋯ 41555 940  69158 150981 68451 40298\n",
       "   S147   S148  S149  S150\n",
       "T1    317    41   320   14\n",
       "T2 258659 23841 79188 7491"
      ]
     },
     "metadata": {},
     "output_type": "display_data"
    }
   ],
   "source": [
    "# Meta data\n",
    "head(smd,3)\n",
    "# Count data\n",
    "head(otu_data,2)"
   ]
  },
  {
   "cell_type": "code",
   "execution_count": null,
   "id": "61d3062e-1592-4783-bbe3-65906808b92c",
   "metadata": {},
   "outputs": [],
   "source": [
    "# Create the tse object\n",
    "assays = S4Vectors::SimpleList(counts = otu_data) # count data\n",
    "smd_3H = S4Vectors::DataFrame(smd) # meta data\n",
    "tse = TreeSummarizedExperiment::TreeSummarizedExperiment(assays = assays, colData = smd_3H)"
   ]
  },
  {
   "cell_type": "code",
   "execution_count": 12,
   "id": "1b044956-a747-4866-9b46-bdd0caa4aadc",
   "metadata": {
    "collapsed": true,
    "jupyter": {
     "outputs_hidden": true
    },
    "tags": []
   },
   "outputs": [
    {
     "name": "stderr",
     "output_type": "stream",
     "text": [
      "Obtaining initial estimates ...\n",
      "\n",
      "Estimating sample-specific biases ...\n",
      "\n",
      "Sensitivity analysis for pseudo-count addition to 0s: ...\n",
      "\n",
      "ANCOM-BC2 primary results ...\n",
      "\n",
      "ANCOM-BC2 multiple pairwise comparisons ...\n",
      "\n"
     ]
    }
   ],
   "source": [
    "set.seed(123)\n",
    "output = ancombc2(data = tse, \n",
    "                  assay_name = \"counts\",\n",
    "                  fix_formula = \"stand_choles + health_status\", # formular for linear regression model: response ~ covariate1 + covariate2\n",
    "                  p_adj_method = \"holm\",\n",
    "                  pseudo_sens = TRUE,                 # sensitivity analysis to the pseudo-count addition\n",
    "                  prv_cut = 0.10,                     # (0,1) Taxa with prevalences less than prv_cut will be excluded\n",
    "                  lib_cut = 1000,                     # filter sampling with sampling depth\n",
    "                  s0_perc = 0.05,                     # advoid significant feature due to small standard error, (rare taxa)\n",
    "                  group = \"health_status\",            # Group to be differencially analyzed (healthy status - normal,A,B             \n",
    "                  alpha = 0.05,                       # Level of significant\n",
    "                  n_cl = 2,                           # CUP cores to compute\n",
    "                  verbose = TRUE,\n",
    "                  pairwise = TRUE,                   # CUP cores to compute\n",
    "                  iter_control = list(tol = 1e-5, max_iter = 20, # Liner regression model parameter\n",
    "                                      verbose = FALSE),\n",
    "                  em_control = list(tol = 1e-5, max_iter = 100),\n",
    "                  lme_control = NULL, \n",
    "                  mdfdr_control = list(fwer_ctrl_method = \"holm\", B = 100))"
   ]
  },
  {
   "cell_type": "code",
   "execution_count": 13,
   "id": "c99fc858-3a06-4788-a9d7-e2c9f54c7196",
   "metadata": {},
   "outputs": [
    {
     "data": {
      "text/html": [
       "<table class=\"dataframe\">\n",
       "<caption>A data.frame: 4 × 29</caption>\n",
       "<thead>\n",
       "\t<tr><th></th><th scope=col>taxon</th><th scope=col>lfc_(Intercept)</th><th scope=col>lfc_stand_choles</th><th scope=col>lfc_health_status2</th><th scope=col>lfc_health_status3</th><th scope=col>se_(Intercept)</th><th scope=col>se_stand_choles</th><th scope=col>se_health_status2</th><th scope=col>se_health_status3</th><th scope=col>W_(Intercept)</th><th scope=col>⋯</th><th scope=col>q_health_status2</th><th scope=col>q_health_status3</th><th scope=col>diff_(Intercept)</th><th scope=col>diff_stand_choles</th><th scope=col>diff_health_status2</th><th scope=col>diff_health_status3</th><th scope=col>passed_ss_(Intercept)</th><th scope=col>passed_ss_stand_choles</th><th scope=col>passed_ss_health_status2</th><th scope=col>passed_ss_health_status3</th></tr>\n",
       "\t<tr><th></th><th scope=col>&lt;chr&gt;</th><th scope=col>&lt;dbl&gt;</th><th scope=col>&lt;dbl&gt;</th><th scope=col>&lt;dbl&gt;</th><th scope=col>&lt;dbl&gt;</th><th scope=col>&lt;dbl&gt;</th><th scope=col>&lt;dbl&gt;</th><th scope=col>&lt;dbl&gt;</th><th scope=col>&lt;dbl&gt;</th><th scope=col>&lt;dbl&gt;</th><th scope=col>⋯</th><th scope=col>&lt;dbl&gt;</th><th scope=col>&lt;dbl&gt;</th><th scope=col>&lt;lgl&gt;</th><th scope=col>&lt;lgl&gt;</th><th scope=col>&lt;lgl&gt;</th><th scope=col>&lt;lgl&gt;</th><th scope=col>&lt;lgl&gt;</th><th scope=col>&lt;lgl&gt;</th><th scope=col>&lt;lgl&gt;</th><th scope=col>&lt;lgl&gt;</th></tr>\n",
       "</thead>\n",
       "<tbody>\n",
       "\t<tr><th scope=row>1</th><td>T1</td><td>-0.6597409</td><td> 0.030997815</td><td>-0.03692064</td><td>-0.02252950</td><td>0.05046109</td><td>0.02209994</td><td>0.08283890</td><td>0.08287436</td><td>-13.074251</td><td>⋯</td><td>1.000000e+00</td><td>1.000000e+00</td><td> TRUE</td><td>FALSE</td><td>FALSE</td><td>FALSE</td><td>FALSE</td><td>FALSE</td><td>FALSE</td><td>FALSE</td></tr>\n",
       "\t<tr><th scope=row>2</th><td>T2</td><td> 0.3163284</td><td>-0.015585963</td><td>-2.00692293</td><td> 0.98887925</td><td>0.02811085</td><td>0.01591812</td><td>0.03515360</td><td>0.03680906</td><td> 11.252893</td><td>⋯</td><td>2.018298e-96</td><td>5.928845e-55</td><td> TRUE</td><td>FALSE</td><td> TRUE</td><td> TRUE</td><td> TRUE</td><td> TRUE</td><td> TRUE</td><td> TRUE</td></tr>\n",
       "\t<tr><th scope=row>3</th><td>T3</td><td>-1.2393678</td><td>-0.028958697</td><td>-0.92761498</td><td>-0.89656130</td><td>0.06904852</td><td>0.02909475</td><td>0.12633810</td><td>0.13062341</td><td>-17.949231</td><td>⋯</td><td>5.015500e-08</td><td>3.335914e-07</td><td> TRUE</td><td>FALSE</td><td> TRUE</td><td> TRUE</td><td>FALSE</td><td>FALSE</td><td>FALSE</td><td>FALSE</td></tr>\n",
       "\t<tr><th scope=row>4</th><td>T4</td><td>-0.0420827</td><td> 0.009269526</td><td> 0.01861696</td><td> 0.01487885</td><td>0.03146651</td><td>0.01529956</td><td>0.03787916</td><td>0.03601447</td><td> -1.337381</td><td>⋯</td><td>1.000000e+00</td><td>1.000000e+00</td><td>FALSE</td><td>FALSE</td><td>FALSE</td><td>FALSE</td><td> TRUE</td><td> TRUE</td><td> TRUE</td><td> TRUE</td></tr>\n",
       "</tbody>\n",
       "</table>\n"
      ],
      "text/latex": [
       "A data.frame: 4 × 29\n",
       "\\begin{tabular}{r|lllllllllllllllllllll}\n",
       "  & taxon & lfc\\_(Intercept) & lfc\\_stand\\_choles & lfc\\_health\\_status2 & lfc\\_health\\_status3 & se\\_(Intercept) & se\\_stand\\_choles & se\\_health\\_status2 & se\\_health\\_status3 & W\\_(Intercept) & ⋯ & q\\_health\\_status2 & q\\_health\\_status3 & diff\\_(Intercept) & diff\\_stand\\_choles & diff\\_health\\_status2 & diff\\_health\\_status3 & passed\\_ss\\_(Intercept) & passed\\_ss\\_stand\\_choles & passed\\_ss\\_health\\_status2 & passed\\_ss\\_health\\_status3\\\\\n",
       "  & <chr> & <dbl> & <dbl> & <dbl> & <dbl> & <dbl> & <dbl> & <dbl> & <dbl> & <dbl> & ⋯ & <dbl> & <dbl> & <lgl> & <lgl> & <lgl> & <lgl> & <lgl> & <lgl> & <lgl> & <lgl>\\\\\n",
       "\\hline\n",
       "\t1 & T1 & -0.6597409 &  0.030997815 & -0.03692064 & -0.02252950 & 0.05046109 & 0.02209994 & 0.08283890 & 0.08287436 & -13.074251 & ⋯ & 1.000000e+00 & 1.000000e+00 &  TRUE & FALSE & FALSE & FALSE & FALSE & FALSE & FALSE & FALSE\\\\\n",
       "\t2 & T2 &  0.3163284 & -0.015585963 & -2.00692293 &  0.98887925 & 0.02811085 & 0.01591812 & 0.03515360 & 0.03680906 &  11.252893 & ⋯ & 2.018298e-96 & 5.928845e-55 &  TRUE & FALSE &  TRUE &  TRUE &  TRUE &  TRUE &  TRUE &  TRUE\\\\\n",
       "\t3 & T3 & -1.2393678 & -0.028958697 & -0.92761498 & -0.89656130 & 0.06904852 & 0.02909475 & 0.12633810 & 0.13062341 & -17.949231 & ⋯ & 5.015500e-08 & 3.335914e-07 &  TRUE & FALSE &  TRUE &  TRUE & FALSE & FALSE & FALSE & FALSE\\\\\n",
       "\t4 & T4 & -0.0420827 &  0.009269526 &  0.01861696 &  0.01487885 & 0.03146651 & 0.01529956 & 0.03787916 & 0.03601447 &  -1.337381 & ⋯ & 1.000000e+00 & 1.000000e+00 & FALSE & FALSE & FALSE & FALSE &  TRUE &  TRUE &  TRUE &  TRUE\\\\\n",
       "\\end{tabular}\n"
      ],
      "text/markdown": [
       "\n",
       "A data.frame: 4 × 29\n",
       "\n",
       "| <!--/--> | taxon &lt;chr&gt; | lfc_(Intercept) &lt;dbl&gt; | lfc_stand_choles &lt;dbl&gt; | lfc_health_status2 &lt;dbl&gt; | lfc_health_status3 &lt;dbl&gt; | se_(Intercept) &lt;dbl&gt; | se_stand_choles &lt;dbl&gt; | se_health_status2 &lt;dbl&gt; | se_health_status3 &lt;dbl&gt; | W_(Intercept) &lt;dbl&gt; | ⋯ ⋯ | q_health_status2 &lt;dbl&gt; | q_health_status3 &lt;dbl&gt; | diff_(Intercept) &lt;lgl&gt; | diff_stand_choles &lt;lgl&gt; | diff_health_status2 &lt;lgl&gt; | diff_health_status3 &lt;lgl&gt; | passed_ss_(Intercept) &lt;lgl&gt; | passed_ss_stand_choles &lt;lgl&gt; | passed_ss_health_status2 &lt;lgl&gt; | passed_ss_health_status3 &lt;lgl&gt; |\n",
       "|---|---|---|---|---|---|---|---|---|---|---|---|---|---|---|---|---|---|---|---|---|---|\n",
       "| 1 | T1 | -0.6597409 |  0.030997815 | -0.03692064 | -0.02252950 | 0.05046109 | 0.02209994 | 0.08283890 | 0.08287436 | -13.074251 | ⋯ | 1.000000e+00 | 1.000000e+00 |  TRUE | FALSE | FALSE | FALSE | FALSE | FALSE | FALSE | FALSE |\n",
       "| 2 | T2 |  0.3163284 | -0.015585963 | -2.00692293 |  0.98887925 | 0.02811085 | 0.01591812 | 0.03515360 | 0.03680906 |  11.252893 | ⋯ | 2.018298e-96 | 5.928845e-55 |  TRUE | FALSE |  TRUE |  TRUE |  TRUE |  TRUE |  TRUE |  TRUE |\n",
       "| 3 | T3 | -1.2393678 | -0.028958697 | -0.92761498 | -0.89656130 | 0.06904852 | 0.02909475 | 0.12633810 | 0.13062341 | -17.949231 | ⋯ | 5.015500e-08 | 3.335914e-07 |  TRUE | FALSE |  TRUE |  TRUE | FALSE | FALSE | FALSE | FALSE |\n",
       "| 4 | T4 | -0.0420827 |  0.009269526 |  0.01861696 |  0.01487885 | 0.03146651 | 0.01529956 | 0.03787916 | 0.03601447 |  -1.337381 | ⋯ | 1.000000e+00 | 1.000000e+00 | FALSE | FALSE | FALSE | FALSE |  TRUE |  TRUE |  TRUE |  TRUE |\n",
       "\n"
      ],
      "text/plain": [
       "  taxon lfc_(Intercept) lfc_stand_choles lfc_health_status2 lfc_health_status3\n",
       "1 T1    -0.6597409       0.030997815     -0.03692064        -0.02252950       \n",
       "2 T2     0.3163284      -0.015585963     -2.00692293         0.98887925       \n",
       "3 T3    -1.2393678      -0.028958697     -0.92761498        -0.89656130       \n",
       "4 T4    -0.0420827       0.009269526      0.01861696         0.01487885       \n",
       "  se_(Intercept) se_stand_choles se_health_status2 se_health_status3\n",
       "1 0.05046109     0.02209994      0.08283890        0.08287436       \n",
       "2 0.02811085     0.01591812      0.03515360        0.03680906       \n",
       "3 0.06904852     0.02909475      0.12633810        0.13062341       \n",
       "4 0.03146651     0.01529956      0.03787916        0.03601447       \n",
       "  W_(Intercept) ⋯ q_health_status2 q_health_status3 diff_(Intercept)\n",
       "1 -13.074251    ⋯ 1.000000e+00     1.000000e+00      TRUE           \n",
       "2  11.252893    ⋯ 2.018298e-96     5.928845e-55      TRUE           \n",
       "3 -17.949231    ⋯ 5.015500e-08     3.335914e-07      TRUE           \n",
       "4  -1.337381    ⋯ 1.000000e+00     1.000000e+00     FALSE           \n",
       "  diff_stand_choles diff_health_status2 diff_health_status3\n",
       "1 FALSE             FALSE               FALSE              \n",
       "2 FALSE              TRUE                TRUE              \n",
       "3 FALSE              TRUE                TRUE              \n",
       "4 FALSE             FALSE               FALSE              \n",
       "  passed_ss_(Intercept) passed_ss_stand_choles passed_ss_health_status2\n",
       "1 FALSE                 FALSE                  FALSE                   \n",
       "2  TRUE                  TRUE                   TRUE                   \n",
       "3 FALSE                 FALSE                  FALSE                   \n",
       "4  TRUE                  TRUE                   TRUE                   \n",
       "  passed_ss_health_status3\n",
       "1 FALSE                   \n",
       "2  TRUE                   \n",
       "3 FALSE                   \n",
       "4  TRUE                   "
      ]
     },
     "metadata": {},
     "output_type": "display_data"
    }
   ],
   "source": [
    "head(output$res, 4)"
   ]
  },
  {
   "cell_type": "code",
   "execution_count": null,
   "id": "ed7700ce-1d4f-481f-bc26-c45ba9d9253d",
   "metadata": {},
   "outputs": [],
   "source": [
    "# log(count) = intercept + log_fold_change1 * healthy_status1 \n",
    "#                        + log_fold_change2 * healthy_status2 \n",
    "#                        + log_fold_change3 * healthy_status3"
   ]
  },
  {
   "cell_type": "code",
   "execution_count": 15,
   "id": "c81c8975-0a7e-4eab-83f1-3190a4879305",
   "metadata": {},
   "outputs": [
    {
     "data": {
      "text/html": [
       "<table class=\"dataframe\">\n",
       "<caption>A data.frame: 4 × 22</caption>\n",
       "<thead>\n",
       "\t<tr><th></th><th scope=col>taxon</th><th scope=col>lfc_health_status2</th><th scope=col>lfc_health_status3</th><th scope=col>lfc_health_status3_health_status2</th><th scope=col>se_health_status2</th><th scope=col>se_health_status3</th><th scope=col>se_health_status3_health_status2</th><th scope=col>W_health_status2</th><th scope=col>W_health_status3</th><th scope=col>W_health_status3_health_status2</th><th scope=col>⋯</th><th scope=col>p_health_status3_health_status2</th><th scope=col>q_health_status2</th><th scope=col>q_health_status3</th><th scope=col>q_health_status3_health_status2</th><th scope=col>diff_health_status2</th><th scope=col>diff_health_status3</th><th scope=col>diff_health_status3_health_status2</th><th scope=col>passed_ss_health_status2</th><th scope=col>passed_ss_health_status3</th><th scope=col>passed_ss_health_status3_health_status2</th></tr>\n",
       "\t<tr><th></th><th scope=col>&lt;chr&gt;</th><th scope=col>&lt;dbl&gt;</th><th scope=col>&lt;dbl&gt;</th><th scope=col>&lt;dbl&gt;</th><th scope=col>&lt;dbl&gt;</th><th scope=col>&lt;dbl&gt;</th><th scope=col>&lt;dbl&gt;</th><th scope=col>&lt;dbl&gt;</th><th scope=col>&lt;dbl&gt;</th><th scope=col>&lt;dbl&gt;</th><th scope=col>⋯</th><th scope=col>&lt;dbl&gt;</th><th scope=col>&lt;dbl&gt;</th><th scope=col>&lt;dbl&gt;</th><th scope=col>&lt;dbl&gt;</th><th scope=col>&lt;lgl&gt;</th><th scope=col>&lt;lgl&gt;</th><th scope=col>&lt;lgl&gt;</th><th scope=col>&lt;lgl&gt;</th><th scope=col>&lt;lgl&gt;</th><th scope=col>&lt;lgl&gt;</th></tr>\n",
       "</thead>\n",
       "<tbody>\n",
       "\t<tr><th scope=row>1</th><td>T1</td><td>-0.03692064</td><td>-0.02252950</td><td> 0.014391146</td><td>0.08283890</td><td>0.08287436</td><td>0.05071471</td><td> -0.4456921</td><td>-0.2718513</td><td> 0.2837667</td><td>⋯</td><td> 1.000000e+00</td><td>1.000000e+00</td><td>1.000000e+00</td><td> 1.00000e+00</td><td>FALSE</td><td>FALSE</td><td>FALSE</td><td>FALSE</td><td>FALSE</td><td> TRUE</td></tr>\n",
       "\t<tr><th scope=row>2</th><td>T2</td><td>-2.00692293</td><td> 0.98887925</td><td> 2.995802184</td><td>0.03515360</td><td>0.03680906</td><td>0.03928951</td><td>-57.0901149</td><td>26.8651029</td><td>76.2494187</td><td>⋯</td><td>2.692934e-115</td><td>3.900530e-97</td><td>1.103992e-55</td><td>4.90114e-114</td><td> TRUE</td><td> TRUE</td><td> TRUE</td><td> TRUE</td><td> TRUE</td><td> TRUE</td></tr>\n",
       "\t<tr><th scope=row>3</th><td>T3</td><td>-0.92761498</td><td>-0.89656130</td><td> 0.031053674</td><td>0.12633810</td><td>0.13062341</td><td>0.05287066</td><td> -7.3423215</td><td>-6.8637108</td><td> 0.5873517</td><td>⋯</td><td> 5.591354e-01</td><td>1.086692e-08</td><td>6.830681e-08</td><td> 1.00000e+00</td><td> TRUE</td><td> TRUE</td><td>FALSE</td><td>FALSE</td><td>FALSE</td><td>FALSE</td></tr>\n",
       "\t<tr><th scope=row>4</th><td>T4</td><td> 0.01861696</td><td> 0.01487885</td><td>-0.003738113</td><td>0.03787916</td><td>0.03601447</td><td>0.03230784</td><td>  0.4914830</td><td> 0.4131353</td><td>-0.1157030</td><td>⋯</td><td> 1.000000e+00</td><td>1.000000e+00</td><td>1.000000e+00</td><td> 1.00000e+00</td><td>FALSE</td><td>FALSE</td><td>FALSE</td><td> TRUE</td><td> TRUE</td><td> TRUE</td></tr>\n",
       "</tbody>\n",
       "</table>\n"
      ],
      "text/latex": [
       "A data.frame: 4 × 22\n",
       "\\begin{tabular}{r|lllllllllllllllllllll}\n",
       "  & taxon & lfc\\_health\\_status2 & lfc\\_health\\_status3 & lfc\\_health\\_status3\\_health\\_status2 & se\\_health\\_status2 & se\\_health\\_status3 & se\\_health\\_status3\\_health\\_status2 & W\\_health\\_status2 & W\\_health\\_status3 & W\\_health\\_status3\\_health\\_status2 & ⋯ & p\\_health\\_status3\\_health\\_status2 & q\\_health\\_status2 & q\\_health\\_status3 & q\\_health\\_status3\\_health\\_status2 & diff\\_health\\_status2 & diff\\_health\\_status3 & diff\\_health\\_status3\\_health\\_status2 & passed\\_ss\\_health\\_status2 & passed\\_ss\\_health\\_status3 & passed\\_ss\\_health\\_status3\\_health\\_status2\\\\\n",
       "  & <chr> & <dbl> & <dbl> & <dbl> & <dbl> & <dbl> & <dbl> & <dbl> & <dbl> & <dbl> & ⋯ & <dbl> & <dbl> & <dbl> & <dbl> & <lgl> & <lgl> & <lgl> & <lgl> & <lgl> & <lgl>\\\\\n",
       "\\hline\n",
       "\t1 & T1 & -0.03692064 & -0.02252950 &  0.014391146 & 0.08283890 & 0.08287436 & 0.05071471 &  -0.4456921 & -0.2718513 &  0.2837667 & ⋯ &  1.000000e+00 & 1.000000e+00 & 1.000000e+00 &  1.00000e+00 & FALSE & FALSE & FALSE & FALSE & FALSE &  TRUE\\\\\n",
       "\t2 & T2 & -2.00692293 &  0.98887925 &  2.995802184 & 0.03515360 & 0.03680906 & 0.03928951 & -57.0901149 & 26.8651029 & 76.2494187 & ⋯ & 2.692934e-115 & 3.900530e-97 & 1.103992e-55 & 4.90114e-114 &  TRUE &  TRUE &  TRUE &  TRUE &  TRUE &  TRUE\\\\\n",
       "\t3 & T3 & -0.92761498 & -0.89656130 &  0.031053674 & 0.12633810 & 0.13062341 & 0.05287066 &  -7.3423215 & -6.8637108 &  0.5873517 & ⋯ &  5.591354e-01 & 1.086692e-08 & 6.830681e-08 &  1.00000e+00 &  TRUE &  TRUE & FALSE & FALSE & FALSE & FALSE\\\\\n",
       "\t4 & T4 &  0.01861696 &  0.01487885 & -0.003738113 & 0.03787916 & 0.03601447 & 0.03230784 &   0.4914830 &  0.4131353 & -0.1157030 & ⋯ &  1.000000e+00 & 1.000000e+00 & 1.000000e+00 &  1.00000e+00 & FALSE & FALSE & FALSE &  TRUE &  TRUE &  TRUE\\\\\n",
       "\\end{tabular}\n"
      ],
      "text/markdown": [
       "\n",
       "A data.frame: 4 × 22\n",
       "\n",
       "| <!--/--> | taxon &lt;chr&gt; | lfc_health_status2 &lt;dbl&gt; | lfc_health_status3 &lt;dbl&gt; | lfc_health_status3_health_status2 &lt;dbl&gt; | se_health_status2 &lt;dbl&gt; | se_health_status3 &lt;dbl&gt; | se_health_status3_health_status2 &lt;dbl&gt; | W_health_status2 &lt;dbl&gt; | W_health_status3 &lt;dbl&gt; | W_health_status3_health_status2 &lt;dbl&gt; | ⋯ ⋯ | p_health_status3_health_status2 &lt;dbl&gt; | q_health_status2 &lt;dbl&gt; | q_health_status3 &lt;dbl&gt; | q_health_status3_health_status2 &lt;dbl&gt; | diff_health_status2 &lt;lgl&gt; | diff_health_status3 &lt;lgl&gt; | diff_health_status3_health_status2 &lt;lgl&gt; | passed_ss_health_status2 &lt;lgl&gt; | passed_ss_health_status3 &lt;lgl&gt; | passed_ss_health_status3_health_status2 &lt;lgl&gt; |\n",
       "|---|---|---|---|---|---|---|---|---|---|---|---|---|---|---|---|---|---|---|---|---|---|\n",
       "| 1 | T1 | -0.03692064 | -0.02252950 |  0.014391146 | 0.08283890 | 0.08287436 | 0.05071471 |  -0.4456921 | -0.2718513 |  0.2837667 | ⋯ |  1.000000e+00 | 1.000000e+00 | 1.000000e+00 |  1.00000e+00 | FALSE | FALSE | FALSE | FALSE | FALSE |  TRUE |\n",
       "| 2 | T2 | -2.00692293 |  0.98887925 |  2.995802184 | 0.03515360 | 0.03680906 | 0.03928951 | -57.0901149 | 26.8651029 | 76.2494187 | ⋯ | 2.692934e-115 | 3.900530e-97 | 1.103992e-55 | 4.90114e-114 |  TRUE |  TRUE |  TRUE |  TRUE |  TRUE |  TRUE |\n",
       "| 3 | T3 | -0.92761498 | -0.89656130 |  0.031053674 | 0.12633810 | 0.13062341 | 0.05287066 |  -7.3423215 | -6.8637108 |  0.5873517 | ⋯ |  5.591354e-01 | 1.086692e-08 | 6.830681e-08 |  1.00000e+00 |  TRUE |  TRUE | FALSE | FALSE | FALSE | FALSE |\n",
       "| 4 | T4 |  0.01861696 |  0.01487885 | -0.003738113 | 0.03787916 | 0.03601447 | 0.03230784 |   0.4914830 |  0.4131353 | -0.1157030 | ⋯ |  1.000000e+00 | 1.000000e+00 | 1.000000e+00 |  1.00000e+00 | FALSE | FALSE | FALSE |  TRUE |  TRUE |  TRUE |\n",
       "\n"
      ],
      "text/plain": [
       "  taxon lfc_health_status2 lfc_health_status3 lfc_health_status3_health_status2\n",
       "1 T1    -0.03692064        -0.02252950         0.014391146                     \n",
       "2 T2    -2.00692293         0.98887925         2.995802184                     \n",
       "3 T3    -0.92761498        -0.89656130         0.031053674                     \n",
       "4 T4     0.01861696         0.01487885        -0.003738113                     \n",
       "  se_health_status2 se_health_status3 se_health_status3_health_status2\n",
       "1 0.08283890        0.08287436        0.05071471                      \n",
       "2 0.03515360        0.03680906        0.03928951                      \n",
       "3 0.12633810        0.13062341        0.05287066                      \n",
       "4 0.03787916        0.03601447        0.03230784                      \n",
       "  W_health_status2 W_health_status3 W_health_status3_health_status2 ⋯\n",
       "1  -0.4456921      -0.2718513        0.2837667                      ⋯\n",
       "2 -57.0901149      26.8651029       76.2494187                      ⋯\n",
       "3  -7.3423215      -6.8637108        0.5873517                      ⋯\n",
       "4   0.4914830       0.4131353       -0.1157030                      ⋯\n",
       "  p_health_status3_health_status2 q_health_status2 q_health_status3\n",
       "1  1.000000e+00                   1.000000e+00     1.000000e+00    \n",
       "2 2.692934e-115                   3.900530e-97     1.103992e-55    \n",
       "3  5.591354e-01                   1.086692e-08     6.830681e-08    \n",
       "4  1.000000e+00                   1.000000e+00     1.000000e+00    \n",
       "  q_health_status3_health_status2 diff_health_status2 diff_health_status3\n",
       "1  1.00000e+00                    FALSE               FALSE              \n",
       "2 4.90114e-114                     TRUE                TRUE              \n",
       "3  1.00000e+00                     TRUE                TRUE              \n",
       "4  1.00000e+00                    FALSE               FALSE              \n",
       "  diff_health_status3_health_status2 passed_ss_health_status2\n",
       "1 FALSE                              FALSE                   \n",
       "2  TRUE                               TRUE                   \n",
       "3 FALSE                              FALSE                   \n",
       "4 FALSE                               TRUE                   \n",
       "  passed_ss_health_status3 passed_ss_health_status3_health_status2\n",
       "1 FALSE                     TRUE                                  \n",
       "2  TRUE                     TRUE                                  \n",
       "3 FALSE                    FALSE                                  \n",
       "4  TRUE                     TRUE                                  "
      ]
     },
     "metadata": {},
     "output_type": "display_data"
    }
   ],
   "source": [
    "head(output$res_pair,4)"
   ]
  },
  {
   "cell_type": "markdown",
   "id": "3ebb21cb-3825-4360-8c49-bc499d8d307f",
   "metadata": {
    "jp-MarkdownHeadingCollapsed": true,
    "tags": []
   },
   "source": [
    "## 4. Barplot of taxa with differentially abundance"
   ]
  },
  {
   "cell_type": "code",
   "execution_count": 19,
   "id": "b8d97860-d6d1-45d7-aede-1b0267cdddcc",
   "metadata": {},
   "outputs": [
    {
     "data": {
      "text/html": [
       "<table class=\"dataframe\">\n",
       "<caption>A data.frame: 3 × 3</caption>\n",
       "<thead>\n",
       "\t<tr><th></th><th scope=col>stand_bmi</th><th scope=col>stand_choles</th><th scope=col>health_status</th></tr>\n",
       "\t<tr><th></th><th scope=col>&lt;dbl&gt;</th><th scope=col>&lt;dbl&gt;</th><th scope=col>&lt;fct&gt;</th></tr>\n",
       "</thead>\n",
       "<tbody>\n",
       "\t<tr><th scope=row>S1</th><td>-7.046117</td><td>-0.05133271</td><td>1</td></tr>\n",
       "\t<tr><th scope=row>S2</th><td>-8.183509</td><td>-1.30178093</td><td>1</td></tr>\n",
       "\t<tr><th scope=row>S3</th><td>-7.369319</td><td>-1.20561056</td><td>1</td></tr>\n",
       "</tbody>\n",
       "</table>\n"
      ],
      "text/latex": [
       "A data.frame: 3 × 3\n",
       "\\begin{tabular}{r|lll}\n",
       "  & stand\\_bmi & stand\\_choles & health\\_status\\\\\n",
       "  & <dbl> & <dbl> & <fct>\\\\\n",
       "\\hline\n",
       "\tS1 & -7.046117 & -0.05133271 & 1\\\\\n",
       "\tS2 & -8.183509 & -1.30178093 & 1\\\\\n",
       "\tS3 & -7.369319 & -1.20561056 & 1\\\\\n",
       "\\end{tabular}\n"
      ],
      "text/markdown": [
       "\n",
       "A data.frame: 3 × 3\n",
       "\n",
       "| <!--/--> | stand_bmi &lt;dbl&gt; | stand_choles &lt;dbl&gt; | health_status &lt;fct&gt; |\n",
       "|---|---|---|---|\n",
       "| S1 | -7.046117 | -0.05133271 | 1 |\n",
       "| S2 | -8.183509 | -1.30178093 | 1 |\n",
       "| S3 | -7.369319 | -1.20561056 | 1 |\n",
       "\n"
      ],
      "text/plain": [
       "   stand_bmi stand_choles health_status\n",
       "S1 -7.046117 -0.05133271  1            \n",
       "S2 -8.183509 -1.30178093  1            \n",
       "S3 -7.369319 -1.20561056  1            "
      ]
     },
     "metadata": {},
     "output_type": "display_data"
    },
    {
     "data": {
      "text/html": [
       "<table class=\"dataframe\">\n",
       "<caption>A matrix: 2 × 150 of type dbl</caption>\n",
       "<thead>\n",
       "\t<tr><th></th><th scope=col>S1</th><th scope=col>S2</th><th scope=col>S3</th><th scope=col>S4</th><th scope=col>S5</th><th scope=col>S6</th><th scope=col>S7</th><th scope=col>S8</th><th scope=col>S9</th><th scope=col>S10</th><th scope=col>⋯</th><th scope=col>S141</th><th scope=col>S142</th><th scope=col>S143</th><th scope=col>S144</th><th scope=col>S145</th><th scope=col>S146</th><th scope=col>S147</th><th scope=col>S148</th><th scope=col>S149</th><th scope=col>S150</th></tr>\n",
       "</thead>\n",
       "<tbody>\n",
       "\t<tr><th scope=row>T1</th><td>  1</td><td>0</td><td>  1</td><td>  3</td><td>  2</td><td>0</td><td> 1</td><td> 0</td><td> 0</td><td>  3</td><td>⋯</td><td>  142</td><td>  2</td><td>  208</td><td>   232</td><td>  105</td><td>   64</td><td>   317</td><td>   41</td><td>  320</td><td>  14</td></tr>\n",
       "\t<tr><th scope=row>T2</th><td>102</td><td>1</td><td>156</td><td>535</td><td>178</td><td>0</td><td>99</td><td>21</td><td>28</td><td>400</td><td>⋯</td><td>41555</td><td>940</td><td>69158</td><td>150981</td><td>68451</td><td>40298</td><td>258659</td><td>23841</td><td>79188</td><td>7491</td></tr>\n",
       "</tbody>\n",
       "</table>\n"
      ],
      "text/latex": [
       "A matrix: 2 × 150 of type dbl\n",
       "\\begin{tabular}{r|lllllllllllllllllllll}\n",
       "  & S1 & S2 & S3 & S4 & S5 & S6 & S7 & S8 & S9 & S10 & ⋯ & S141 & S142 & S143 & S144 & S145 & S146 & S147 & S148 & S149 & S150\\\\\n",
       "\\hline\n",
       "\tT1 &   1 & 0 &   1 &   3 &   2 & 0 &  1 &  0 &  0 &   3 & ⋯ &   142 &   2 &   208 &    232 &   105 &    64 &    317 &    41 &   320 &   14\\\\\n",
       "\tT2 & 102 & 1 & 156 & 535 & 178 & 0 & 99 & 21 & 28 & 400 & ⋯ & 41555 & 940 & 69158 & 150981 & 68451 & 40298 & 258659 & 23841 & 79188 & 7491\\\\\n",
       "\\end{tabular}\n"
      ],
      "text/markdown": [
       "\n",
       "A matrix: 2 × 150 of type dbl\n",
       "\n",
       "| <!--/--> | S1 | S2 | S3 | S4 | S5 | S6 | S7 | S8 | S9 | S10 | ⋯ | S141 | S142 | S143 | S144 | S145 | S146 | S147 | S148 | S149 | S150 |\n",
       "|---|---|---|---|---|---|---|---|---|---|---|---|---|---|---|---|---|---|---|---|---|---|\n",
       "| T1 |   1 | 0 |   1 |   3 |   2 | 0 |  1 |  0 |  0 |   3 | ⋯ |   142 |   2 |   208 |    232 |   105 |    64 |    317 |    41 |   320 |   14 |\n",
       "| T2 | 102 | 1 | 156 | 535 | 178 | 0 | 99 | 21 | 28 | 400 | ⋯ | 41555 | 940 | 69158 | 150981 | 68451 | 40298 | 258659 | 23841 | 79188 | 7491 |\n",
       "\n"
      ],
      "text/plain": [
       "   S1  S2 S3  S4  S5  S6 S7 S8 S9 S10 ⋯ S141  S142 S143  S144   S145  S146 \n",
       "T1   1 0    1   3   2 0   1  0  0   3 ⋯   142   2    208    232   105    64\n",
       "T2 102 1  156 535 178 0  99 21 28 400 ⋯ 41555 940  69158 150981 68451 40298\n",
       "   S147   S148  S149  S150\n",
       "T1    317    41   320   14\n",
       "T2 258659 23841 79188 7491"
      ]
     },
     "metadata": {},
     "output_type": "display_data"
    }
   ],
   "source": [
    "# Meta data\n",
    "head(smd,3)\n",
    "# Count data\n",
    "head(otu_data,2)"
   ]
  },
  {
   "cell_type": "code",
   "execution_count": 31,
   "id": "18bdfb7b-ec62-4245-9822-808c42ae31af",
   "metadata": {},
   "outputs": [
    {
     "data": {
      "text/html": [
       "<table class=\"dataframe\">\n",
       "<caption>A matrix: 2 × 2 of type dbl</caption>\n",
       "<thead>\n",
       "\t<tr><th></th><th scope=col>count</th><th scope=col>health_status</th></tr>\n",
       "</thead>\n",
       "<tbody>\n",
       "\t<tr><th scope=row>S1</th><td>102</td><td>1</td></tr>\n",
       "\t<tr><th scope=row>S2</th><td>  1</td><td>1</td></tr>\n",
       "</tbody>\n",
       "</table>\n"
      ],
      "text/latex": [
       "A matrix: 2 × 2 of type dbl\n",
       "\\begin{tabular}{r|ll}\n",
       "  & count & health\\_status\\\\\n",
       "\\hline\n",
       "\tS1 & 102 & 1\\\\\n",
       "\tS2 &   1 & 1\\\\\n",
       "\\end{tabular}\n"
      ],
      "text/markdown": [
       "\n",
       "A matrix: 2 × 2 of type dbl\n",
       "\n",
       "| <!--/--> | count | health_status |\n",
       "|---|---|---|\n",
       "| S1 | 102 | 1 |\n",
       "| S2 |   1 | 1 |\n",
       "\n"
      ],
      "text/plain": [
       "   count health_status\n",
       "S1 102   1            \n",
       "S2   1   1            "
      ]
     },
     "metadata": {},
     "output_type": "display_data"
    }
   ],
   "source": [
    "taxa2 = cbind(otu_data['T2',], smd[,'health_status'])\n",
    "colnames(taxa2) = c('count', 'health_status')\n",
    "head(taxa2,2)"
   ]
  },
  {
   "cell_type": "code",
   "execution_count": 42,
   "id": "5c119868-3be4-4fbb-a6d3-0f9fb5dc8a49",
   "metadata": {},
   "outputs": [
    {
     "data": {
      "image/png": "[encoded data removed]",
      "text/plain": [
       "Plot with title \"Taxa 2 - Abundance\""
      ]
     },
     "metadata": {
      "image/png": {
       "height": 420,
       "width": 420
      }
     },
     "output_type": "display_data"
    }
   ],
   "source": [
    "boxplot(count ~ health_status, data=taxa2, ylim = c(0, 1e+5), col=c(\"green\", 'red', 'pink'),\n",
    "       main=\"Taxa 2 - Abundance\")"
   ]
  },
  {
   "cell_type": "code",
   "execution_count": 67,
   "id": "b062803f-60f9-44a5-8ed6-1537bec91276",
   "metadata": {},
   "outputs": [
    {
     "data": {
      "text/html": [
       "<table class=\"dataframe\">\n",
       "<caption>A data.frame: 2 × 143</caption>\n",
       "<thead>\n",
       "\t<tr><th></th><th scope=col>S1</th><th scope=col>S3</th><th scope=col>S4</th><th scope=col>S5</th><th scope=col>S7</th><th scope=col>S8</th><th scope=col>S9</th><th scope=col>S10</th><th scope=col>S11</th><th scope=col>S12</th><th scope=col>⋯</th><th scope=col>S141</th><th scope=col>S142</th><th scope=col>S143</th><th scope=col>S144</th><th scope=col>S145</th><th scope=col>S146</th><th scope=col>S147</th><th scope=col>S148</th><th scope=col>S149</th><th scope=col>S150</th></tr>\n",
       "\t<tr><th></th><th scope=col>&lt;dbl&gt;</th><th scope=col>&lt;dbl&gt;</th><th scope=col>&lt;dbl&gt;</th><th scope=col>&lt;dbl&gt;</th><th scope=col>&lt;dbl&gt;</th><th scope=col>&lt;dbl&gt;</th><th scope=col>&lt;dbl&gt;</th><th scope=col>&lt;dbl&gt;</th><th scope=col>&lt;dbl&gt;</th><th scope=col>&lt;dbl&gt;</th><th scope=col>⋯</th><th scope=col>&lt;dbl&gt;</th><th scope=col>&lt;dbl&gt;</th><th scope=col>&lt;dbl&gt;</th><th scope=col>&lt;dbl&gt;</th><th scope=col>&lt;dbl&gt;</th><th scope=col>&lt;dbl&gt;</th><th scope=col>&lt;dbl&gt;</th><th scope=col>&lt;dbl&gt;</th><th scope=col>&lt;dbl&gt;</th><th scope=col>&lt;dbl&gt;</th></tr>\n",
       "</thead>\n",
       "<tbody>\n",
       "\t<tr><th scope=row>T1</th><td>-0.1078375</td><td>-0.624916</td><td>-0.7285940</td><td>-0.24781539</td><td>-0.33746108</td><td>       NA</td><td>      NA</td><td>-0.4915143</td><td>       NA</td><td>-0.6883827</td><td>⋯</td><td>-0.4340369</td><td>-0.6018567</td><td>-0.4951947</td><td>-0.8182918</td><td>-0.8200758</td><td>-0.8071122</td><td>-0.9205346</td><td>-0.7530298</td><td>-0.3608264</td><td>-0.7311376</td></tr>\n",
       "\t<tr><th scope=row>T2</th><td> 0.3049522</td><td> 0.212757</td><td> 0.2428773</td><td> 0.02863789</td><td> 0.04547567</td><td>0.2892208</td><td>0.385502</td><td> 0.1891549</td><td>0.2956597</td><td> 0.1870306</td><td>⋯</td><td> 1.0327260</td><td> 1.3386929</td><td> 1.0992331</td><td> 1.4476971</td><td> 1.4476542</td><td> 1.4258788</td><td> 1.5716465</td><td> 1.4003771</td><td> 0.9382495</td><td> 1.3390795</td></tr>\n",
       "</tbody>\n",
       "</table>\n"
      ],
      "text/latex": [
       "A data.frame: 2 × 143\n",
       "\\begin{tabular}{r|lllllllllllllllllllll}\n",
       "  & S1 & S3 & S4 & S5 & S7 & S8 & S9 & S10 & S11 & S12 & ⋯ & S141 & S142 & S143 & S144 & S145 & S146 & S147 & S148 & S149 & S150\\\\\n",
       "  & <dbl> & <dbl> & <dbl> & <dbl> & <dbl> & <dbl> & <dbl> & <dbl> & <dbl> & <dbl> & ⋯ & <dbl> & <dbl> & <dbl> & <dbl> & <dbl> & <dbl> & <dbl> & <dbl> & <dbl> & <dbl>\\\\\n",
       "\\hline\n",
       "\tT1 & -0.1078375 & -0.624916 & -0.7285940 & -0.24781539 & -0.33746108 &        NA &       NA & -0.4915143 &        NA & -0.6883827 & ⋯ & -0.4340369 & -0.6018567 & -0.4951947 & -0.8182918 & -0.8200758 & -0.8071122 & -0.9205346 & -0.7530298 & -0.3608264 & -0.7311376\\\\\n",
       "\tT2 &  0.3049522 &  0.212757 &  0.2428773 &  0.02863789 &  0.04547567 & 0.2892208 & 0.385502 &  0.1891549 & 0.2956597 &  0.1870306 & ⋯ &  1.0327260 &  1.3386929 &  1.0992331 &  1.4476971 &  1.4476542 &  1.4258788 &  1.5716465 &  1.4003771 &  0.9382495 &  1.3390795\\\\\n",
       "\\end{tabular}\n"
      ],
      "text/markdown": [
       "\n",
       "A data.frame: 2 × 143\n",
       "\n",
       "| <!--/--> | S1 &lt;dbl&gt; | S3 &lt;dbl&gt; | S4 &lt;dbl&gt; | S5 &lt;dbl&gt; | S7 &lt;dbl&gt; | S8 &lt;dbl&gt; | S9 &lt;dbl&gt; | S10 &lt;dbl&gt; | S11 &lt;dbl&gt; | S12 &lt;dbl&gt; | ⋯ ⋯ | S141 &lt;dbl&gt; | S142 &lt;dbl&gt; | S143 &lt;dbl&gt; | S144 &lt;dbl&gt; | S145 &lt;dbl&gt; | S146 &lt;dbl&gt; | S147 &lt;dbl&gt; | S148 &lt;dbl&gt; | S149 &lt;dbl&gt; | S150 &lt;dbl&gt; |\n",
       "|---|---|---|---|---|---|---|---|---|---|---|---|---|---|---|---|---|---|---|---|---|---|\n",
       "| T1 | -0.1078375 | -0.624916 | -0.7285940 | -0.24781539 | -0.33746108 |        NA |       NA | -0.4915143 |        NA | -0.6883827 | ⋯ | -0.4340369 | -0.6018567 | -0.4951947 | -0.8182918 | -0.8200758 | -0.8071122 | -0.9205346 | -0.7530298 | -0.3608264 | -0.7311376 |\n",
       "| T2 |  0.3049522 |  0.212757 |  0.2428773 |  0.02863789 |  0.04547567 | 0.2892208 | 0.385502 |  0.1891549 | 0.2956597 |  0.1870306 | ⋯ |  1.0327260 |  1.3386929 |  1.0992331 |  1.4476971 |  1.4476542 |  1.4258788 |  1.5716465 |  1.4003771 |  0.9382495 |  1.3390795 |\n",
       "\n"
      ],
      "text/plain": [
       "   S1         S3        S4         S5          S7          S8        S9      \n",
       "T1 -0.1078375 -0.624916 -0.7285940 -0.24781539 -0.33746108        NA       NA\n",
       "T2  0.3049522  0.212757  0.2428773  0.02863789  0.04547567 0.2892208 0.385502\n",
       "   S10        S11       S12        ⋯ S141       S142       S143      \n",
       "T1 -0.4915143        NA -0.6883827 ⋯ -0.4340369 -0.6018567 -0.4951947\n",
       "T2  0.1891549 0.2956597  0.1870306 ⋯  1.0327260  1.3386929  1.0992331\n",
       "   S144       S145       S146       S147       S148       S149       S150      \n",
       "T1 -0.8182918 -0.8200758 -0.8071122 -0.9205346 -0.7530298 -0.3608264 -0.7311376\n",
       "T2  1.4476971  1.4476542  1.4258788  1.5716465  1.4003771  0.9382495  1.3390795"
      ]
     },
     "metadata": {},
     "output_type": "display_data"
    }
   ],
   "source": [
    "log_value = output$bias_correct_log_table\n",
    "log_value"
   ]
  },
  {
   "cell_type": "code",
   "execution_count": 51,
   "id": "a035ca96-7fc2-4207-a69d-4893b6e73f4b",
   "metadata": {},
   "outputs": [
    {
     "data": {
      "text/html": [
       "<table class=\"dataframe\">\n",
       "<caption>A data.frame: 1 × 143</caption>\n",
       "<thead>\n",
       "\t<tr><th></th><th scope=col>S1</th><th scope=col>S3</th><th scope=col>S4</th><th scope=col>S5</th><th scope=col>S7</th><th scope=col>S8</th><th scope=col>S9</th><th scope=col>S10</th><th scope=col>S11</th><th scope=col>S12</th><th scope=col>⋯</th><th scope=col>S141</th><th scope=col>S142</th><th scope=col>S143</th><th scope=col>S144</th><th scope=col>S145</th><th scope=col>S146</th><th scope=col>S147</th><th scope=col>S148</th><th scope=col>S149</th><th scope=col>S150</th></tr>\n",
       "\t<tr><th></th><th scope=col>&lt;dbl&gt;</th><th scope=col>&lt;dbl&gt;</th><th scope=col>&lt;dbl&gt;</th><th scope=col>&lt;dbl&gt;</th><th scope=col>&lt;dbl&gt;</th><th scope=col>&lt;dbl&gt;</th><th scope=col>&lt;dbl&gt;</th><th scope=col>&lt;dbl&gt;</th><th scope=col>&lt;dbl&gt;</th><th scope=col>&lt;dbl&gt;</th><th scope=col>⋯</th><th scope=col>&lt;dbl&gt;</th><th scope=col>&lt;dbl&gt;</th><th scope=col>&lt;dbl&gt;</th><th scope=col>&lt;dbl&gt;</th><th scope=col>&lt;dbl&gt;</th><th scope=col>&lt;dbl&gt;</th><th scope=col>&lt;dbl&gt;</th><th scope=col>&lt;dbl&gt;</th><th scope=col>&lt;dbl&gt;</th><th scope=col>&lt;dbl&gt;</th></tr>\n",
       "</thead>\n",
       "<tbody>\n",
       "\t<tr><th scope=row>T2</th><td>0.3049522</td><td>0.212757</td><td>0.2428773</td><td>0.02863789</td><td>0.04547567</td><td>0.2892208</td><td>0.385502</td><td>0.1891549</td><td>0.2956597</td><td>0.1870306</td><td>⋯</td><td>1.032726</td><td>1.338693</td><td>1.099233</td><td>1.447697</td><td>1.447654</td><td>1.425879</td><td>1.571646</td><td>1.400377</td><td>0.9382495</td><td>1.33908</td></tr>\n",
       "</tbody>\n",
       "</table>\n"
      ],
      "text/latex": [
       "A data.frame: 1 × 143\n",
       "\\begin{tabular}{r|lllllllllllllllllllll}\n",
       "  & S1 & S3 & S4 & S5 & S7 & S8 & S9 & S10 & S11 & S12 & ⋯ & S141 & S142 & S143 & S144 & S145 & S146 & S147 & S148 & S149 & S150\\\\\n",
       "  & <dbl> & <dbl> & <dbl> & <dbl> & <dbl> & <dbl> & <dbl> & <dbl> & <dbl> & <dbl> & ⋯ & <dbl> & <dbl> & <dbl> & <dbl> & <dbl> & <dbl> & <dbl> & <dbl> & <dbl> & <dbl>\\\\\n",
       "\\hline\n",
       "\tT2 & 0.3049522 & 0.212757 & 0.2428773 & 0.02863789 & 0.04547567 & 0.2892208 & 0.385502 & 0.1891549 & 0.2956597 & 0.1870306 & ⋯ & 1.032726 & 1.338693 & 1.099233 & 1.447697 & 1.447654 & 1.425879 & 1.571646 & 1.400377 & 0.9382495 & 1.33908\\\\\n",
       "\\end{tabular}\n"
      ],
      "text/markdown": [
       "\n",
       "A data.frame: 1 × 143\n",
       "\n",
       "| <!--/--> | S1 &lt;dbl&gt; | S3 &lt;dbl&gt; | S4 &lt;dbl&gt; | S5 &lt;dbl&gt; | S7 &lt;dbl&gt; | S8 &lt;dbl&gt; | S9 &lt;dbl&gt; | S10 &lt;dbl&gt; | S11 &lt;dbl&gt; | S12 &lt;dbl&gt; | ⋯ ⋯ | S141 &lt;dbl&gt; | S142 &lt;dbl&gt; | S143 &lt;dbl&gt; | S144 &lt;dbl&gt; | S145 &lt;dbl&gt; | S146 &lt;dbl&gt; | S147 &lt;dbl&gt; | S148 &lt;dbl&gt; | S149 &lt;dbl&gt; | S150 &lt;dbl&gt; |\n",
       "|---|---|---|---|---|---|---|---|---|---|---|---|---|---|---|---|---|---|---|---|---|---|\n",
       "| T2 | 0.3049522 | 0.212757 | 0.2428773 | 0.02863789 | 0.04547567 | 0.2892208 | 0.385502 | 0.1891549 | 0.2956597 | 0.1870306 | ⋯ | 1.032726 | 1.338693 | 1.099233 | 1.447697 | 1.447654 | 1.425879 | 1.571646 | 1.400377 | 0.9382495 | 1.33908 |\n",
       "\n"
      ],
      "text/plain": [
       "   S1        S3       S4        S5         S7         S8        S9      \n",
       "T2 0.3049522 0.212757 0.2428773 0.02863789 0.04547567 0.2892208 0.385502\n",
       "   S10       S11       S12       ⋯ S141     S142     S143     S144     S145    \n",
       "T2 0.1891549 0.2956597 0.1870306 ⋯ 1.032726 1.338693 1.099233 1.447697 1.447654\n",
       "   S146     S147     S148     S149      S150   \n",
       "T2 1.425879 1.571646 1.400377 0.9382495 1.33908"
      ]
     },
     "metadata": {},
     "output_type": "display_data"
    }
   ],
   "source": []
  },
  {
   "cell_type": "code",
   "execution_count": 61,
   "id": "4e4cbb76-34a6-46e0-930a-f88a3d2953be",
   "metadata": {},
   "outputs": [
    {
     "data": {
      "text/html": [
       "<style>\n",
       ".list-inline {list-style: none; margin:0; padding: 0}\n",
       ".list-inline>li {display: inline-block}\n",
       ".list-inline>li:not(:last-child)::after {content: \"\\00b7\"; padding: 0 .5ex}\n",
       "</style>\n",
       "<ol class=list-inline><li>1</li><li>1</li><li>1</li><li>1</li><li>1</li><li>1</li><li>1</li><li>1</li><li>1</li><li>1</li><li>1</li><li>1</li><li>1</li><li>1</li><li>1</li><li>1</li><li>1</li><li>1</li><li>1</li><li>1</li><li>1</li><li>1</li><li>1</li><li>1</li><li>1</li><li>1</li><li>1</li><li>1</li><li>1</li><li>1</li><li>1</li><li>1</li><li>1</li><li>1</li><li>1</li><li>1</li><li>1</li><li>1</li><li>1</li><li>1</li><li>1</li><li>1</li><li>1</li><li>1</li><li>1</li><li>1</li><li>1</li><li>1</li><li>1</li><li>1</li><li>2</li><li>2</li><li>2</li><li>2</li><li>2</li><li>2</li><li>2</li><li>2</li><li>2</li><li>2</li><li>2</li><li>2</li><li>2</li><li>2</li><li>2</li><li>2</li><li>2</li><li>2</li><li>2</li><li>2</li><li>2</li><li>2</li><li>2</li><li>2</li><li>2</li><li>2</li><li>2</li><li>2</li><li>2</li><li>2</li><li>2</li><li>2</li><li>2</li><li>2</li><li>2</li><li>2</li><li>2</li><li>2</li><li>2</li><li>2</li><li>2</li><li>2</li><li>2</li><li>2</li><li>2</li><li>2</li><li>2</li><li>2</li><li>2</li><li>2</li><li>3</li><li>3</li><li>3</li><li>3</li><li>3</li><li>3</li><li>3</li><li>3</li><li>3</li><li>3</li><li>3</li><li>3</li><li>3</li><li>3</li><li>3</li><li>3</li><li>3</li><li>3</li><li>3</li><li>3</li><li>3</li><li>3</li><li>3</li><li>3</li><li>3</li><li>3</li><li>3</li><li>3</li><li>3</li><li>3</li><li>3</li><li>3</li><li>3</li><li>3</li><li>3</li><li>3</li><li>3</li><li>3</li><li>3</li><li>3</li><li>3</li><li>3</li><li>3</li><li>3</li><li>3</li><li>3</li><li>3</li><li>3</li><li>3</li><li>3</li></ol>\n",
       "\n",
       "<details>\n",
       "\t<summary style=display:list-item;cursor:pointer>\n",
       "\t\t<strong>Levels</strong>:\n",
       "\t</summary>\n",
       "\t<style>\n",
       "\t.list-inline {list-style: none; margin:0; padding: 0}\n",
       "\t.list-inline>li {display: inline-block}\n",
       "\t.list-inline>li:not(:last-child)::after {content: \"\\00b7\"; padding: 0 .5ex}\n",
       "\t</style>\n",
       "\t<ol class=list-inline><li>'1'</li><li>'2'</li><li>'3'</li></ol>\n",
       "</details>"
      ],
      "text/latex": [
       "\\begin{enumerate*}\n",
       "\\item 1\n",
       "\\item 1\n",
       "\\item 1\n",
       "\\item 1\n",
       "\\item 1\n",
       "\\item 1\n",
       "\\item 1\n",
       "\\item 1\n",
       "\\item 1\n",
       "\\item 1\n",
       "\\item 1\n",
       "\\item 1\n",
       "\\item 1\n",
       "\\item 1\n",
       "\\item 1\n",
       "\\item 1\n",
       "\\item 1\n",
       "\\item 1\n",
       "\\item 1\n",
       "\\item 1\n",
       "\\item 1\n",
       "\\item 1\n",
       "\\item 1\n",
       "\\item 1\n",
       "\\item 1\n",
       "\\item 1\n",
       "\\item 1\n",
       "\\item 1\n",
       "\\item 1\n",
       "\\item 1\n",
       "\\item 1\n",
       "\\item 1\n",
       "\\item 1\n",
       "\\item 1\n",
       "\\item 1\n",
       "\\item 1\n",
       "\\item 1\n",
       "\\item 1\n",
       "\\item 1\n",
       "\\item 1\n",
       "\\item 1\n",
       "\\item 1\n",
       "\\item 1\n",
       "\\item 1\n",
       "\\item 1\n",
       "\\item 1\n",
       "\\item 1\n",
       "\\item 1\n",
       "\\item 1\n",
       "\\item 1\n",
       "\\item 2\n",
       "\\item 2\n",
       "\\item 2\n",
       "\\item 2\n",
       "\\item 2\n",
       "\\item 2\n",
       "\\item 2\n",
       "\\item 2\n",
       "\\item 2\n",
       "\\item 2\n",
       "\\item 2\n",
       "\\item 2\n",
       "\\item 2\n",
       "\\item 2\n",
       "\\item 2\n",
       "\\item 2\n",
       "\\item 2\n",
       "\\item 2\n",
       "\\item 2\n",
       "\\item 2\n",
       "\\item 2\n",
       "\\item 2\n",
       "\\item 2\n",
       "\\item 2\n",
       "\\item 2\n",
       "\\item 2\n",
       "\\item 2\n",
       "\\item 2\n",
       "\\item 2\n",
       "\\item 2\n",
       "\\item 2\n",
       "\\item 2\n",
       "\\item 2\n",
       "\\item 2\n",
       "\\item 2\n",
       "\\item 2\n",
       "\\item 2\n",
       "\\item 2\n",
       "\\item 2\n",
       "\\item 2\n",
       "\\item 2\n",
       "\\item 2\n",
       "\\item 2\n",
       "\\item 2\n",
       "\\item 2\n",
       "\\item 2\n",
       "\\item 2\n",
       "\\item 2\n",
       "\\item 2\n",
       "\\item 2\n",
       "\\item 3\n",
       "\\item 3\n",
       "\\item 3\n",
       "\\item 3\n",
       "\\item 3\n",
       "\\item 3\n",
       "\\item 3\n",
       "\\item 3\n",
       "\\item 3\n",
       "\\item 3\n",
       "\\item 3\n",
       "\\item 3\n",
       "\\item 3\n",
       "\\item 3\n",
       "\\item 3\n",
       "\\item 3\n",
       "\\item 3\n",
       "\\item 3\n",
       "\\item 3\n",
       "\\item 3\n",
       "\\item 3\n",
       "\\item 3\n",
       "\\item 3\n",
       "\\item 3\n",
       "\\item 3\n",
       "\\item 3\n",
       "\\item 3\n",
       "\\item 3\n",
       "\\item 3\n",
       "\\item 3\n",
       "\\item 3\n",
       "\\item 3\n",
       "\\item 3\n",
       "\\item 3\n",
       "\\item 3\n",
       "\\item 3\n",
       "\\item 3\n",
       "\\item 3\n",
       "\\item 3\n",
       "\\item 3\n",
       "\\item 3\n",
       "\\item 3\n",
       "\\item 3\n",
       "\\item 3\n",
       "\\item 3\n",
       "\\item 3\n",
       "\\item 3\n",
       "\\item 3\n",
       "\\item 3\n",
       "\\item 3\n",
       "\\end{enumerate*}\n",
       "\n",
       "\\emph{Levels}: \\begin{enumerate*}\n",
       "\\item '1'\n",
       "\\item '2'\n",
       "\\item '3'\n",
       "\\end{enumerate*}\n"
      ],
      "text/markdown": [
       "1. 1\n",
       "2. 1\n",
       "3. 1\n",
       "4. 1\n",
       "5. 1\n",
       "6. 1\n",
       "7. 1\n",
       "8. 1\n",
       "9. 1\n",
       "10. 1\n",
       "11. 1\n",
       "12. 1\n",
       "13. 1\n",
       "14. 1\n",
       "15. 1\n",
       "16. 1\n",
       "17. 1\n",
       "18. 1\n",
       "19. 1\n",
       "20. 1\n",
       "21. 1\n",
       "22. 1\n",
       "23. 1\n",
       "24. 1\n",
       "25. 1\n",
       "26. 1\n",
       "27. 1\n",
       "28. 1\n",
       "29. 1\n",
       "30. 1\n",
       "31. 1\n",
       "32. 1\n",
       "33. 1\n",
       "34. 1\n",
       "35. 1\n",
       "36. 1\n",
       "37. 1\n",
       "38. 1\n",
       "39. 1\n",
       "40. 1\n",
       "41. 1\n",
       "42. 1\n",
       "43. 1\n",
       "44. 1\n",
       "45. 1\n",
       "46. 1\n",
       "47. 1\n",
       "48. 1\n",
       "49. 1\n",
       "50. 1\n",
       "51. 2\n",
       "52. 2\n",
       "53. 2\n",
       "54. 2\n",
       "55. 2\n",
       "56. 2\n",
       "57. 2\n",
       "58. 2\n",
       "59. 2\n",
       "60. 2\n",
       "61. 2\n",
       "62. 2\n",
       "63. 2\n",
       "64. 2\n",
       "65. 2\n",
       "66. 2\n",
       "67. 2\n",
       "68. 2\n",
       "69. 2\n",
       "70. 2\n",
       "71. 2\n",
       "72. 2\n",
       "73. 2\n",
       "74. 2\n",
       "75. 2\n",
       "76. 2\n",
       "77. 2\n",
       "78. 2\n",
       "79. 2\n",
       "80. 2\n",
       "81. 2\n",
       "82. 2\n",
       "83. 2\n",
       "84. 2\n",
       "85. 2\n",
       "86. 2\n",
       "87. 2\n",
       "88. 2\n",
       "89. 2\n",
       "90. 2\n",
       "91. 2\n",
       "92. 2\n",
       "93. 2\n",
       "94. 2\n",
       "95. 2\n",
       "96. 2\n",
       "97. 2\n",
       "98. 2\n",
       "99. 2\n",
       "100. 2\n",
       "101. 3\n",
       "102. 3\n",
       "103. 3\n",
       "104. 3\n",
       "105. 3\n",
       "106. 3\n",
       "107. 3\n",
       "108. 3\n",
       "109. 3\n",
       "110. 3\n",
       "111. 3\n",
       "112. 3\n",
       "113. 3\n",
       "114. 3\n",
       "115. 3\n",
       "116. 3\n",
       "117. 3\n",
       "118. 3\n",
       "119. 3\n",
       "120. 3\n",
       "121. 3\n",
       "122. 3\n",
       "123. 3\n",
       "124. 3\n",
       "125. 3\n",
       "126. 3\n",
       "127. 3\n",
       "128. 3\n",
       "129. 3\n",
       "130. 3\n",
       "131. 3\n",
       "132. 3\n",
       "133. 3\n",
       "134. 3\n",
       "135. 3\n",
       "136. 3\n",
       "137. 3\n",
       "138. 3\n",
       "139. 3\n",
       "140. 3\n",
       "141. 3\n",
       "142. 3\n",
       "143. 3\n",
       "144. 3\n",
       "145. 3\n",
       "146. 3\n",
       "147. 3\n",
       "148. 3\n",
       "149. 3\n",
       "150. 3\n",
       "\n",
       "\n",
       "\n",
       "**Levels**: 1. '1'\n",
       "2. '2'\n",
       "3. '3'\n",
       "\n",
       "\n"
      ],
      "text/plain": [
       "  [1] 1 1 1 1 1 1 1 1 1 1 1 1 1 1 1 1 1 1 1 1 1 1 1 1 1 1 1 1 1 1 1 1 1 1 1 1 1\n",
       " [38] 1 1 1 1 1 1 1 1 1 1 1 1 1 2 2 2 2 2 2 2 2 2 2 2 2 2 2 2 2 2 2 2 2 2 2 2 2\n",
       " [75] 2 2 2 2 2 2 2 2 2 2 2 2 2 2 2 2 2 2 2 2 2 2 2 2 2 2 3 3 3 3 3 3 3 3 3 3 3\n",
       "[112] 3 3 3 3 3 3 3 3 3 3 3 3 3 3 3 3 3 3 3 3 3 3 3 3 3 3 3 3 3 3 3 3 3 3 3 3 3\n",
       "[149] 3 3\n",
       "Levels: 1 2 3"
      ]
     },
     "metadata": {},
     "output_type": "display_data"
    }
   ],
   "source": [
    "smd[,'health_status']"
   ]
  },
  {
   "cell_type": "code",
   "execution_count": 92,
   "id": "83199c59-f14b-40bc-ab37-bed3ac8bb5c4",
   "metadata": {
    "collapsed": true,
    "jupyter": {
     "outputs_hidden": true
    },
    "tags": []
   },
   "outputs": [
    {
     "name": "stderr",
     "output_type": "stream",
     "text": [
      "Warning message in cbind(...):\n",
      "\"number of rows of result is not a multiple of vector length (arg 2)\"\n"
     ]
    }
   ],
   "source": [
    "taxa2 = cbind(t(log_value['T2',]), smd$health_status)\n",
    "colnames(taxa2) = c('log_value', 'health_status')"
   ]
  },
  {
   "cell_type": "code",
   "execution_count": 94,
   "id": "ca660392-4245-485a-be0c-30373fedc407",
   "metadata": {},
   "outputs": [
    {
     "data": {
      "text/html": [
       "<table class=\"dataframe\">\n",
       "<caption>A matrix: 2 × 2 of type dbl</caption>\n",
       "<thead>\n",
       "\t<tr><th></th><th scope=col>log_value</th><th scope=col>health_status</th></tr>\n",
       "</thead>\n",
       "<tbody>\n",
       "\t<tr><th scope=row>S1</th><td>0.3049522</td><td>1</td></tr>\n",
       "\t<tr><th scope=row>S3</th><td>0.2127570</td><td>1</td></tr>\n",
       "</tbody>\n",
       "</table>\n"
      ],
      "text/latex": [
       "A matrix: 2 × 2 of type dbl\n",
       "\\begin{tabular}{r|ll}\n",
       "  & log\\_value & health\\_status\\\\\n",
       "\\hline\n",
       "\tS1 & 0.3049522 & 1\\\\\n",
       "\tS3 & 0.2127570 & 1\\\\\n",
       "\\end{tabular}\n"
      ],
      "text/markdown": [
       "\n",
       "A matrix: 2 × 2 of type dbl\n",
       "\n",
       "| <!--/--> | log_value | health_status |\n",
       "|---|---|---|\n",
       "| S1 | 0.3049522 | 1 |\n",
       "| S3 | 0.2127570 | 1 |\n",
       "\n"
      ],
      "text/plain": [
       "   log_value health_status\n",
       "S1 0.3049522 1            \n",
       "S3 0.2127570 1            "
      ]
     },
     "metadata": {},
     "output_type": "display_data"
    }
   ],
   "source": [
    "head(taxa2,2)"
   ]
  },
  {
   "cell_type": "code",
   "execution_count": 95,
   "id": "26cbeede-6265-45e6-88ee-94aae1b29060",
   "metadata": {},
   "outputs": [
    {
     "data": {
      "image/png": "[encoded data removed]",
      "text/plain": [
       "Plot with title \"Taxa 2 - Abundance\""
      ]
     },
     "metadata": {
      "image/png": {
       "height": 420,
       "width": 420
      }
     },
     "output_type": "display_data"
    }
   ],
   "source": [
    "boxplot(log_value ~ health_status, data=taxa2, col=c(\"green\", 'red', 'pink'),\n",
    "       main=\"Taxa 2 - Abundance\")"
   ]
  },
  {
   "cell_type": "code",
   "execution_count": 104,
   "id": "7cda9be1-5763-46de-be68-013317da7a6b",
   "metadata": {},
   "outputs": [
    {
     "data": {
      "text/plain": [
       "\n",
       "\tPairwise comparisons using t tests with pooled SD \n",
       "\n",
       "data:  taxa2[, \"log_value\"] and taxa2[, \"health_status\"] \n",
       "\n",
       "  1       2      \n",
       "2 < 2e-16 -      \n",
       "3 5.4e-12 < 2e-16\n",
       "\n",
       "P value adjustment method: BH "
      ]
     },
     "metadata": {},
     "output_type": "display_data"
    }
   ],
   "source": [
    "t = pairwise.t.test(taxa2[,'log_value'], taxa2[,'health_status'], p.adjust.method = \"BH\")\n",
    "t"
   ]
  },
  {
   "cell_type": "code",
   "execution_count": 107,
   "id": "ee78d831-88c5-457d-8b68-3af21213cce6",
   "metadata": {},
   "outputs": [
    {
     "data": {
      "text/html": [
       "<table class=\"dataframe\">\n",
       "<caption>A matrix: 2 × 2 of type dbl</caption>\n",
       "<thead>\n",
       "\t<tr><th></th><th scope=col>1</th><th scope=col>2</th></tr>\n",
       "</thead>\n",
       "<tbody>\n",
       "\t<tr><th scope=row>2</th><td>9.807144e-18</td><td>          NA</td></tr>\n",
       "\t<tr><th scope=row>3</th><td>5.408914e-12</td><td>1.388275e-35</td></tr>\n",
       "</tbody>\n",
       "</table>\n"
      ],
      "text/latex": [
       "A matrix: 2 × 2 of type dbl\n",
       "\\begin{tabular}{r|ll}\n",
       "  & 1 & 2\\\\\n",
       "\\hline\n",
       "\t2 & 9.807144e-18 &           NA\\\\\n",
       "\t3 & 5.408914e-12 & 1.388275e-35\\\\\n",
       "\\end{tabular}\n"
      ],
      "text/markdown": [
       "\n",
       "A matrix: 2 × 2 of type dbl\n",
       "\n",
       "| <!--/--> | 1 | 2 |\n",
       "|---|---|---|\n",
       "| 2 | 9.807144e-18 |           NA |\n",
       "| 3 | 5.408914e-12 | 1.388275e-35 |\n",
       "\n"
      ],
      "text/plain": [
       "  1            2           \n",
       "2 9.807144e-18           NA\n",
       "3 5.408914e-12 1.388275e-35"
      ]
     },
     "metadata": {},
     "output_type": "display_data"
    }
   ],
   "source": [
    "t$p.value"
   ]
  },
  {
   "cell_type": "markdown",
   "id": "570ba1f5-3f3a-4599-aa07-4a9c1713f372",
   "metadata": {
    "jp-MarkdownHeadingCollapsed": true,
    "tags": []
   },
   "source": []
  },
  {
   "cell_type": "code",
   "execution_count": 115,
   "id": "9d1abac9-e1b7-4224-9181-5d5c50e54e62",
   "metadata": {
    "tags": [],
    "toc-hr-collapsed": true
   },
   "outputs": [
    {
     "data": {
      "text/html": [
       "\n",
       "<table style=\"width: 100%;\"><tr><td>ancombc {ANCOMBC}</td><td style=\"text-align: right;\">R Documentation</td></tr></table>\n",
       "\n",
       "<h2 id='ancombc'>Analysis of Compositions of Microbiomes with Bias Correction\n",
       "(ANCOM-BC)</h2>\n",
       "\n",
       "<h3>Description</h3>\n",
       "\n",
       "<p>Determine taxa whose absolute abundances, per unit volume, of\n",
       "the ecosystem (e.g., gut) are significantly different with changes in the\n",
       "covariate of interest (e.g., group). The current version of\n",
       "<code>ancombc</code> function implements Analysis of Compositions of Microbiomes\n",
       "with Bias Correction (ANCOM-BC) in cross-sectional data while allowing\n",
       "for covariate adjustment.\n",
       "</p>\n",
       "\n",
       "\n",
       "<h3>Usage</h3>\n",
       "\n",
       "<pre><code class='language-R'>ancombc(\n",
       "  data = NULL,\n",
       "  assay.type = NULL,\n",
       "  assay_name = \"counts\",\n",
       "  rank = NULL,\n",
       "  tax_level = NULL,\n",
       "  phyloseq = NULL,\n",
       "  formula,\n",
       "  p_adj_method = \"holm\",\n",
       "  prv_cut = 0.1,\n",
       "  lib_cut = 0,\n",
       "  group = NULL,\n",
       "  struc_zero = FALSE,\n",
       "  neg_lb = FALSE,\n",
       "  tol = 1e-05,\n",
       "  max_iter = 100,\n",
       "  conserve = FALSE,\n",
       "  alpha = 0.05,\n",
       "  global = FALSE,\n",
       "  n_cl = 1,\n",
       "  verbose = FALSE\n",
       ")\n",
       "</code></pre>\n",
       "\n",
       "\n",
       "<h3>Arguments</h3>\n",
       "\n",
       "<table>\n",
       "<tr><td><code id=\"ancombc_:_data\">data</code></td>\n",
       "<td>\n",
       "<p>the input data. The <code>data</code> parameter should be either a\n",
       "<code>phyloseq</code> or a <code>TreeSummarizedExperiment</code> object, which\n",
       "consists of a feature table (microbial count table), a sample metadata table,\n",
       "a taxonomy table (optional), and a phylogenetic tree (optional).\n",
       "Ensure that the row names of the metadata table match the sample names in the\n",
       "feature table, and the row names of the taxonomy table match the taxon\n",
       "(feature) names in the feature table. For detailed information, refer to\n",
       "<code>?phyloseq::phyloseq</code> or\n",
       "<code>?TreeSummarizedExperiment::TreeSummarizedExperiment</code>.</p>\n",
       "</td></tr>\n",
       "<tr><td><code id=\"ancombc_:_assay.type\">assay.type</code></td>\n",
       "<td>\n",
       "<p>alias for <code>assay_name</code>.</p>\n",
       "</td></tr>\n",
       "<tr><td><code id=\"ancombc_:_assay_name\">assay_name</code></td>\n",
       "<td>\n",
       "<p>character. Name of the count table in the data object\n",
       "(only applicable if data object is a <code>(Tree)SummarizedExperiment</code>).\n",
       "Default is &quot;counts&quot;.\n",
       "See <code>?SummarizedExperiment::assay</code> for more details.</p>\n",
       "</td></tr>\n",
       "<tr><td><code id=\"ancombc_:_rank\">rank</code></td>\n",
       "<td>\n",
       "<p>alias for <code>tax_level</code>.</p>\n",
       "</td></tr>\n",
       "<tr><td><code id=\"ancombc_:_tax_level\">tax_level</code></td>\n",
       "<td>\n",
       "<p>character. The taxonomic level of interest. The input data\n",
       "can be agglomerated at different taxonomic levels based on your research\n",
       "interest. Default is NULL, i.e., do not perform agglomeration, and the\n",
       "ANCOM-BC anlysis will be performed at the lowest taxonomic level of the\n",
       "input <code>data</code>.</p>\n",
       "</td></tr>\n",
       "<tr><td><code id=\"ancombc_:_phyloseq\">phyloseq</code></td>\n",
       "<td>\n",
       "<p>a <code>phyloseq</code> object. Will be deprecated.</p>\n",
       "</td></tr>\n",
       "<tr><td><code id=\"ancombc_:_formula\">formula</code></td>\n",
       "<td>\n",
       "<p>the character string expresses how microbial absolute\n",
       "abundances for each taxon depend on the variables in metadata. When\n",
       "specifying the <code>formula</code>, make sure to include the <code>group</code> variable\n",
       "in the formula if it is not NULL.</p>\n",
       "</td></tr>\n",
       "<tr><td><code id=\"ancombc_:_p_adj_method\">p_adj_method</code></td>\n",
       "<td>\n",
       "<p>character. method to adjust p-values. Default is &quot;holm&quot;.\n",
       "Options include &quot;holm&quot;, &quot;hochberg&quot;, &quot;hommel&quot;, &quot;bonferroni&quot;, &quot;BH&quot;, &quot;BY&quot;,\n",
       "&quot;fdr&quot;, &quot;none&quot;. See <code>?stats::p.adjust</code> for more details.</p>\n",
       "</td></tr>\n",
       "<tr><td><code id=\"ancombc_:_prv_cut\">prv_cut</code></td>\n",
       "<td>\n",
       "<p>a numerical fraction between 0 and 1. Taxa with prevalences\n",
       "(the proportion of samples in which the taxon is present)\n",
       "less than <code>prv_cut</code> will be excluded in the analysis. For example,\n",
       "if there are 100 samples, and a taxon has nonzero counts present in less than\n",
       "100*prv_cut samples, it will not be considered in the analysis.\n",
       "Default is 0.10.</p>\n",
       "</td></tr>\n",
       "<tr><td><code id=\"ancombc_:_lib_cut\">lib_cut</code></td>\n",
       "<td>\n",
       "<p>a numerical threshold for filtering samples based on library\n",
       "sizes. Samples with library sizes less than <code>lib_cut</code> will be\n",
       "excluded in the analysis. Default is 0, i.e. do not discard any sample.</p>\n",
       "</td></tr>\n",
       "<tr><td><code id=\"ancombc_:_group\">group</code></td>\n",
       "<td>\n",
       "<p>character. the name of the group variable in metadata.\n",
       "The <code>group</code> parameter should be a character string representing the name\n",
       "of the group variable in the metadata. The <code>group</code> variable should be\n",
       "discrete, meaning it consists of categorical values. Specifying the\n",
       "<code>group</code> variable is required if you are interested in detecting\n",
       "structural zeros and performing global tests. However, if these analyses are\n",
       "not of interest to you, you can leave the <code>group</code> parameter as NULL.\n",
       "If the <code>group</code> variable of interest contains only two categories, you\n",
       "can also leave the <code>group</code> parameter as NULL. Default is NULL.</p>\n",
       "</td></tr>\n",
       "<tr><td><code id=\"ancombc_:_struc_zero\">struc_zero</code></td>\n",
       "<td>\n",
       "<p>logical. whether to detect structural zeros based on\n",
       "<code>group</code>. Default is FALSE.</p>\n",
       "</td></tr>\n",
       "<tr><td><code id=\"ancombc_:_neg_lb\">neg_lb</code></td>\n",
       "<td>\n",
       "<p>logical. whether to classify a taxon as a structural zero using\n",
       "its asymptotic lower bound. Default is FALSE.</p>\n",
       "</td></tr>\n",
       "<tr><td><code id=\"ancombc_:_tol\">tol</code></td>\n",
       "<td>\n",
       "<p>numeric. the iteration convergence tolerance for the E-M\n",
       "algorithm. Default is 1e-05.</p>\n",
       "</td></tr>\n",
       "<tr><td><code id=\"ancombc_:_max_iter\">max_iter</code></td>\n",
       "<td>\n",
       "<p>numeric. the maximum number of iterations for the E-M\n",
       "algorithm. Default is 100.</p>\n",
       "</td></tr>\n",
       "<tr><td><code id=\"ancombc_:_conserve\">conserve</code></td>\n",
       "<td>\n",
       "<p>logical. whether to use a conservative variance estimator for\n",
       "the test statistic. It is recommended if the sample size is small and/or\n",
       "the number of differentially abundant taxa is believed to be large.\n",
       "Default is FALSE.</p>\n",
       "</td></tr>\n",
       "<tr><td><code id=\"ancombc_:_alpha\">alpha</code></td>\n",
       "<td>\n",
       "<p>numeric. level of significance. Default is 0.05.</p>\n",
       "</td></tr>\n",
       "<tr><td><code id=\"ancombc_:_global\">global</code></td>\n",
       "<td>\n",
       "<p>logical. whether to perform the global test. Default is FALSE.</p>\n",
       "</td></tr>\n",
       "<tr><td><code id=\"ancombc_:_n_cl\">n_cl</code></td>\n",
       "<td>\n",
       "<p>numeric. The number of nodes to be forked. For details, see\n",
       "<code>?parallel::makeCluster</code>. Default is 1 (no parallel computing).</p>\n",
       "</td></tr>\n",
       "<tr><td><code id=\"ancombc_:_verbose\">verbose</code></td>\n",
       "<td>\n",
       "<p>logical. Whether to generate verbose output during the\n",
       "ANCOM-BC fitting process. Default is FALSE.</p>\n",
       "</td></tr>\n",
       "</table>\n",
       "\n",
       "\n",
       "<h3>Details</h3>\n",
       "\n",
       "<p>A taxon is considered to have structural zeros in some (&gt;=1)\n",
       "groups if it is completely (or nearly completely) missing in these groups.\n",
       "For instance, suppose there are three groups: g1, g2, and g3.\n",
       "If the counts of taxon A in g1 are 0 but nonzero in g2 and g3,\n",
       "then taxon A will be considered to contain structural zeros in g1.\n",
       "In this example, taxon A is declared to be differentially abundant between\n",
       "g1 and g2, g1 and g3, and consequently, it is globally differentially\n",
       "abundant with respect to this group variable.\n",
       "Such taxa are not further analyzed using ANCOM-BC, but the results are\n",
       "summarized in the overall summary. For more details about the structural\n",
       "zeros, please go to the\n",
       "<a href=\"https://doi.org/10.3389/fmicb.2017.02114\">ANCOM-II</a> paper.\n",
       "Setting <code>neg_lb = TRUE</code> indicates that you are using both criteria\n",
       "stated in section 3.2 of\n",
       "<a href=\"https://doi.org/10.3389/fmicb.2017.02114\">ANCOM-II</a>\n",
       "to detect structural zeros; otherwise, the algorithm will only use the\n",
       "equation 1 in section 3.2 for declaring structural zeros. Generally, it is\n",
       "recommended to set <code>neg_lb = TRUE</code> when the sample size per group is\n",
       "relatively large (e.g. &gt; 30).\n",
       "</p>\n",
       "\n",
       "\n",
       "<h3>Value</h3>\n",
       "\n",
       "<p>a <code>list</code> with components:\n",
       "</p>\n",
       "\n",
       "<ul>\n",
       "<li> <p><code>feature_table</code>, a <code>data.frame</code> of pre-processed\n",
       "(based on <code>prv_cut</code> and <code>lib_cut</code>) microbial count table.\n",
       "</p>\n",
       "</li>\n",
       "<li> <p><code>zero_ind</code>, a logical <code>data.frame</code> with TRUE\n",
       "indicating the taxon is detected to contain structural zeros in\n",
       "some specific groups.\n",
       "</p>\n",
       "</li>\n",
       "<li> <p><code>samp_frac</code>, a numeric vector of estimated sampling\n",
       "fractions in log scale (natural log).\n",
       "</p>\n",
       "</li>\n",
       "<li> <p><code>delta_em</code>, estimated sample-specific biases\n",
       "through E-M algorithm.\n",
       "</p>\n",
       "</li>\n",
       "<li> <p><code>delta_wls</code>, estimated sample-specific biases through\n",
       "weighted least squares (WLS) algorithm.\n",
       "</p>\n",
       "</li>\n",
       "<li> <p><code>res</code>,  a <code>list</code> containing ANCOM-BC primary result,\n",
       "which consists of:\n",
       "</p>\n",
       "\n",
       "<ul>\n",
       "<li> <p><code>lfc</code>, a <code>data.frame</code> of log fold changes\n",
       "obtained from the ANCOM-BC log-linear (natural log) model.\n",
       "</p>\n",
       "</li>\n",
       "<li> <p><code>se</code>, a <code>data.frame</code> of standard errors (SEs) of\n",
       "<code>lfc</code>.\n",
       "</p>\n",
       "</li>\n",
       "<li> <p><code>W</code>, a <code>data.frame</code> of test statistics.\n",
       "<code>W = lfc/se</code>.\n",
       "</p>\n",
       "</li>\n",
       "<li> <p><code>p_val</code>, a <code>data.frame</code> of p-values. P-values are\n",
       "obtained from two-sided Z-test using the test statistic <code>W</code>.\n",
       "</p>\n",
       "</li>\n",
       "<li> <p><code>q_val</code>, a <code>data.frame</code> of adjusted p-values.\n",
       "Adjusted p-values are obtained by applying <code>p_adj_method</code>\n",
       "to <code>p_val</code>.\n",
       "</p>\n",
       "</li>\n",
       "<li> <p><code>diff_abn</code>, a logical <code>data.frame</code>. TRUE if the\n",
       "taxon has <code>q_val</code> less than <code>alpha</code>.\n",
       "</p>\n",
       "</li></ul>\n",
       "\n",
       "</li>\n",
       "<li> <p><code>res_global</code>,  a <code>data.frame</code> containing ANCOM-BC\n",
       "global test result for the variable specified in <code>group</code>,\n",
       "each column is:\n",
       "</p>\n",
       "\n",
       "<ul>\n",
       "<li> <p><code>W</code>, test statistics.\n",
       "</p>\n",
       "</li>\n",
       "<li> <p><code>p_val</code>, p-values, which are obtained from two-sided\n",
       "Chi-square test using <code>W</code>.\n",
       "</p>\n",
       "</li>\n",
       "<li> <p><code>q_val</code>, adjusted p-values. Adjusted p-values are\n",
       "obtained by applying <code>p_adj_method</code> to <code>p_val</code>.\n",
       "</p>\n",
       "</li>\n",
       "<li> <p><code>diff_abn</code>, A logical vector. TRUE if the taxon has\n",
       "<code>q_val</code> less than <code>alpha</code>.\n",
       "</p>\n",
       "</li></ul>\n",
       "\n",
       "</li></ul>\n",
       "\n",
       "\n",
       "\n",
       "<h3>Author(s)</h3>\n",
       "\n",
       "<p>Huang Lin\n",
       "</p>\n",
       "\n",
       "\n",
       "<h3>References</h3>\n",
       "\n",
       "<p>Kaul A, Mandal S, Davidov O, Peddada SD (2017).\n",
       "&ldquo;Analysis of microbiome data in the presence of excess zeros.&rdquo;\n",
       "<em>Frontiers in microbiology</em>, <b>8</b>, 2114.\n",
       "</p>\n",
       "<p>Lin H, Peddada SD (2020).\n",
       "&ldquo;Analysis of compositions of microbiomes with bias correction.&rdquo;\n",
       "<em>Nature communications</em>, <b>11</b>(1), 1&ndash;11.\n",
       "</p>\n",
       "\n",
       "\n",
       "<h3>See Also</h3>\n",
       "\n",
       "<p><code>ancom</code> <code>ancombc2</code>\n",
       "</p>\n",
       "\n",
       "\n",
       "<h3>Examples</h3>\n",
       "\n",
       "<pre><code class='language-R'>#===========Build a TreeSummarizedExperiment Object from Scratch=============\n",
       "library(mia)\n",
       "\n",
       "# microbial count table\n",
       "otu_mat = matrix(sample(1:100, 100, replace = TRUE), nrow = 10, ncol = 10)\n",
       "rownames(otu_mat) = paste0(\"taxon\", 1:nrow(otu_mat))\n",
       "colnames(otu_mat) = paste0(\"sample\", 1:ncol(otu_mat))\n",
       "assays = SimpleList(counts = otu_mat)\n",
       "\n",
       "# sample metadata\n",
       "smd = data.frame(group = sample(LETTERS[1:4], size = 10, replace = TRUE),\n",
       "                 row.names = paste0(\"sample\", 1:ncol(otu_mat)),\n",
       "                 stringsAsFactors = FALSE)\n",
       "smd = DataFrame(smd)\n",
       "\n",
       "# taxonomy table\n",
       "tax_tab = matrix(sample(letters, 70, replace = TRUE),\n",
       "                 nrow = nrow(otu_mat), ncol = 7)\n",
       "rownames(tax_tab) = rownames(otu_mat)\n",
       "colnames(tax_tab) = c(\"Kingdom\", \"Phylum\", \"Class\", \"Order\",\n",
       "                      \"Family\", \"Genus\", \"Species\")\n",
       "tax_tab = DataFrame(tax_tab)\n",
       "\n",
       "# create TSE\n",
       "tse = TreeSummarizedExperiment(assays = assays,\n",
       "                               colData = smd,\n",
       "                               rowData = tax_tab)\n",
       "\n",
       "# convert TSE to phyloseq\n",
       "pseq = makePhyloseqFromTreeSummarizedExperiment(tse)\n",
       "\n",
       "#========================Run ANCOMBC Using a Real Data=======================\n",
       "library(ANCOMBC)\n",
       "data(atlas1006, package = \"microbiome\")\n",
       "tse = mia::makeTreeSummarizedExperimentFromPhyloseq(atlas1006)\n",
       "\n",
       "# subset to baseline\n",
       "tse = tse[, tse$time == 0]\n",
       "\n",
       "# run ancombc function\n",
       "set.seed(123)\n",
       "out = ancombc(data = tse, assay_name = \"counts\",\n",
       "              tax_level = \"Family\", phyloseq = NULL,\n",
       "              formula = \"age + nationality + bmi_group\",\n",
       "              p_adj_method = \"holm\", prv_cut = 0.10, lib_cut = 1000,\n",
       "              group = \"bmi_group\", struc_zero = TRUE, neg_lb = FALSE,\n",
       "              tol = 1e-5, max_iter = 100, conserve = TRUE,\n",
       "              alpha = 0.05, global = TRUE, n_cl = 1, verbose = TRUE)\n",
       "\n",
       "res_prim = out$res\n",
       "res_global = out$res_global\n",
       "\n",
       "# to run ancombc using the phyloseq object\n",
       "tse_alt = agglomerateByRank(tse, \"Family\")\n",
       "pseq = makePhyloseqFromTreeSummarizedExperiment(tse_alt)\n",
       "set.seed(123)\n",
       "out = ancombc(data = NULL, assay_name = NULL,\n",
       "              tax_level = \"Family\", phyloseq = pseq,\n",
       "              formula = \"age + nationality + bmi_group\",\n",
       "              p_adj_method = \"holm\", prv_cut = 0.10, lib_cut = 1000,\n",
       "              group = \"bmi_group\", struc_zero = TRUE, neg_lb = FALSE,\n",
       "              tol = 1e-5, max_iter = 100, conserve = TRUE,\n",
       "              alpha = 0.05, global = TRUE, n_cl = 1, verbose = TRUE)\n",
       "\n",
       "</code></pre>\n",
       "\n",
       "<hr /><div style=\"text-align: center;\">[Package <em>ANCOMBC</em> version 2.4.0 ]</div>\n",
       "</div>"
      ],
      "text/latex": [
       "\\inputencoding{utf8}\n",
       "\\HeaderA{ancombc}{Analysis of Compositions of Microbiomes with Bias Correction (ANCOM-BC)}{ancombc}\n",
       "%\n",
       "\\begin{Description}\n",
       "Determine taxa whose absolute abundances, per unit volume, of\n",
       "the ecosystem (e.g., gut) are significantly different with changes in the\n",
       "covariate of interest (e.g., group). The current version of\n",
       "\\code{ancombc} function implements Analysis of Compositions of Microbiomes\n",
       "with Bias Correction (ANCOM-BC) in cross-sectional data while allowing\n",
       "for covariate adjustment.\n",
       "\\end{Description}\n",
       "%\n",
       "\\begin{Usage}\n",
       "\\begin{verbatim}\n",
       "ancombc(\n",
       "  data = NULL,\n",
       "  assay.type = NULL,\n",
       "  assay_name = \"counts\",\n",
       "  rank = NULL,\n",
       "  tax_level = NULL,\n",
       "  phyloseq = NULL,\n",
       "  formula,\n",
       "  p_adj_method = \"holm\",\n",
       "  prv_cut = 0.1,\n",
       "  lib_cut = 0,\n",
       "  group = NULL,\n",
       "  struc_zero = FALSE,\n",
       "  neg_lb = FALSE,\n",
       "  tol = 1e-05,\n",
       "  max_iter = 100,\n",
       "  conserve = FALSE,\n",
       "  alpha = 0.05,\n",
       "  global = FALSE,\n",
       "  n_cl = 1,\n",
       "  verbose = FALSE\n",
       ")\n",
       "\\end{verbatim}\n",
       "\\end{Usage}\n",
       "%\n",
       "\\begin{Arguments}\n",
       "\\begin{ldescription}\n",
       "\\item[\\code{data}] the input data. The \\code{data} parameter should be either a\n",
       "\\code{phyloseq} or a \\code{TreeSummarizedExperiment} object, which\n",
       "consists of a feature table (microbial count table), a sample metadata table,\n",
       "a taxonomy table (optional), and a phylogenetic tree (optional).\n",
       "Ensure that the row names of the metadata table match the sample names in the\n",
       "feature table, and the row names of the taxonomy table match the taxon\n",
       "(feature) names in the feature table. For detailed information, refer to\n",
       "\\code{?phyloseq::phyloseq} or\n",
       "\\code{?TreeSummarizedExperiment::TreeSummarizedExperiment}.\n",
       "\n",
       "\\item[\\code{assay.type}] alias for \\code{assay\\_name}.\n",
       "\n",
       "\\item[\\code{assay\\_name}] character. Name of the count table in the data object\n",
       "(only applicable if data object is a \\code{(Tree)SummarizedExperiment}).\n",
       "Default is \"counts\".\n",
       "See \\code{?SummarizedExperiment::assay} for more details.\n",
       "\n",
       "\\item[\\code{rank}] alias for \\code{tax\\_level}.\n",
       "\n",
       "\\item[\\code{tax\\_level}] character. The taxonomic level of interest. The input data\n",
       "can be agglomerated at different taxonomic levels based on your research\n",
       "interest. Default is NULL, i.e., do not perform agglomeration, and the\n",
       "ANCOM-BC anlysis will be performed at the lowest taxonomic level of the\n",
       "input \\code{data}.\n",
       "\n",
       "\\item[\\code{phyloseq}] a \\code{phyloseq} object. Will be deprecated.\n",
       "\n",
       "\\item[\\code{formula}] the character string expresses how microbial absolute\n",
       "abundances for each taxon depend on the variables in metadata. When\n",
       "specifying the \\code{formula}, make sure to include the \\code{group} variable\n",
       "in the formula if it is not NULL.\n",
       "\n",
       "\\item[\\code{p\\_adj\\_method}] character. method to adjust p-values. Default is \"holm\".\n",
       "Options include \"holm\", \"hochberg\", \"hommel\", \"bonferroni\", \"BH\", \"BY\",\n",
       "\"fdr\", \"none\". See \\code{?stats::p.adjust} for more details.\n",
       "\n",
       "\\item[\\code{prv\\_cut}] a numerical fraction between 0 and 1. Taxa with prevalences\n",
       "(the proportion of samples in which the taxon is present)\n",
       "less than \\code{prv\\_cut} will be excluded in the analysis. For example,\n",
       "if there are 100 samples, and a taxon has nonzero counts present in less than\n",
       "100*prv\\_cut samples, it will not be considered in the analysis.\n",
       "Default is 0.10.\n",
       "\n",
       "\\item[\\code{lib\\_cut}] a numerical threshold for filtering samples based on library\n",
       "sizes. Samples with library sizes less than \\code{lib\\_cut} will be\n",
       "excluded in the analysis. Default is 0, i.e. do not discard any sample.\n",
       "\n",
       "\\item[\\code{group}] character. the name of the group variable in metadata.\n",
       "The \\code{group} parameter should be a character string representing the name\n",
       "of the group variable in the metadata. The \\code{group} variable should be\n",
       "discrete, meaning it consists of categorical values. Specifying the\n",
       "\\code{group} variable is required if you are interested in detecting\n",
       "structural zeros and performing global tests. However, if these analyses are\n",
       "not of interest to you, you can leave the \\code{group} parameter as NULL.\n",
       "If the \\code{group} variable of interest contains only two categories, you\n",
       "can also leave the \\code{group} parameter as NULL. Default is NULL.\n",
       "\n",
       "\\item[\\code{struc\\_zero}] logical. whether to detect structural zeros based on\n",
       "\\code{group}. Default is FALSE.\n",
       "\n",
       "\\item[\\code{neg\\_lb}] logical. whether to classify a taxon as a structural zero using\n",
       "its asymptotic lower bound. Default is FALSE.\n",
       "\n",
       "\\item[\\code{tol}] numeric. the iteration convergence tolerance for the E-M\n",
       "algorithm. Default is 1e-05.\n",
       "\n",
       "\\item[\\code{max\\_iter}] numeric. the maximum number of iterations for the E-M\n",
       "algorithm. Default is 100.\n",
       "\n",
       "\\item[\\code{conserve}] logical. whether to use a conservative variance estimator for\n",
       "the test statistic. It is recommended if the sample size is small and/or\n",
       "the number of differentially abundant taxa is believed to be large.\n",
       "Default is FALSE.\n",
       "\n",
       "\\item[\\code{alpha}] numeric. level of significance. Default is 0.05.\n",
       "\n",
       "\\item[\\code{global}] logical. whether to perform the global test. Default is FALSE.\n",
       "\n",
       "\\item[\\code{n\\_cl}] numeric. The number of nodes to be forked. For details, see\n",
       "\\code{?parallel::makeCluster}. Default is 1 (no parallel computing).\n",
       "\n",
       "\\item[\\code{verbose}] logical. Whether to generate verbose output during the\n",
       "ANCOM-BC fitting process. Default is FALSE.\n",
       "\\end{ldescription}\n",
       "\\end{Arguments}\n",
       "%\n",
       "\\begin{Details}\n",
       "A taxon is considered to have structural zeros in some (>=1)\n",
       "groups if it is completely (or nearly completely) missing in these groups.\n",
       "For instance, suppose there are three groups: g1, g2, and g3.\n",
       "If the counts of taxon A in g1 are 0 but nonzero in g2 and g3,\n",
       "then taxon A will be considered to contain structural zeros in g1.\n",
       "In this example, taxon A is declared to be differentially abundant between\n",
       "g1 and g2, g1 and g3, and consequently, it is globally differentially\n",
       "abundant with respect to this group variable.\n",
       "Such taxa are not further analyzed using ANCOM-BC, but the results are\n",
       "summarized in the overall summary. For more details about the structural\n",
       "zeros, please go to the\n",
       "\\Rhref{https://doi.org/10.3389/fmicb.2017.02114}{ANCOM-II} paper.\n",
       "Setting \\code{neg\\_lb = TRUE} indicates that you are using both criteria\n",
       "stated in section 3.2 of\n",
       "\\Rhref{https://doi.org/10.3389/fmicb.2017.02114}{ANCOM-II}\n",
       "to detect structural zeros; otherwise, the algorithm will only use the\n",
       "equation 1 in section 3.2 for declaring structural zeros. Generally, it is\n",
       "recommended to set \\code{neg\\_lb = TRUE} when the sample size per group is\n",
       "relatively large (e.g. > 30).\n",
       "\\end{Details}\n",
       "%\n",
       "\\begin{Value}\n",
       "a \\code{list} with components:\n",
       "\\begin{itemize}\n",
       "\n",
       "\\item{}  \\code{feature\\_table}, a \\code{data.frame} of pre-processed\n",
       "(based on \\code{prv\\_cut} and \\code{lib\\_cut}) microbial count table.\n",
       "\\item{}  \\code{zero\\_ind}, a logical \\code{data.frame} with TRUE\n",
       "indicating the taxon is detected to contain structural zeros in\n",
       "some specific groups.\n",
       "\\item{}  \\code{samp\\_frac}, a numeric vector of estimated sampling\n",
       "fractions in log scale (natural log).\n",
       "\\item{}  \\code{delta\\_em}, estimated sample-specific biases\n",
       "through E-M algorithm.\n",
       "\\item{}  \\code{delta\\_wls}, estimated sample-specific biases through\n",
       "weighted least squares (WLS) algorithm.\n",
       "\\item{}  \\code{res},  a \\code{list} containing ANCOM-BC primary result,\n",
       "which consists of:\n",
       "\\begin{itemize}\n",
       "\n",
       "\\item{}  \\code{lfc}, a \\code{data.frame} of log fold changes\n",
       "obtained from the ANCOM-BC log-linear (natural log) model.\n",
       "\\item{}  \\code{se}, a \\code{data.frame} of standard errors (SEs) of\n",
       "\\code{lfc}.\n",
       "\\item{}  \\code{W}, a \\code{data.frame} of test statistics.\n",
       "\\code{W = lfc/se}.\n",
       "\\item{}  \\code{p\\_val}, a \\code{data.frame} of p-values. P-values are\n",
       "obtained from two-sided Z-test using the test statistic \\code{W}.\n",
       "\\item{}  \\code{q\\_val}, a \\code{data.frame} of adjusted p-values.\n",
       "Adjusted p-values are obtained by applying \\code{p\\_adj\\_method}\n",
       "to \\code{p\\_val}.\n",
       "\\item{}  \\code{diff\\_abn}, a logical \\code{data.frame}. TRUE if the\n",
       "taxon has \\code{q\\_val} less than \\code{alpha}.\n",
       "\n",
       "\\end{itemize}\n",
       "\n",
       "\\item{}  \\code{res\\_global},  a \\code{data.frame} containing ANCOM-BC\n",
       "global test result for the variable specified in \\code{group},\n",
       "each column is:\n",
       "\\begin{itemize}\n",
       "\n",
       "\\item{}  \\code{W}, test statistics.\n",
       "\\item{}  \\code{p\\_val}, p-values, which are obtained from two-sided\n",
       "Chi-square test using \\code{W}.\n",
       "\\item{}  \\code{q\\_val}, adjusted p-values. Adjusted p-values are\n",
       "obtained by applying \\code{p\\_adj\\_method} to \\code{p\\_val}.\n",
       "\\item{}  \\code{diff\\_abn}, A logical vector. TRUE if the taxon has\n",
       "\\code{q\\_val} less than \\code{alpha}.\n",
       "\n",
       "\\end{itemize}\n",
       "\n",
       "\n",
       "\\end{itemize}\n",
       "\n",
       "\\end{Value}\n",
       "%\n",
       "\\begin{Author}\n",
       "Huang Lin\n",
       "\\end{Author}\n",
       "%\n",
       "\\begin{References}\n",
       "Kaul A, Mandal S, Davidov O, Peddada SD (2017).\n",
       "``Analysis of microbiome data in the presence of excess zeros.''\n",
       "\\emph{Frontiers in microbiology}, \\bold{8}, 2114.\n",
       "\n",
       "Lin H, Peddada SD (2020).\n",
       "``Analysis of compositions of microbiomes with bias correction.''\n",
       "\\emph{Nature communications}, \\bold{11}(1), 1--11.\n",
       "\\end{References}\n",
       "%\n",
       "\\begin{SeeAlso}\n",
       "\\code{\\LinkA{ancom}{ancom}} \\code{\\LinkA{ancombc2}{ancombc2}}\n",
       "\\end{SeeAlso}\n",
       "%\n",
       "\\begin{Examples}\n",
       "\\begin{ExampleCode}\n",
       "#===========Build a TreeSummarizedExperiment Object from Scratch=============\n",
       "library(mia)\n",
       "\n",
       "# microbial count table\n",
       "otu_mat = matrix(sample(1:100, 100, replace = TRUE), nrow = 10, ncol = 10)\n",
       "rownames(otu_mat) = paste0(\"taxon\", 1:nrow(otu_mat))\n",
       "colnames(otu_mat) = paste0(\"sample\", 1:ncol(otu_mat))\n",
       "assays = SimpleList(counts = otu_mat)\n",
       "\n",
       "# sample metadata\n",
       "smd = data.frame(group = sample(LETTERS[1:4], size = 10, replace = TRUE),\n",
       "                 row.names = paste0(\"sample\", 1:ncol(otu_mat)),\n",
       "                 stringsAsFactors = FALSE)\n",
       "smd = DataFrame(smd)\n",
       "\n",
       "# taxonomy table\n",
       "tax_tab = matrix(sample(letters, 70, replace = TRUE),\n",
       "                 nrow = nrow(otu_mat), ncol = 7)\n",
       "rownames(tax_tab) = rownames(otu_mat)\n",
       "colnames(tax_tab) = c(\"Kingdom\", \"Phylum\", \"Class\", \"Order\",\n",
       "                      \"Family\", \"Genus\", \"Species\")\n",
       "tax_tab = DataFrame(tax_tab)\n",
       "\n",
       "# create TSE\n",
       "tse = TreeSummarizedExperiment(assays = assays,\n",
       "                               colData = smd,\n",
       "                               rowData = tax_tab)\n",
       "\n",
       "# convert TSE to phyloseq\n",
       "pseq = makePhyloseqFromTreeSummarizedExperiment(tse)\n",
       "\n",
       "#========================Run ANCOMBC Using a Real Data=======================\n",
       "library(ANCOMBC)\n",
       "data(atlas1006, package = \"microbiome\")\n",
       "tse = mia::makeTreeSummarizedExperimentFromPhyloseq(atlas1006)\n",
       "\n",
       "# subset to baseline\n",
       "tse = tse[, tse$time == 0]\n",
       "\n",
       "# run ancombc function\n",
       "set.seed(123)\n",
       "out = ancombc(data = tse, assay_name = \"counts\",\n",
       "              tax_level = \"Family\", phyloseq = NULL,\n",
       "              formula = \"age + nationality + bmi_group\",\n",
       "              p_adj_method = \"holm\", prv_cut = 0.10, lib_cut = 1000,\n",
       "              group = \"bmi_group\", struc_zero = TRUE, neg_lb = FALSE,\n",
       "              tol = 1e-5, max_iter = 100, conserve = TRUE,\n",
       "              alpha = 0.05, global = TRUE, n_cl = 1, verbose = TRUE)\n",
       "\n",
       "res_prim = out$res\n",
       "res_global = out$res_global\n",
       "\n",
       "# to run ancombc using the phyloseq object\n",
       "tse_alt = agglomerateByRank(tse, \"Family\")\n",
       "pseq = makePhyloseqFromTreeSummarizedExperiment(tse_alt)\n",
       "set.seed(123)\n",
       "out = ancombc(data = NULL, assay_name = NULL,\n",
       "              tax_level = \"Family\", phyloseq = pseq,\n",
       "              formula = \"age + nationality + bmi_group\",\n",
       "              p_adj_method = \"holm\", prv_cut = 0.10, lib_cut = 1000,\n",
       "              group = \"bmi_group\", struc_zero = TRUE, neg_lb = FALSE,\n",
       "              tol = 1e-5, max_iter = 100, conserve = TRUE,\n",
       "              alpha = 0.05, global = TRUE, n_cl = 1, verbose = TRUE)\n",
       "\n",
       "\\end{ExampleCode}\n",
       "\\end{Examples}"
      ],
      "text/plain": [
       "ancombc                package:ANCOMBC                 R Documentation\n",
       "\n",
       "_\bA_\bn_\ba_\bl_\by_\bs_\bi_\bs _\bo_\bf _\bC_\bo_\bm_\bp_\bo_\bs_\bi_\bt_\bi_\bo_\bn_\bs _\bo_\bf _\bM_\bi_\bc_\br_\bo_\bb_\bi_\bo_\bm_\be_\bs _\bw_\bi_\bt_\bh _\bB_\bi_\ba_\bs _\bC_\bo_\br_\br_\be_\bc_\bt_\bi_\bo_\bn (_\bA_\bN_\bC_\bO_\bM-_\bB_\bC)\n",
       "\n",
       "_\bD_\be_\bs_\bc_\br_\bi_\bp_\bt_\bi_\bo_\bn:\n",
       "\n",
       "     Determine taxa whose absolute abundances, per unit volume, of the\n",
       "     ecosystem (e.g., gut) are significantly different with changes in\n",
       "     the covariate of interest (e.g., group). The current version of\n",
       "     'ancombc' function implements Analysis of Compositions of\n",
       "     Microbiomes with Bias Correction (ANCOM-BC) in cross-sectional\n",
       "     data while allowing for covariate adjustment.\n",
       "\n",
       "_\bU_\bs_\ba_\bg_\be:\n",
       "\n",
       "     ancombc(\n",
       "       data = NULL,\n",
       "       assay.type = NULL,\n",
       "       assay_name = \"counts\",\n",
       "       rank = NULL,\n",
       "       tax_level = NULL,\n",
       "       phyloseq = NULL,\n",
       "       formula,\n",
       "       p_adj_method = \"holm\",\n",
       "       prv_cut = 0.1,\n",
       "       lib_cut = 0,\n",
       "       group = NULL,\n",
       "       struc_zero = FALSE,\n",
       "       neg_lb = FALSE,\n",
       "       tol = 1e-05,\n",
       "       max_iter = 100,\n",
       "       conserve = FALSE,\n",
       "       alpha = 0.05,\n",
       "       global = FALSE,\n",
       "       n_cl = 1,\n",
       "       verbose = FALSE\n",
       "     )\n",
       "     \n",
       "_\bA_\br_\bg_\bu_\bm_\be_\bn_\bt_\bs:\n",
       "\n",
       "    data: the input data. The 'data' parameter should be either a\n",
       "          'phyloseq' or a 'TreeSummarizedExperiment' object, which\n",
       "          consists of a feature table (microbial count table), a sample\n",
       "          metadata table, a taxonomy table (optional), and a\n",
       "          phylogenetic tree (optional). Ensure that the row names of\n",
       "          the metadata table match the sample names in the feature\n",
       "          table, and the row names of the taxonomy table match the\n",
       "          taxon (feature) names in the feature table. For detailed\n",
       "          information, refer to '?phyloseq::phyloseq' or\n",
       "          '?TreeSummarizedExperiment::TreeSummarizedExperiment'.\n",
       "\n",
       "assay.type: alias for 'assay_name'.\n",
       "\n",
       "assay_name: character. Name of the count table in the data object (only\n",
       "          applicable if data object is a '(Tree)SummarizedExperiment').\n",
       "          Default is \"counts\". See '?SummarizedExperiment::assay' for\n",
       "          more details.\n",
       "\n",
       "    rank: alias for 'tax_level'.\n",
       "\n",
       "tax_level: character. The taxonomic level of interest. The input data\n",
       "          can be agglomerated at different taxonomic levels based on\n",
       "          your research interest. Default is NULL, i.e., do not perform\n",
       "          agglomeration, and the ANCOM-BC anlysis will be performed at\n",
       "          the lowest taxonomic level of the input 'data'.\n",
       "\n",
       "phyloseq: a 'phyloseq' object. Will be deprecated.\n",
       "\n",
       " formula: the character string expresses how microbial absolute\n",
       "          abundances for each taxon depend on the variables in\n",
       "          metadata. When specifying the 'formula', make sure to include\n",
       "          the 'group' variable in the formula if it is not NULL.\n",
       "\n",
       "p_adj_method: character. method to adjust p-values. Default is \"holm\".\n",
       "          Options include \"holm\", \"hochberg\", \"hommel\", \"bonferroni\",\n",
       "          \"BH\", \"BY\", \"fdr\", \"none\". See '?stats::p.adjust' for more\n",
       "          details.\n",
       "\n",
       " prv_cut: a numerical fraction between 0 and 1. Taxa with prevalences\n",
       "          (the proportion of samples in which the taxon is present)\n",
       "          less than 'prv_cut' will be excluded in the analysis. For\n",
       "          example, if there are 100 samples, and a taxon has nonzero\n",
       "          counts present in less than 100*prv_cut samples, it will not\n",
       "          be considered in the analysis. Default is 0.10.\n",
       "\n",
       " lib_cut: a numerical threshold for filtering samples based on library\n",
       "          sizes. Samples with library sizes less than 'lib_cut' will be\n",
       "          excluded in the analysis. Default is 0, i.e. do not discard\n",
       "          any sample.\n",
       "\n",
       "   group: character. the name of the group variable in metadata. The\n",
       "          'group' parameter should be a character string representing\n",
       "          the name of the group variable in the metadata. The 'group'\n",
       "          variable should be discrete, meaning it consists of\n",
       "          categorical values. Specifying the 'group' variable is\n",
       "          required if you are interested in detecting structural zeros\n",
       "          and performing global tests. However, if these analyses are\n",
       "          not of interest to you, you can leave the 'group' parameter\n",
       "          as NULL. If the 'group' variable of interest contains only\n",
       "          two categories, you can also leave the 'group' parameter as\n",
       "          NULL. Default is NULL.\n",
       "\n",
       "struc_zero: logical. whether to detect structural zeros based on\n",
       "          'group'. Default is FALSE.\n",
       "\n",
       "  neg_lb: logical. whether to classify a taxon as a structural zero\n",
       "          using its asymptotic lower bound. Default is FALSE.\n",
       "\n",
       "     tol: numeric. the iteration convergence tolerance for the E-M\n",
       "          algorithm. Default is 1e-05.\n",
       "\n",
       "max_iter: numeric. the maximum number of iterations for the E-M\n",
       "          algorithm. Default is 100.\n",
       "\n",
       "conserve: logical. whether to use a conservative variance estimator for\n",
       "          the test statistic. It is recommended if the sample size is\n",
       "          small and/or the number of differentially abundant taxa is\n",
       "          believed to be large. Default is FALSE.\n",
       "\n",
       "   alpha: numeric. level of significance. Default is 0.05.\n",
       "\n",
       "  global: logical. whether to perform the global test. Default is\n",
       "          FALSE.\n",
       "\n",
       "    n_cl: numeric. The number of nodes to be forked. For details, see\n",
       "          '?parallel::makeCluster'. Default is 1 (no parallel\n",
       "          computing).\n",
       "\n",
       " verbose: logical. Whether to generate verbose output during the\n",
       "          ANCOM-BC fitting process. Default is FALSE.\n",
       "\n",
       "_\bD_\be_\bt_\ba_\bi_\bl_\bs:\n",
       "\n",
       "     A taxon is considered to have structural zeros in some (>=1)\n",
       "     groups if it is completely (or nearly completely) missing in these\n",
       "     groups. For instance, suppose there are three groups: g1, g2, and\n",
       "     g3. If the counts of taxon A in g1 are 0 but nonzero in g2 and g3,\n",
       "     then taxon A will be considered to contain structural zeros in g1.\n",
       "     In this example, taxon A is declared to be differentially abundant\n",
       "     between g1 and g2, g1 and g3, and consequently, it is globally\n",
       "     differentially abundant with respect to this group variable. Such\n",
       "     taxa are not further analyzed using ANCOM-BC, but the results are\n",
       "     summarized in the overall summary. For more details about the\n",
       "     structural zeros, please go to the ANCOM-II paper. Setting 'neg_lb\n",
       "     = TRUE' indicates that you are using both criteria stated in\n",
       "     section 3.2 of ANCOM-II to detect structural zeros; otherwise, the\n",
       "     algorithm will only use the equation 1 in section 3.2 for\n",
       "     declaring structural zeros. Generally, it is recommended to set\n",
       "     'neg_lb = TRUE' when the sample size per group is relatively large\n",
       "     (e.g. > 30).\n",
       "\n",
       "_\bV_\ba_\bl_\bu_\be:\n",
       "\n",
       "     a 'list' with components:\n",
       "\n",
       "        * 'feature_table', a 'data.frame' of pre-processed (based on\n",
       "          'prv_cut' and 'lib_cut') microbial count table.\n",
       "\n",
       "        * 'zero_ind', a logical 'data.frame' with TRUE indicating the\n",
       "          taxon is detected to contain structural zeros in some\n",
       "          specific groups.\n",
       "\n",
       "        * 'samp_frac', a numeric vector of estimated sampling fractions\n",
       "          in log scale (natural log).\n",
       "\n",
       "        * 'delta_em', estimated sample-specific biases through E-M\n",
       "          algorithm.\n",
       "\n",
       "        * 'delta_wls', estimated sample-specific biases through\n",
       "          weighted least squares (WLS) algorithm.\n",
       "\n",
       "        * 'res', a 'list' containing ANCOM-BC primary result, which\n",
       "          consists of:\n",
       "\n",
       "            * 'lfc', a 'data.frame' of log fold changes obtained from\n",
       "              the ANCOM-BC log-linear (natural log) model.\n",
       "\n",
       "            * 'se', a 'data.frame' of standard errors (SEs) of 'lfc'.\n",
       "\n",
       "            * 'W', a 'data.frame' of test statistics.  'W = lfc/se'.\n",
       "\n",
       "            * 'p_val', a 'data.frame' of p-values. P-values are\n",
       "              obtained from two-sided Z-test using the test statistic\n",
       "              'W'.\n",
       "\n",
       "            * 'q_val', a 'data.frame' of adjusted p-values.  Adjusted\n",
       "              p-values are obtained by applying 'p_adj_method' to\n",
       "              'p_val'.\n",
       "\n",
       "            * 'diff_abn', a logical 'data.frame'. TRUE if the taxon has\n",
       "              'q_val' less than 'alpha'.\n",
       "\n",
       "        * 'res_global', a 'data.frame' containing ANCOM-BC global test\n",
       "          result for the variable specified in 'group', each column is:\n",
       "\n",
       "            * 'W', test statistics.\n",
       "\n",
       "            * 'p_val', p-values, which are obtained from two-sided\n",
       "              Chi-square test using 'W'.\n",
       "\n",
       "            * 'q_val', adjusted p-values. Adjusted p-values are\n",
       "              obtained by applying 'p_adj_method' to 'p_val'.\n",
       "\n",
       "            * 'diff_abn', A logical vector. TRUE if the taxon has\n",
       "              'q_val' less than 'alpha'.\n",
       "\n",
       "_\bA_\bu_\bt_\bh_\bo_\br(_\bs):\n",
       "\n",
       "     Huang Lin\n",
       "\n",
       "_\bR_\be_\bf_\be_\br_\be_\bn_\bc_\be_\bs:\n",
       "\n",
       "     Kaul A, Mandal S, Davidov O, Peddada SD (2017). \"Analysis of\n",
       "     microbiome data in the presence of excess zeros.\" _Frontiers in\n",
       "     microbiology_, *8*, 2114.\n",
       "\n",
       "     Lin H, Peddada SD (2020). \"Analysis of compositions of microbiomes\n",
       "     with bias correction.\" _Nature communications_, *11*(1), 1-11.\n",
       "\n",
       "_\bS_\be_\be _\bA_\bl_\bs_\bo:\n",
       "\n",
       "     'ancom' 'ancombc2'\n",
       "\n",
       "_\bE_\bx_\ba_\bm_\bp_\bl_\be_\bs:\n",
       "\n",
       "     #===========Build a TreeSummarizedExperiment Object from Scratch=============\n",
       "     library(mia)\n",
       "     \n",
       "     # microbial count table\n",
       "     otu_mat = matrix(sample(1:100, 100, replace = TRUE), nrow = 10, ncol = 10)\n",
       "     rownames(otu_mat) = paste0(\"taxon\", 1:nrow(otu_mat))\n",
       "     colnames(otu_mat) = paste0(\"sample\", 1:ncol(otu_mat))\n",
       "     assays = SimpleList(counts = otu_mat)\n",
       "     \n",
       "     # sample metadata\n",
       "     smd = data.frame(group = sample(LETTERS[1:4], size = 10, replace = TRUE),\n",
       "                      row.names = paste0(\"sample\", 1:ncol(otu_mat)),\n",
       "                      stringsAsFactors = FALSE)\n",
       "     smd = DataFrame(smd)\n",
       "     \n",
       "     # taxonomy table\n",
       "     tax_tab = matrix(sample(letters, 70, replace = TRUE),\n",
       "                      nrow = nrow(otu_mat), ncol = 7)\n",
       "     rownames(tax_tab) = rownames(otu_mat)\n",
       "     colnames(tax_tab) = c(\"Kingdom\", \"Phylum\", \"Class\", \"Order\",\n",
       "                           \"Family\", \"Genus\", \"Species\")\n",
       "     tax_tab = DataFrame(tax_tab)\n",
       "     \n",
       "     # create TSE\n",
       "     tse = TreeSummarizedExperiment(assays = assays,\n",
       "                                    colData = smd,\n",
       "                                    rowData = tax_tab)\n",
       "     \n",
       "     # convert TSE to phyloseq\n",
       "     pseq = makePhyloseqFromTreeSummarizedExperiment(tse)\n",
       "     \n",
       "     #========================Run ANCOMBC Using a Real Data=======================\n",
       "     library(ANCOMBC)\n",
       "     data(atlas1006, package = \"microbiome\")\n",
       "     tse = mia::makeTreeSummarizedExperimentFromPhyloseq(atlas1006)\n",
       "     \n",
       "     # subset to baseline\n",
       "     tse = tse[, tse$time == 0]\n",
       "     \n",
       "     # run ancombc function\n",
       "     set.seed(123)\n",
       "     out = ancombc(data = tse, assay_name = \"counts\",\n",
       "                   tax_level = \"Family\", phyloseq = NULL,\n",
       "                   formula = \"age + nationality + bmi_group\",\n",
       "                   p_adj_method = \"holm\", prv_cut = 0.10, lib_cut = 1000,\n",
       "                   group = \"bmi_group\", struc_zero = TRUE, neg_lb = FALSE,\n",
       "                   tol = 1e-5, max_iter = 100, conserve = TRUE,\n",
       "                   alpha = 0.05, global = TRUE, n_cl = 1, verbose = TRUE)\n",
       "     \n",
       "     res_prim = out$res\n",
       "     res_global = out$res_global\n",
       "     \n",
       "     # to run ancombc using the phyloseq object\n",
       "     tse_alt = agglomerateByRank(tse, \"Family\")\n",
       "     pseq = makePhyloseqFromTreeSummarizedExperiment(tse_alt)\n",
       "     set.seed(123)\n",
       "     out = ancombc(data = NULL, assay_name = NULL,\n",
       "                   tax_level = \"Family\", phyloseq = pseq,\n",
       "                   formula = \"age + nationality + bmi_group\",\n",
       "                   p_adj_method = \"holm\", prv_cut = 0.10, lib_cut = 1000,\n",
       "                   group = \"bmi_group\", struc_zero = TRUE, neg_lb = FALSE,\n",
       "                   tol = 1e-5, max_iter = 100, conserve = TRUE,\n",
       "                   alpha = 0.05, global = TRUE, n_cl = 1, verbose = TRUE)\n",
       "     "
      ]
     },
     "metadata": {},
     "output_type": "display_data"
    }
   ],
   "source": [
    "help(ancombc)"
   ]
  },
  {
   "cell_type": "code",
   "execution_count": null,
   "id": "9d3d866e-2970-4442-936f-c00ddbaaf94f",
   "metadata": {},
   "outputs": [],
   "source": []
  }
 ],
 "metadata": {
  "kernelspec": {
   "display_name": "R",
   "language": "R",
   "name": "ir"
  },
  "language_info": {
   "codemirror_mode": "r",
   "file_extension": ".r",
   "mimetype": "text/x-r-source",
   "name": "R",
   "pygments_lexer": "r",
   "version": "4.3.2"
  }
 },
 "nbformat": 4,
 "nbformat_minor": 5
}
